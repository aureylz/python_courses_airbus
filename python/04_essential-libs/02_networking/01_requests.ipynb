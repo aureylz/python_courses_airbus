{
 "cells": [
  {
   "cell_type": "markdown",
   "id": "01feddc4",
   "metadata": {},
   "source": [
    "# Requests"
   ]
  },
  {
   "cell_type": "markdown",
   "id": "e04f3d0a",
   "metadata": {},
   "source": [
    "1. [What is this?](#What-is-this?)\n",
    "2. [How to install?](#How-to-install?)\n",
    "3. [How to use it?](#How-to-use-it?)\n",
    "    1. [Development](#Development)\n",
    "    2. [Usage](#Usage)\n",
    "4. [References](#References)"
   ]
  },
  {
   "cell_type": "markdown",
   "id": "88143b2d",
   "metadata": {},
   "source": [
    "## What is this?"
   ]
  },
  {
   "cell_type": "markdown",
   "id": "a9cd2ad1",
   "metadata": {},
   "source": [
    "Requests is a library that allows you to make HTTP Requests with a simple fashion."
   ]
  },
  {
   "cell_type": "markdown",
   "id": "fe752b62",
   "metadata": {},
   "source": [
    "### HTTP request?"
   ]
  },
  {
   "cell_type": "markdown",
   "id": "ded5702c",
   "metadata": {},
   "source": [
    "When we want to request something on a web services, we use the HyperText Transfer Protocol (HTTP).\n",
    "\n",
    "This allows so to collect the content of a web page or to make API call."
   ]
  },
  {
   "cell_type": "markdown",
   "id": "ffdbed99",
   "metadata": {},
   "source": [
    "### URL design"
   ]
  },
  {
   "cell_type": "raw",
   "id": "fa17212e",
   "metadata": {},
   "source": [
    "scheme://host:port/path?query"
   ]
  },
  {
   "cell_type": "markdown",
   "id": "c78dad62",
   "metadata": {},
   "source": [
    "The URI is the part which identify the resources, so corresponding to \"path?query\""
   ]
  },
  {
   "cell_type": "markdown",
   "id": "0262c138",
   "metadata": {},
   "source": [
    "## How to install?"
   ]
  },
  {
   "cell_type": "code",
   "execution_count": null,
   "id": "8d713f74",
   "metadata": {},
   "outputs": [],
   "source": [
    "%pip install requests"
   ]
  },
  {
   "cell_type": "markdown",
   "id": "85138811",
   "metadata": {},
   "source": [
    "_Tips_: Think to add it in your __requirements.txt__ file"
   ]
  },
  {
   "cell_type": "markdown",
   "id": "2c56d0d3",
   "metadata": {},
   "source": [
    "## How to use it?"
   ]
  },
  {
   "cell_type": "markdown",
   "id": "1d23d553",
   "metadata": {},
   "source": [
    "### Development"
   ]
  },
  {
   "cell_type": "markdown",
   "id": "ec707535",
   "metadata": {},
   "source": [
    "#### Import the module"
   ]
  },
  {
   "cell_type": "code",
   "execution_count": null,
   "id": "d2b1423e",
   "metadata": {},
   "outputs": [],
   "source": [
    "import requests"
   ]
  },
  {
   "cell_type": "markdown",
   "id": "de6995b4",
   "metadata": {},
   "source": [
    "#### Integrate it in your code"
   ]
  },
  {
   "cell_type": "code",
   "execution_count": null,
   "id": "1edb8870",
   "metadata": {},
   "outputs": [],
   "source": [
    "# Object containing the data from the URL\n",
    "response = requests.get(\"https://python.org\")\n",
    "    \n",
    "# Print the HTTP status code of the request: <Response [200]>\n",
    "print(response)\n",
    "    \n",
    "# Print the body of the response as text content\n",
    "print(response.text)"
   ]
  },
  {
   "cell_type": "markdown",
   "id": "655687de",
   "metadata": {},
   "source": [
    "### Usage"
   ]
  },
  {
   "cell_type": "markdown",
   "id": "55a724a9",
   "metadata": {},
   "source": [
    "Query parameters and headers can be added like this:"
   ]
  },
  {
   "cell_type": "code",
   "execution_count": null,
   "id": "a064b888",
   "metadata": {},
   "outputs": [],
   "source": [
    "response = requests.get(\n",
    "    'https://api.github.com/search/repositories',\n",
    "    params={'q': 'requests+language:python'},\n",
    "    headers={'Accept': 'application/vnd.github.v3.text-match+json'},\n",
    ")"
   ]
  },
  {
   "cell_type": "markdown",
   "id": "633bf5b4",
   "metadata": {},
   "source": [
    "You can simply use all HTTP verbs like this:"
   ]
  },
  {
   "cell_type": "code",
   "execution_count": null,
   "id": "caab0bf4",
   "metadata": {},
   "outputs": [],
   "source": [
    "requests.post('https://httpbin.org/post', data={'key':'value'})\n",
    "requests.put('https://httpbin.org/put', data={'key':'value'})\n",
    "requests.delete('https://httpbin.org/delete')\n",
    "requests.head('https://httpbin.org/get')\n",
    "requests.patch('https://httpbin.org/patch', data={'key':'value'})\n",
    "requests.options('https://httpbin.org/get')"
   ]
  },
  {
   "cell_type": "markdown",
   "id": "8fbfa610",
   "metadata": {},
   "source": [
    "The ```response``` will allow you to retrieve everything you need:"
   ]
  },
  {
   "cell_type": "code",
   "execution_count": null,
   "id": "fb29ece2",
   "metadata": {},
   "outputs": [],
   "source": [
    "response.status_code # Will print the status, 200 if everything is ok\n",
    "response.text # Will print the response text\n",
    "response.json() # Will print the response formatted in json, very useful for API calls"
   ]
  },
  {
   "cell_type": "markdown",
   "id": "120b6bc9",
   "metadata": {},
   "source": [
    "## References"
   ]
  },
  {
   "cell_type": "markdown",
   "id": "a5caf60f",
   "metadata": {},
   "source": [
    "- https://requests.readthedocs.io/en/latest/\n",
    "- https://en.wikipedia.org/wiki/Hypertext_Transfer_Protocol"
   ]
  }
 ],
 "metadata": {
  "kernelspec": {
   "display_name": "Python 3 (ipykernel)",
   "language": "python",
   "name": "python3"
  },
  "language_info": {
   "codemirror_mode": {
    "name": "ipython",
    "version": 3
   },
   "file_extension": ".py",
   "mimetype": "text/x-python",
   "name": "python",
   "nbconvert_exporter": "python",
   "pygments_lexer": "ipython3",
   "version": "3.9.10"
  }
 },
 "nbformat": 4,
 "nbformat_minor": 5
}
