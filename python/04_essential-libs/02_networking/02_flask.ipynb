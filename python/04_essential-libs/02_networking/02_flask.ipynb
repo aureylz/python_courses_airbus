{
 "cells": [
  {
   "cell_type": "markdown",
   "id": "01feddc4",
   "metadata": {},
   "source": [
    "# Flask"
   ]
  },
  {
   "cell_type": "markdown",
   "id": "e04f3d0a",
   "metadata": {},
   "source": [
    "1. [What is this?](#What-is-this?)\n",
    "2. [How to install?](#How-to-install?)\n",
    "3. [How to use it?](#How-to-use-it?)\n",
    "    1. [Development](#Development)\n",
    "    2. [Usage](#Usage)\n",
    "4. [References](#References)"
   ]
  },
  {
   "cell_type": "markdown",
   "id": "88143b2d",
   "metadata": {},
   "source": [
    "## What is this?"
   ]
  },
  {
   "cell_type": "markdown",
   "id": "a9cd2ad1",
   "metadata": {},
   "source": [
    "Flask is a micro web framework written in Python.\n",
    "It is classified as a microframework because it does not require particular tools or libraries.\n",
    "\n",
    "It has no database abstraction layer, form validation, or any other components where pre-existing third-party libraries provide common functions."
   ]
  },
  {
   "cell_type": "markdown",
   "id": "fe752b62",
   "metadata": {},
   "source": [
    "### Web framework?"
   ]
  },
  {
   "cell_type": "markdown",
   "id": "ded5702c",
   "metadata": {},
   "source": [
    "A web framework (WF) or web application framework (WAF) is a software framework that is designed to support the development of web applications including web services, web resources, and web APIs.\n",
    "Web frameworks provide a standard way to build and deploy web applications on the World Wide Web."
   ]
  },
  {
   "cell_type": "markdown",
   "id": "0262c138",
   "metadata": {},
   "source": [
    "## How to install?"
   ]
  },
  {
   "cell_type": "code",
   "execution_count": null,
   "id": "8d713f74",
   "metadata": {},
   "outputs": [],
   "source": [
    "%pip install Flask"
   ]
  },
  {
   "cell_type": "markdown",
   "id": "85138811",
   "metadata": {},
   "source": [
    "_Tips_: Think to add it in your __requirements.txt__ file"
   ]
  },
  {
   "cell_type": "markdown",
   "id": "2c56d0d3",
   "metadata": {},
   "source": [
    "## How to use it?"
   ]
  },
  {
   "cell_type": "markdown",
   "id": "1d23d553",
   "metadata": {},
   "source": [
    "### Development"
   ]
  },
  {
   "cell_type": "markdown",
   "id": "ec707535",
   "metadata": {},
   "source": [
    "#### Import the module"
   ]
  },
  {
   "cell_type": "code",
   "execution_count": null,
   "id": "d2b1423e",
   "metadata": {},
   "outputs": [],
   "source": [
    "from flask import Flask"
   ]
  },
  {
   "cell_type": "markdown",
   "id": "de6995b4",
   "metadata": {},
   "source": [
    "#### Integrate it in your code"
   ]
  },
  {
   "cell_type": "code",
   "execution_count": null,
   "id": "1edb8870",
   "metadata": {},
   "outputs": [],
   "source": [
    "# Declare a new Flask API server\n",
    "app = Flask(__name__)\n",
    "\n",
    "\n",
    "# Define an API path\n",
    "@app.route(\"/\")\n",
    "def hello_world():\n",
    "    # Define the content of the reply\n",
    "    return \"<p>Hello, World!</p>\"\n",
    "\n",
    "\n",
    "# Start the API web server\n",
    "if __name__ == \"__main__\":\n",
    "    app.run(port=9000)"
   ]
  },
  {
   "cell_type": "markdown",
   "id": "655687de",
   "metadata": {},
   "source": [
    "### Usage"
   ]
  },
  {
   "cell_type": "markdown",
   "id": "55a724a9",
   "metadata": {},
   "source": [
    "Create an API server to provide the following path design (script name: 02_flask.py):\n",
    "\n",
    "- GET    /user/[username]\n",
    "- POST   /user[username]\n",
    "- GET    /post/[id]\n",
    "- DELETE /post/[id]"
   ]
  },
  {
   "cell_type": "code",
   "execution_count": null,
   "id": "a064b888",
   "metadata": {},
   "outputs": [],
   "source": [
    "from flask import Flask, request\n",
    "from markupsafe import escape\n",
    "\n",
    "# List of users\n",
    "users = []\n",
    "\n",
    "# Declare a new Flask API server\n",
    "app = Flask(__name__)\n",
    "\n",
    "\n",
    "@app.route('/user/<username>', methods=['GET', 'POST'])\n",
    "def user_profile(username):\n",
    "    # Select the action according to the verb of the request\n",
    "    if request.method == 'POST':\n",
    "        # Create user vcard\n",
    "        user = {\"username\": username, \"email\": escape(request.form[\"email\"])}\n",
    "\n",
    "        # Add the user profile in the user list\n",
    "        users.append(user)\n",
    "\n",
    "        # Return the result\n",
    "        return f'User {user} added'\n",
    "    else:\n",
    "        # show the user profile for that user\n",
    "        return f'User {escape(username)}'\n",
    "\n",
    "\n",
    "@app.route('/post/<int:post_id>', methods=['GET'])\n",
    "def get_post(post_id):\n",
    "    # show the post with the given id, the id is an integer\n",
    "    return f'Post {post_id}'\n",
    "\n",
    "\n",
    "@app.route('/post/<int:post_id>', methods=['DELETE'])\n",
    "def delete_post(post_id):\n",
    "    # Check if the user name is allowed to perform the action delete\n",
    "    if escape(request.form['username']) != 'toto':\n",
    "        # refuse the deletion\n",
    "        return f\"You can't do it!\"\n",
    "    else:\n",
    "        return f'Post {post_id} deleted'\n",
    "\n",
    "\n",
    "# Start the API web server\n",
    "if __name__ == \"__main__\":\n",
    "\n",
    "    app.run(debug=True, port=9000)\n"
   ]
  },
  {
   "cell_type": "markdown",
   "id": "1b104043",
   "metadata": {},
   "source": [
    "Execute the server"
   ]
  },
  {
   "cell_type": "code",
   "execution_count": null,
   "id": "95895c8b",
   "metadata": {},
   "outputs": [],
   "source": [
    "%env FLASK_APP=02_flask\n",
    "%flask run --host=0.0.0.0"
   ]
  },
  {
   "cell_type": "markdown",
   "id": "633bf5b4",
   "metadata": {},
   "source": [
    "You can now request it to see the result."
   ]
  },
  {
   "cell_type": "markdown",
   "id": "58b0fcdc",
   "metadata": {},
   "source": [
    "With a Python code:"
   ]
  },
  {
   "cell_type": "code",
   "execution_count": null,
   "id": "caab0bf4",
   "metadata": {},
   "outputs": [],
   "source": [
    "import requests\n",
    "\n",
    "url = \"http://localhost:9000\"\n",
    "targets = [\n",
    "    {\"uri\": \"/user/toto\", \"method\": \"get\", \"data\": {}},\n",
    "    {\"uri\": \"/user/toto\", \"method\": \"post\", \"data\": {\"email\": \"toto@airbus.com\"}},\n",
    "    {\"uri\": \"/post/1234\", \"method\": \"get\", \"data\": {}},\n",
    "    {\"uri\": \"/post/1234\", \"method\": \"delete\", \"data\": {\"username\": \"tata\"}},\n",
    "    {\"uri\": \"/post/1234\", \"method\": \"delete\", \"data\": {\"username\": \"toto\"}}\n",
    "]\n",
    "for target in targets:\n",
    "    target['url'] = f\"{url}{target['uri']}\"\n",
    "    result = requests.request(method=target['method'], url=target['url'], data=target['data'])\n",
    "    print(f\"- Target: {target}\\n--> Status: {result.status_code}, Result: {result.text}\")\n"
   ]
  },
  {
   "cell_type": "markdown",
   "id": "24afb3f9",
   "metadata": {},
   "source": [
    "With OS curl command:"
   ]
  },
  {
   "cell_type": "code",
   "execution_count": null,
   "id": "06367a9a",
   "metadata": {},
   "outputs": [],
   "source": [
    "curl http://localhost:8080/user/toto\n",
    "curl -X POST http://localhost:9000/user/toto -H \"Content-Type: application/json\" -d '{\"email\":\"toto@airbus.com\"}'\n",
    "curl -X POST http://localhost:9000/user/toto -H \"Content-Type: application/x-www-form-urlencoded\" -d 'email=toto@airbus.com' \n",
    "        \n",
    "curl -X DELETE http://localhost:9000/post/1234 -H \"Content-Type: application/x-www-form-urlencoded\" -d 'username=tata' \n",
    "curl -X DELETE http://localhost:9000/post/1234 -H \"Content-Type: application/x-www-form-urlencoded\" -d 'username=toto' "
   ]
  },
  {
   "cell_type": "markdown",
   "id": "8fbfa610",
   "metadata": {},
   "source": [
    "What's happen when we request the API with:\n",
    "- non-existing path?\n",
    "- bad argument?"
   ]
  },
  {
   "cell_type": "markdown",
   "id": "120b6bc9",
   "metadata": {},
   "source": [
    "## References"
   ]
  },
  {
   "cell_type": "markdown",
   "id": "a5caf60f",
   "metadata": {},
   "source": [
    "- https://flask.palletsprojects.com/en/2.1.x/quickstart/\n",
    "- https://en.wikipedia.org/wiki/Flask_(web_framework)\n",
    "- https://en.wikipedia.org/wiki/Web_framework"
   ]
  }
 ],
 "metadata": {
  "kernelspec": {
   "display_name": "Python 3 (ipykernel)",
   "language": "python",
   "name": "python3"
  },
  "language_info": {
   "codemirror_mode": {
    "name": "ipython",
    "version": 3
   },
   "file_extension": ".py",
   "mimetype": "text/x-python",
   "name": "python",
   "nbconvert_exporter": "python",
   "pygments_lexer": "ipython3",
   "version": "3.9.10"
  }
 },
 "nbformat": 4,
 "nbformat_minor": 5
}
