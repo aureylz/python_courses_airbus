{
 "cells": [
  {
   "cell_type": "markdown",
   "id": "01feddc4",
   "metadata": {},
   "source": [
    "# FastAPI"
   ]
  },
  {
   "cell_type": "markdown",
   "id": "e04f3d0a",
   "metadata": {},
   "source": [
    "1. [What is this?](#What-is-this?)\n",
    "2. [How to install?](#How-to-install?)\n",
    "3. [How to use it?](#How-to-use-it?)\n",
    "    1. [Development](#Development)\n",
    "    2. [Usage](#Usage)\n",
    "4. [References](#References)"
   ]
  },
  {
   "cell_type": "markdown",
   "id": "88143b2d",
   "metadata": {},
   "source": [
    "## What is this?"
   ]
  },
  {
   "cell_type": "markdown",
   "id": "a9cd2ad1",
   "metadata": {},
   "source": [
    "FastAPI is a Web framework for developing RESTful APIs in Python.\n",
    "FastAPI is based on Pydantic and type hints to validate, serialize, and deserialize data, and automatically auto-generate OpenAPI documents.\n",
    "It fully supports asynchronous programming and can run with Uvicorn and Gunicorn."
   ]
  },
  {
   "cell_type": "markdown",
   "id": "46535287",
   "metadata": {},
   "source": [
    "### RESTful API?"
   ]
  },
  {
   "cell_type": "markdown",
   "id": "be6b7b7a",
   "metadata": {},
   "source": [
    "A REST API (also known as RESTful API) is an application programming interface (API or web API) that conforms to the constraints of REST architectural style and allows for interaction with RESTful web services.\n",
    "REST stands for representational state transfer and was created by computer scientist Roy Fielding.\n",
    "\n",
    "In order for an API to be considered RESTful, it has to conform to these criteria:\n",
    "\n",
    "- A client-server architecture made up of clients, servers, and resources, with requests managed through HTTP.\n",
    "Stateless client-server communication, meaning no client information is stored between get requests and each request is separate and unconnected.\n",
    "- Cacheable data that streamlines client-server interactions.\n",
    "- A uniform interface between components so that information is transferred in a standard form. This requires that:\n",
    "  - resources requested are identifiable and separate from the representations sent to the client.\n",
    "  - resources can be manipulated by the client via the representation they receive because the representation contains enough information to do so.\n",
    "  - self-descriptive messages returned to the client have enough information to describe how the client should process it.\n",
    "  - hypertext/hypermedia is available, meaning that after accessing a resource the client should be able to use hyperlinks to find all other currently available actions they can take.\n",
    "- A layered system that organizes each type of server (those responsible for security, load-balancing, etc.) involved the retrieval of requested information into hierarchies, invisible to the client.\n",
    "- Code-on-demand (optional): the ability to send executable code from the server to the client when requested, extending client functionality. \n"
   ]
  },
  {
   "cell_type": "markdown",
   "id": "0262c138",
   "metadata": {},
   "source": [
    "## How to install?"
   ]
  },
  {
   "cell_type": "code",
   "execution_count": 1,
   "id": "8d713f74",
   "metadata": {},
   "outputs": [
    {
     "name": "stdout",
     "output_type": "stream",
     "text": [
      "Looking in indexes: https://artifactory.airbus.corp/artifactory/api/pypi/r-airbus-pypi-virtual/simple\n",
      "Collecting FastAPI\n",
      "  Using cached https://artifactory.airbus.corp/artifactory/api/pypi/r-airbus-pypi-virtual/packages/packages/61/0f/427f0af121b226e62237e430f5bf4485e0ae1565b3f5b782613b59f30abc/fastapi-0.78.0-py3-none-any.whl (54 kB)\n",
      "Requirement already satisfied: pydantic!=1.7,!=1.7.1,!=1.7.2,!=1.7.3,!=1.8,!=1.8.1,<2.0.0,>=1.6.2 in /Users/to128580/PycharmProjects/courses/python/.venv/lib/python3.7/site-packages (from FastAPI) (1.9.1)\n",
      "Requirement already satisfied: starlette==0.19.1 in /Users/to128580/PycharmProjects/courses/python/.venv/lib/python3.7/site-packages (from FastAPI) (0.19.1)\n",
      "Requirement already satisfied: typing-extensions>=3.10.0 in /Users/to128580/PycharmProjects/courses/python/.venv/lib/python3.7/site-packages (from starlette==0.19.1->FastAPI) (4.2.0)\n",
      "Requirement already satisfied: anyio<5,>=3.4.0 in /Users/to128580/PycharmProjects/courses/python/.venv/lib/python3.7/site-packages (from starlette==0.19.1->FastAPI) (3.6.1)\n",
      "Requirement already satisfied: sniffio>=1.1 in /Users/to128580/PycharmProjects/courses/python/.venv/lib/python3.7/site-packages (from anyio<5,>=3.4.0->starlette==0.19.1->FastAPI) (1.2.0)\n",
      "Requirement already satisfied: idna>=2.8 in /Users/to128580/PycharmProjects/courses/python/.venv/lib/python3.7/site-packages (from anyio<5,>=3.4.0->starlette==0.19.1->FastAPI) (3.3)\n",
      "Installing collected packages: FastAPI\n",
      "Successfully installed FastAPI-0.78.0\n",
      "\u001b[33mWARNING: You are using pip version 22.0.4; however, version 22.1.2 is available.\n",
      "You should consider upgrading via the '/Users/to128580/PycharmProjects/courses/python/.venv/bin/python3.7 -m pip install --upgrade pip' command.\u001b[0m\u001b[33m\n",
      "\u001b[0mNote: you may need to restart the kernel to use updated packages.\n"
     ]
    }
   ],
   "source": [
    "%pip install FastAPI"
   ]
  },
  {
   "cell_type": "markdown",
   "id": "85138811",
   "metadata": {},
   "source": [
    "_Tips_: Think to add it in your __requirements.txt__ file"
   ]
  },
  {
   "cell_type": "markdown",
   "id": "2c56d0d3",
   "metadata": {},
   "source": [
    "## How to use it?"
   ]
  },
  {
   "cell_type": "markdown",
   "id": "1d23d553",
   "metadata": {},
   "source": [
    "### Development"
   ]
  },
  {
   "cell_type": "markdown",
   "id": "ec707535",
   "metadata": {},
   "source": [
    "#### Import the module"
   ]
  },
  {
   "cell_type": "code",
   "execution_count": 2,
   "id": "d2b1423e",
   "metadata": {},
   "outputs": [],
   "source": [
    "from fastapi import FastAPI"
   ]
  },
  {
   "cell_type": "markdown",
   "id": "de6995b4",
   "metadata": {},
   "source": [
    "#### Integrate it in your code"
   ]
  },
  {
   "cell_type": "code",
   "execution_count": null,
   "id": "1edb8870",
   "metadata": {},
   "outputs": [],
   "source": [
    "from fastapi import FastAPI\n",
    "\n",
    "# Declare a new Flask API server\n",
    "app = FastAPI()\n",
    "\n",
    "\n",
    "# Define a new API path\n",
    "@app.get(\"/\")\n",
    "async def root():\n",
    "    return {\"message\": \"Hello World\"}\n"
   ]
  },
  {
   "cell_type": "markdown",
   "id": "655687de",
   "metadata": {},
   "source": [
    "### Usage"
   ]
  },
  {
   "cell_type": "markdown",
   "id": "7684fd66",
   "metadata": {},
   "source": [
    "#### Python"
   ]
  },
  {
   "cell_type": "markdown",
   "id": "4c1bbca6",
   "metadata": {},
   "source": [
    "Install the server"
   ]
  },
  {
   "cell_type": "code",
   "execution_count": null,
   "id": "3dee69cc",
   "metadata": {},
   "outputs": [],
   "source": [
    "%pip install \"uvicorn[standard]\""
   ]
  },
  {
   "cell_type": "markdown",
   "id": "55a724a9",
   "metadata": {},
   "source": [
    "Create RESTfull API services to provide the following path design (script name: 02_flask.py):\n",
    "\n",
    "- GET    /user/[username]\n",
    "- POST   /user[username]\n",
    "- GET    /post/[id]\n",
    "- DELETE /post/[id]"
   ]
  },
  {
   "cell_type": "code",
   "execution_count": null,
   "id": "a064b888",
   "metadata": {},
   "outputs": [],
   "source": [
    "import uvicorn\n",
    "from fastapi import FastAPI\n",
    "from pydantic import BaseModel\n",
    "from typing import Union\n",
    "\n",
    "\n",
    "\n",
    "class Item(BaseModel):\n",
    "    name: str\n",
    "    description: Union[str, None] = None\n",
    "    price: float\n",
    "    tax: Union[float, None] = None\n",
    "\n",
    "\n",
    "app = FastAPI()\n",
    "\n",
    "\n",
    "@app.get(\"/items/{item_id}\")\n",
    "async def read_item(item_id: str, q: Union[str, None] = None):\n",
    "    if q:\n",
    "        return {\"item_id\": item_id, \"q\": q}\n",
    "    return {\"item_id\": item_id}\n",
    "\n",
    "\n",
    "@app.post(\"/items/\")\n",
    "async def update_item(item: Item):\n",
    "    return item\n",
    "\n",
    "\n",
    "@app.put(\"/items/{item_id}\")\n",
    "async def create_item(item_id: int, item: Item):\n",
    "    return {\"item_id\": item_id, **item.dict()}\n",
    "\n",
    "\n",
    "if __name__ == \"__main__\":\n",
    "    uvicorn.run(app, host=\"0.0.0.0\", port=9000)\n"
   ]
  },
  {
   "cell_type": "markdown",
   "id": "1b104043",
   "metadata": {},
   "source": [
    "Execute the server"
   ]
  },
  {
   "cell_type": "code",
   "execution_count": null,
   "id": "95895c8b",
   "metadata": {},
   "outputs": [],
   "source": [
    "%python 03_fastapi.py"
   ]
  },
  {
   "cell_type": "markdown",
   "id": "633bf5b4",
   "metadata": {},
   "source": [
    "You can now request it to see the result with the following Python script saved with 03_fastapi_client.py:"
   ]
  },
  {
   "cell_type": "code",
   "execution_count": null,
   "id": "caab0bf4",
   "metadata": {},
   "outputs": [],
   "source": [
    "import requests\n",
    "import json\n",
    "\n",
    "url = \"http://localhost:9000\"\n",
    "targets = [\n",
    "    {\"uri\": \"/items\", \"method\": \"get\", \"data\": {}},\n",
    "    {\"uri\": \"/items/1\", \"method\": \"get\", \"data\": {}},\n",
    "    {\"uri\": \"/items/3\", \"method\": \"post\", \"data\": {\"id\": 3, \"name\": \"water\", \"description\": \"french drink\", \"price\": 4.04}},\n",
    "    {\"uri\": \"/items\", \"method\": \"put\", \"data\": {\"id\": 2, \"name\": \"beer\", \"description\": \"the best one\", \"price\": 2.01}}\n",
    "]\n",
    "headers = {'Content-Type': 'application/json',\n",
    "           'Accept': 'application/json'}\n",
    "\n",
    "for target in targets:\n",
    "    target['url'] = f\"{url}{target['uri']}\"\n",
    "    result = requests.request(target['method'], target['url'], headers=headers, data=json.dumps(target['data']))\n",
    "    print(f\"- Target: {target}\\n--> Status: {result.status_code}, Result: {result.text}\")\n"
   ]
  },
  {
   "cell_type": "code",
   "execution_count": null,
   "id": "78278b1b",
   "metadata": {},
   "outputs": [],
   "source": [
    "%python 03_fastapi_client.py"
   ]
  },
  {
   "cell_type": "markdown",
   "id": "c4eb6ec6",
   "metadata": {},
   "source": [
    "Provide the following result:"
   ]
  },
  {
   "cell_type": "raw",
   "id": "bd6e5abe",
   "metadata": {},
   "source": [
    "- Target: {'uri': '/items', 'method': 'get', 'data': {}, 'url': 'http://localhost:9000/items'}\n",
    "--> Status: 200, Result: [{\"id\":1,\"name\":\"wine\",\"description\":\"french drink\",\"price\":12.7,\"tax\":0.2},{\"id\":2,\"name\":\"beer\",\"description\":\"fresh drink\",\"price\":2.01,\"tax\":0.05},{\"id\":3,\"name\":\"water\",\"description\":\"french drink\",\"price\":4.04,\"tax\":0.05},{\"id\":3,\"name\":\"water\",\"description\":\"french drink\",\"price\":4.04,\"tax\":0.05}]\n",
    "- Target: {'uri': '/items/1', 'method': 'get', 'data': {}, 'url': 'http://localhost:9000/items/1'}\n",
    "--> Status: 200, Result: {\"id\":1,\"name\":\"wine\",\"description\":\"french drink\",\"price\":12.7,\"tax\":0.2}\n",
    "- Target: {'uri': '/items/3', 'method': 'post', 'data': {'id': 3, 'name': 'water', 'description': 'french drink', 'price': 4.04}, 'url': 'http://localhost:9000/items/3'}\n",
    "--> Status: 200, Result: {\"id\":3,\"name\":\"water\",\"description\":\"french drink\",\"price\":4.04,\"tax\":0.05}\n",
    "- Target: {'uri': '/items', 'method': 'put', 'data': {'id': 2, 'name': 'beer', 'description': 'the best one', 'price': 2.01}, 'url': 'http://localhost:9000/items'}\n",
    "--> Status: 200, Result: {\"id\":2,\"name\":\"beer\",\"description\":\"the best one\",\"price\":2.01,\"tax\":0.05}\n",
    "(.venv) to128580@TOLA302032937 02_networking % python 03_fastapi_client.py\n",
    "- Target: {'uri': '/items', 'method': 'get', 'data': {}, 'url': 'http://localhost:9000/items'}\n",
    "--> Status: 200, Result: [{\"id\":1,\"name\":\"wine\",\"description\":\"french drink\",\"price\":12.7,\"tax\":0.2},{\"id\":2,\"name\":\"beer\",\"description\":\"the best one\",\"price\":2.01,\"tax\":0.05},{\"id\":3,\"name\":\"water\",\"description\":\"french drink\",\"price\":4.04,\"tax\":0.05},{\"id\":3,\"name\":\"water\",\"description\":\"french drink\",\"price\":4.04,\"tax\":0.05},{\"id\":3,\"name\":\"water\",\"description\":\"french drink\",\"price\":4.04,\"tax\":0.05}]\n",
    "- Target: {'uri': '/items/1', 'method': 'get', 'data': {}, 'url': 'http://localhost:9000/items/1'}\n",
    "--> Status: 200, Result: {\"id\":1,\"name\":\"wine\",\"description\":\"french drink\",\"price\":12.7,\"tax\":0.2}\n",
    "- Target: {'uri': '/items/3', 'method': 'post', 'data': {'id': 3, 'name': 'water', 'description': 'french drink', 'price': 4.04}, 'url': 'http://localhost:9000/items/3'}\n",
    "--> Status: 200, Result: {\"id\":3,\"name\":\"water\",\"description\":\"french drink\",\"price\":4.04,\"tax\":0.05}\n",
    "- Target: {'uri': '/items', 'method': 'put', 'data': {'id': 2, 'name': 'beer', 'description': 'the best one', 'price': 2.01}, 'url': 'http://localhost:9000/items'}\n",
    "--> Status: 200, Result: {\"id\":2,\"name\":\"beer\",\"description\":\"the best one\",\"price\":2.01,\"tax\":0.05}\n"
   ]
  },
  {
   "cell_type": "markdown",
   "id": "8fbfa610",
   "metadata": {},
   "source": [
    "What's happen when we request the API with:\n",
    "- non-existing path?\n",
    "- bad argument?"
   ]
  },
  {
   "cell_type": "markdown",
   "id": "271e67b4",
   "metadata": {},
   "source": [
    "#### Web GUI"
   ]
  },
  {
   "cell_type": "markdown",
   "id": "24afb3f9",
   "metadata": {},
   "source": [
    "Open the web GUI and perform the same request than for the python code:\n",
    "http://localhost:9000/docs"
   ]
  },
  {
   "cell_type": "markdown",
   "id": "120b6bc9",
   "metadata": {},
   "source": [
    "## References"
   ]
  },
  {
   "cell_type": "markdown",
   "id": "a5caf60f",
   "metadata": {},
   "source": [
    "- https://fastapi.tiangolo.com/tutorial/first-steps/\n",
    "- https://en.wikipedia.org/wiki/FastAPI\n",
    "- https://www.redhat.com/en/topics/api/what-is-a-rest-api"
   ]
  }
 ],
 "metadata": {
  "kernelspec": {
   "display_name": "Python 3 (ipykernel)",
   "language": "python",
   "name": "python3"
  },
  "language_info": {
   "codemirror_mode": {
    "name": "ipython",
    "version": 3
   },
   "file_extension": ".py",
   "mimetype": "text/x-python",
   "name": "python",
   "nbconvert_exporter": "python",
   "pygments_lexer": "ipython3",
   "version": "3.7.13"
  }
 },
 "nbformat": 4,
 "nbformat_minor": 5
}
