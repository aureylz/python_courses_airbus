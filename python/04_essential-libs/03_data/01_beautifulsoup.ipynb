{
 "cells": [
  {
   "cell_type": "markdown",
   "id": "01feddc4",
   "metadata": {},
   "source": [
    "# Beautifulsoup"
   ]
  },
  {
   "cell_type": "markdown",
   "id": "e04f3d0a",
   "metadata": {},
   "source": [
    "1. [What is this?](#What-is-this?)\n",
    "2. [How to install?](#How-to-install?)\n",
    "3. [How to use it?](#How-to-use-it?)\n",
    "    1. [Development](#Development)\n",
    "    2. [Usage](#Usage)\n",
    "4. [References](#References)"
   ]
  },
  {
   "cell_type": "markdown",
   "id": "88143b2d",
   "metadata": {},
   "source": [
    "## What is this?"
   ]
  },
  {
   "cell_type": "markdown",
   "id": "a9cd2ad1",
   "metadata": {},
   "source": [
    "It's a Python package for parsing HTML and XML documents.\n",
    "It creates a parse tree for parsed pages that can be used to extract data from HTML, which is useful for web scraping."
   ]
  },
  {
   "cell_type": "markdown",
   "id": "46535287",
   "metadata": {},
   "source": [
    "### Parser"
   ]
  },
  {
   "cell_type": "markdown",
   "id": "be6b7b7a",
   "metadata": {},
   "source": [
    "Lke you do when you read a book, you analyze the form (title, chapter...)  and read the content. \n",
    "A parser will do the same but by a software processing!"
   ]
  },
  {
   "cell_type": "markdown",
   "id": "d67b3c67",
   "metadata": {},
   "source": [
    "### HTML/XML page"
   ]
  },
  {
   "cell_type": "markdown",
   "id": "454be173",
   "metadata": {},
   "source": [
    "cf. the courses on the Web architecture"
   ]
  },
  {
   "cell_type": "markdown",
   "id": "0262c138",
   "metadata": {},
   "source": [
    "## How to install?"
   ]
  },
  {
   "cell_type": "code",
   "execution_count": 1,
   "id": "8d713f74",
   "metadata": {},
   "outputs": [
    {
     "name": "stdout",
     "output_type": "stream",
     "text": [
      "Looking in indexes: https://artifactory.airbus.corp/artifactory/api/pypi/r-airbus-pypi-virtual/simple\n",
      "Requirement already satisfied: beautifulsoup4 in /Users/to128580/PycharmProjects/courses/python/.venv/lib/python3.7/site-packages (4.11.1)\n",
      "Requirement already satisfied: soupsieve>1.2 in /Users/to128580/PycharmProjects/courses/python/.venv/lib/python3.7/site-packages (from beautifulsoup4) (2.3.2.post1)\n",
      "\u001b[33mWARNING: You are using pip version 22.0.4; however, version 22.1.2 is available.\n",
      "You should consider upgrading via the '/Users/to128580/PycharmProjects/courses/python/.venv/bin/python3.7 -m pip install --upgrade pip' command.\u001b[0m\u001b[33m\n",
      "\u001b[0mNote: you may need to restart the kernel to use updated packages.\n"
     ]
    }
   ],
   "source": [
    "%pip install beautifulsoup4"
   ]
  },
  {
   "cell_type": "markdown",
   "id": "85138811",
   "metadata": {},
   "source": [
    "_Tips_: Think to add it in your __requirements.txt__ file"
   ]
  },
  {
   "cell_type": "markdown",
   "id": "2c56d0d3",
   "metadata": {},
   "source": [
    "## How to use it?"
   ]
  },
  {
   "cell_type": "markdown",
   "id": "1d23d553",
   "metadata": {},
   "source": [
    "### Development"
   ]
  },
  {
   "cell_type": "markdown",
   "id": "ec707535",
   "metadata": {},
   "source": [
    "#### Import the module"
   ]
  },
  {
   "cell_type": "code",
   "execution_count": 2,
   "id": "d2b1423e",
   "metadata": {},
   "outputs": [],
   "source": [
    "from bs4 import BeautifulSoup"
   ]
  },
  {
   "cell_type": "markdown",
   "id": "989aab2a",
   "metadata": {},
   "source": [
    "#### Integrate it in your code"
   ]
  },
  {
   "cell_type": "code",
   "execution_count": 3,
   "id": "1edb8870",
   "metadata": {},
   "outputs": [
    {
     "name": "stdout",
     "output_type": "stream",
     "text": [
      "<p>Texte à lire 1</p>\n",
      "<p>Texte à lire 2</p>\n"
     ]
    }
   ],
   "source": [
    "# Define the HTML page\n",
    "html_doc = \"\"\"\n",
    "<html>\n",
    "    <head>\n",
    "    <title>Hello</title>\n",
    "    </head>\n",
    "    <body>\n",
    "        <p>Texte à lire 1</p>\n",
    "        <p>Texte à lire 2</p>\n",
    "    </body>\n",
    "</html>\n",
    "\"\"\"\n",
    "\n",
    "# soup = BeautifulSoup(html_doc) \n",
    "soup = BeautifulSoup(html_doc) \n",
    "\n",
    "# Display each content of the HTML page\n",
    "for p in soup.find_all('p'):\n",
    "    print(p)"
   ]
  },
  {
   "cell_type": "markdown",
   "id": "655687de",
   "metadata": {},
   "source": [
    "### Usage"
   ]
  },
  {
   "cell_type": "markdown",
   "id": "4c1bbca6",
   "metadata": {},
   "source": [
    "Create your python script 01_beautifulsoup.py to parse and present the web page information of the API server created in 04_essential-libs/02_networking/03_fastapi.py"
   ]
  },
  {
   "cell_type": "code",
   "execution_count": 4,
   "id": "caab0bf4",
   "metadata": {},
   "outputs": [
    {
     "name": "stdout",
     "output_type": "stream",
     "text": [
      "- <script src=\"https://cdn.jsdelivr.net/npm/swagger-ui-dist@4/swagger-ui-bundle.js\"></script>\n",
      "- <script>\n",
      "    const ui = SwaggerUIBundle({\n",
      "        url: '/openapi.json',\n",
      "    \"dom_id\": \"#swagger-ui\",\n",
      "\"layout\": \"BaseLayout\",\n",
      "\"deepLinking\": true,\n",
      "\"showExtensions\": true,\n",
      "\"showCommonExtensions\": true,\n",
      "oauth2RedirectUrl: window.location.origin + '/docs/oauth2-redirect',\n",
      "    presets: [\n",
      "        SwaggerUIBundle.presets.apis,\n",
      "        SwaggerUIBundle.SwaggerUIStandalonePreset\n",
      "        ],\n",
      "    })\n",
      "    </script>\n"
     ]
    }
   ],
   "source": [
    "import requests\n",
    "from bs4 import BeautifulSoup  as BS\n",
    "\n",
    "url = \"http://localhost:9000/docs\"\n",
    "\n",
    "# Collect the web page content\n",
    "page = requests.get(url)\n",
    "\n",
    "# Publish the web page in  beautiful soup\n",
    "soup = BS(page.text, 'html.parser') \n",
    "\n",
    "# Print the scripts included in the web page\n",
    "for script in soup.find_all('script'):\n",
    "    print(f\"- {script}\")\n"
   ]
  },
  {
   "cell_type": "markdown",
   "id": "120b6bc9",
   "metadata": {},
   "source": [
    "## References"
   ]
  },
  {
   "cell_type": "markdown",
   "id": "a5caf60f",
   "metadata": {},
   "source": [
    "- https://python.doctor/page-beautifulsoup-html-parser-python-library-xml"
   ]
  }
 ],
 "metadata": {
  "kernelspec": {
   "display_name": "Python 3 (ipykernel)",
   "language": "python",
   "name": "python3"
  },
  "language_info": {
   "codemirror_mode": {
    "name": "ipython",
    "version": 3
   },
   "file_extension": ".py",
   "mimetype": "text/x-python",
   "name": "python",
   "nbconvert_exporter": "python",
   "pygments_lexer": "ipython3",
   "version": "3.7.13"
  }
 },
 "nbformat": 4,
 "nbformat_minor": 5
}
