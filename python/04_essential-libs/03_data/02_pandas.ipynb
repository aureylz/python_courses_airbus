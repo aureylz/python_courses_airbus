{
 "cells": [
  {
   "cell_type": "markdown",
   "id": "01feddc4",
   "metadata": {},
   "source": [
    "# Pandas"
   ]
  },
  {
   "cell_type": "markdown",
   "id": "e04f3d0a",
   "metadata": {},
   "source": [
    "1. [What is this?](#What-is-this?)\n",
    "2. [How to install?](#How-to-install?)\n",
    "3. [How to use it?](#How-to-use-it?)\n",
    "    1. [Development](#Development)\n",
    "    2. [Usage](#Usage)\n",
    "4. [References](#References)"
   ]
  },
  {
   "cell_type": "markdown",
   "id": "88143b2d",
   "metadata": {},
   "source": [
    "## What is this?"
   ]
  },
  {
   "cell_type": "markdown",
   "id": "a9cd2ad1",
   "metadata": {},
   "source": [
    "It s a fast, powerful, flexible and easy to use open source data analysis and manipulation tool, built on top of the Python programming language."
   ]
  },
  {
   "cell_type": "markdown",
   "id": "0262c138",
   "metadata": {},
   "source": [
    "## How to install?"
   ]
  },
  {
   "cell_type": "code",
   "execution_count": 1,
   "id": "8d713f74",
   "metadata": {
    "scrolled": true
   },
   "outputs": [
    {
     "name": "stdout",
     "output_type": "stream",
     "text": [
      "Looking in indexes: https://artifactory.airbus.corp/artifactory/api/pypi/r-airbus-pypi-virtual/simple\n",
      "Collecting pandas\n",
      "  Using cached https://artifactory.airbus.corp/artifactory/api/pypi/r-airbus-pypi-virtual/packages/packages/44/d9/fa9cb383b482b574e6926eabc437fe57b59908a7ed940612c8c308471872/pandas-1.3.5-cp37-cp37m-macosx_10_9_x86_64.whl (11.0 MB)\n",
      "Requirement already satisfied: pytz>=2017.3 in /Users/to128580/PycharmProjects/courses/python/.venv/lib/python3.7/site-packages (from pandas) (2022.1)\n",
      "Requirement already satisfied: python-dateutil>=2.7.3 in /Users/to128580/PycharmProjects/courses/python/.venv/lib/python3.7/site-packages (from pandas) (2.8.2)\n",
      "Requirement already satisfied: numpy>=1.17.3 in /Users/to128580/PycharmProjects/courses/python/.venv/lib/python3.7/site-packages (from pandas) (1.21.6)\n",
      "Requirement already satisfied: six>=1.5 in /Users/to128580/PycharmProjects/courses/python/.venv/lib/python3.7/site-packages (from python-dateutil>=2.7.3->pandas) (1.16.0)\n",
      "Installing collected packages: pandas\n",
      "Successfully installed pandas-1.3.5\n",
      "\u001b[33mWARNING: You are using pip version 22.0.4; however, version 22.1.2 is available.\n",
      "You should consider upgrading via the '/Users/to128580/PycharmProjects/courses/python/.venv/bin/python3.7 -m pip install --upgrade pip' command.\u001b[0m\u001b[33m\n",
      "\u001b[0mNote: you may need to restart the kernel to use updated packages.\n"
     ]
    }
   ],
   "source": [
    "%pip install pandas "
   ]
  },
  {
   "cell_type": "markdown",
   "id": "85138811",
   "metadata": {},
   "source": [
    "_Tips_: Think to add it in your __requirements.txt__ file"
   ]
  },
  {
   "cell_type": "markdown",
   "id": "2c56d0d3",
   "metadata": {},
   "source": [
    "## How to use it?"
   ]
  },
  {
   "cell_type": "markdown",
   "id": "1d23d553",
   "metadata": {},
   "source": [
    "### Development"
   ]
  },
  {
   "cell_type": "markdown",
   "id": "ec707535",
   "metadata": {},
   "source": [
    "#### Import the module"
   ]
  },
  {
   "cell_type": "code",
   "execution_count": 2,
   "id": "d2b1423e",
   "metadata": {},
   "outputs": [],
   "source": [
    "import pandas"
   ]
  },
  {
   "cell_type": "markdown",
   "id": "a134bde7",
   "metadata": {},
   "source": [
    "#### Integrate it in your code"
   ]
  },
  {
   "cell_type": "code",
   "execution_count": 3,
   "id": "1edb8870",
   "metadata": {},
   "outputs": [
    {
     "name": "stdout",
     "output_type": "stream",
     "text": [
      "- Spreadsheet:\n",
      "                       Name  Age     Sex\n",
      "0   Braund, Mr. Owen Harris   22    male\n",
      "1  Allen, Mr. William Henry   35    male\n",
      "2  Bonnell, Miss. Elizabeth   58  female\n",
      "- Max age: 58\n",
      "- Age analysis:\n",
      "             Age\n",
      "count   3.000000\n",
      "mean   38.333333\n",
      "std    18.230012\n",
      "min    22.000000\n",
      "25%    28.500000\n",
      "50%    35.000000\n",
      "75%    46.500000\n",
      "max    58.000000\n"
     ]
    }
   ],
   "source": [
    "df = pandas.DataFrame(\n",
    "    {\n",
    "        \"Name\": [\n",
    "            \"Braund, Mr. Owen Harris\",\n",
    "            \"Allen, Mr. William Henry\",\n",
    "            \"Bonnell, Miss. Elizabeth\",\n",
    "        ],\n",
    "        \"Age\": [22, 35, 58],\n",
    "        \"Sex\": [\"male\", \"male\", \"female\"],\n",
    "    }\n",
    ")\n",
    "print(f\"- Spreadsheet:\\n{df}\")\n",
    "print(f\"- Max age: {df['Age'].max()}\")\n",
    "print(f\"- Age analysis:\\n{df.describe()}\")"
   ]
  },
  {
   "cell_type": "markdown",
   "id": "655687de",
   "metadata": {},
   "source": [
    "### Usage"
   ]
  },
  {
   "cell_type": "markdown",
   "id": "4c1bbca6",
   "metadata": {},
   "source": [
    "Create your python script 02_pandas.py to analyse the data.\n",
    "Donwload the following sourec file: https://raw.githubusercontent.com/pandas-dev/pandas/main/doc/data/air_quality_no2_long.csv"
   ]
  },
  {
   "cell_type": "code",
   "execution_count": 4,
   "id": "caab0bf4",
   "metadata": {
    "scrolled": true
   },
   "outputs": [
    {
     "name": "stdout",
     "output_type": "stream",
     "text": [
      "['Paris' 'Antwerpen' 'London']\n"
     ]
    }
   ],
   "source": [
    "import pandas as pd\n",
    "\n",
    "\n",
    "air_quality = pd.read_csv(\"air_quality_no2_long.csv\")\n",
    "air_quality = air_quality.rename(columns={\"date.utc\": \"datetime\"})\n",
    "air_quality.head()\n",
    "\n",
    "print(air_quality.city.unique())"
   ]
  },
  {
   "cell_type": "code",
   "execution_count": 5,
   "id": "85075cf3",
   "metadata": {},
   "outputs": [
    {
     "name": "stdout",
     "output_type": "stream",
     "text": [
      "0      2019-06-21 00:00:00+00:00\n",
      "1      2019-06-20 23:00:00+00:00\n",
      "2      2019-06-20 22:00:00+00:00\n",
      "3      2019-06-20 21:00:00+00:00\n",
      "4      2019-06-20 20:00:00+00:00\n",
      "                  ...           \n",
      "2063   2019-05-07 06:00:00+00:00\n",
      "2064   2019-05-07 04:00:00+00:00\n",
      "2065   2019-05-07 03:00:00+00:00\n",
      "2066   2019-05-07 02:00:00+00:00\n",
      "2067   2019-05-07 01:00:00+00:00\n",
      "Name: datetime, Length: 2068, dtype: datetime64[ns, UTC]\n"
     ]
    }
   ],
   "source": [
    "air_quality[\"datetime\"] = pd.to_datetime(air_quality[\"datetime\"])\n",
    "print(air_quality[\"datetime\"])"
   ]
  },
  {
   "cell_type": "code",
   "execution_count": 6,
   "id": "06de3311",
   "metadata": {},
   "outputs": [
    {
     "data": {
      "text/plain": [
       "Timedelta('44 days 23:00:00')"
      ]
     },
     "execution_count": 6,
     "metadata": {},
     "output_type": "execute_result"
    }
   ],
   "source": [
    "air_quality[\"datetime\"].min(), air_quality[\"datetime\"].max()\n",
    "air_quality[\"datetime\"].max() - air_quality[\"datetime\"].min()"
   ]
  },
  {
   "cell_type": "markdown",
   "id": "3862340e",
   "metadata": {},
   "source": [
    "And you can aslo graph it"
   ]
  },
  {
   "cell_type": "code",
   "execution_count": 7,
   "id": "a5ad1a38",
   "metadata": {},
   "outputs": [
    {
     "name": "stdout",
     "output_type": "stream",
     "text": [
      "Looking in indexes: https://artifactory.airbus.corp/artifactory/api/pypi/r-airbus-pypi-virtual/simple\n",
      "Collecting matplotlib\n",
      "  Using cached https://artifactory.airbus.corp/artifactory/api/pypi/r-airbus-pypi-virtual/packages/packages/18/c7/35b4515da4b84cefcd8234233fd2015afd003278ed6a810ae0f03ec6c496/matplotlib-3.5.2-cp37-cp37m-macosx_10_9_x86_64.whl (7.3 MB)\n",
      "Requirement already satisfied: numpy>=1.17 in /Users/to128580/PycharmProjects/courses/python/.venv/lib/python3.7/site-packages (from matplotlib) (1.21.6)\n",
      "Requirement already satisfied: packaging>=20.0 in /Users/to128580/PycharmProjects/courses/python/.venv/lib/python3.7/site-packages (from matplotlib) (21.3)\n",
      "Requirement already satisfied: fonttools>=4.22.0 in /Users/to128580/PycharmProjects/courses/python/.venv/lib/python3.7/site-packages (from matplotlib) (4.33.3)\n",
      "Requirement already satisfied: pyparsing>=2.2.1 in /Users/to128580/PycharmProjects/courses/python/.venv/lib/python3.7/site-packages (from matplotlib) (3.0.9)\n",
      "Requirement already satisfied: python-dateutil>=2.7 in /Users/to128580/PycharmProjects/courses/python/.venv/lib/python3.7/site-packages (from matplotlib) (2.8.2)\n",
      "Requirement already satisfied: pillow>=6.2.0 in /Users/to128580/PycharmProjects/courses/python/.venv/lib/python3.7/site-packages (from matplotlib) (9.2.0)\n",
      "Requirement already satisfied: kiwisolver>=1.0.1 in /Users/to128580/PycharmProjects/courses/python/.venv/lib/python3.7/site-packages (from matplotlib) (1.4.3)\n",
      "Requirement already satisfied: cycler>=0.10 in /Users/to128580/PycharmProjects/courses/python/.venv/lib/python3.7/site-packages (from matplotlib) (0.11.0)\n",
      "Requirement already satisfied: typing-extensions in /Users/to128580/PycharmProjects/courses/python/.venv/lib/python3.7/site-packages (from kiwisolver>=1.0.1->matplotlib) (4.2.0)\n",
      "Requirement already satisfied: six>=1.5 in /Users/to128580/PycharmProjects/courses/python/.venv/lib/python3.7/site-packages (from python-dateutil>=2.7->matplotlib) (1.16.0)\n",
      "Installing collected packages: matplotlib\n",
      "Successfully installed matplotlib-3.5.2\n",
      "\u001b[33mWARNING: You are using pip version 22.0.4; however, version 22.1.2 is available.\n",
      "You should consider upgrading via the '/Users/to128580/PycharmProjects/courses/python/.venv/bin/python3.7 -m pip install --upgrade pip' command.\u001b[0m\u001b[33m\n",
      "\u001b[0mNote: you may need to restart the kernel to use updated packages.\n"
     ]
    }
   ],
   "source": [
    "%pip install matplotlib"
   ]
  },
  {
   "cell_type": "code",
   "execution_count": 8,
   "id": "9f953c59",
   "metadata": {},
   "outputs": [
    {
     "data": {
      "image/png": "[encoded data removed]",
      "text/plain": [
       "<Figure size 864x288 with 1 Axes>"
      ]
     },
     "metadata": {
      "needs_background": "light"
     },
     "output_type": "display_data"
    }
   ],
   "source": [
    "import matplotlib.pyplot as plt\n",
    "\n",
    "fig, axs = plt.subplots(figsize=(12, 4))\n",
    "\n",
    "air_quality.groupby(air_quality[\"datetime\"].dt.hour)[\"value\"].mean().plot(\n",
    "    kind='bar', rot=0, ax=axs\n",
    ")\n",
    "\n",
    "plt.xlabel(\"Hour of the day\");  # custom x label using matplotlib\n",
    "plt.ylabel(\"$NO_2 (µg/m^3)$\");"
   ]
  },
  {
   "cell_type": "markdown",
   "id": "120b6bc9",
   "metadata": {},
   "source": [
    "## References"
   ]
  },
  {
   "cell_type": "markdown",
   "id": "a5caf60f",
   "metadata": {},
   "source": [
    "- https://pandas.pydata.org\n",
    "- https://pandas.pydata.org/docs/user_guide/10min.html\n",
    "- https://pandas.pydata.org/docs/getting_started/intro_tutorials/09_timeseries.html"
   ]
  }
 ],
 "metadata": {
  "kernelspec": {
   "display_name": "Python 3 (ipykernel)",
   "language": "python",
   "name": "python3"
  },
  "language_info": {
   "codemirror_mode": {
    "name": "ipython",
    "version": 3
   },
   "file_extension": ".py",
   "mimetype": "text/x-python",
   "name": "python",
   "nbconvert_exporter": "python",
   "pygments_lexer": "ipython3",
   "version": "3.7.13"
  }
 },
 "nbformat": 4,
 "nbformat_minor": 5
}
