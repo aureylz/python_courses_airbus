{
 "cells": [
  {
   "cell_type": "markdown",
   "id": "01feddc4",
   "metadata": {},
   "source": [
    "# Click"
   ]
  },
  {
   "cell_type": "markdown",
   "id": "e04f3d0a",
   "metadata": {},
   "source": [
    "1. [What is this?](#What-is-this?)\n",
    "2. [How to install?](#How-to-install?)\n",
    "3. [How to use it?](#How-to-use-it?)\n",
    "    1. [Development](#Development)\n",
    "    2. [Usage](#Usage)\n",
    "4. [References](#References)"
   ]
  },
  {
   "cell_type": "markdown",
   "id": "88143b2d",
   "metadata": {},
   "source": [
    "## What is this?"
   ]
  },
  {
   "cell_type": "markdown",
   "id": "a9cd2ad1",
   "metadata": {},
   "source": [
    "Click is a Python package for creating beautiful command line interfaces in a composable way with as little code as\n",
    "necessary. It’s the “Command Line Interface Creation Kit”. It’s highly configurable but comes with sensible defaults out\n",
    "of the box.\n",
    "\n",
    "It aims to make the process of writing command line tools quick and fun while also preventing any frustration caused by\n",
    "the inability to implement an intended CLI API.\n",
    "\n",
    "Click in three points:\n",
    "\n",
    "1. arbitrary nesting of commands\n",
    "2. automatic help page generation\n",
    "3. supports lazy loading of subcommands at runtime"
   ]
  },
  {
   "cell_type": "markdown",
   "id": "641d0849",
   "metadata": {},
   "source": [
    "### Why this module?"
   ]
  },
  {
   "cell_type": "markdown",
   "id": "de2a8668",
   "metadata": {},
   "source": [
    "Python has a number of command-line interface builder tools. The standard tool which comes includes with python is\n",
    "Argparse. In fact, other Python modules are existing and by default the modules named **argparse** is integrated.\n",
    "\n",
    "Argparse is designed to parse arguments and provide extensive customization of cli help documentation. Click is designed\n",
    "to automatically handle common cli command tasks and quickly build a standard help menu."
   ]
  },
  {
   "cell_type": "markdown",
   "id": "0262c138",
   "metadata": {},
   "source": [
    "## How to install?"
   ]
  },
  {
   "cell_type": "code",
   "execution_count": null,
   "id": "45440e3d",
   "metadata": {
    "scrolled": false
   },
   "outputs": [],
   "source": [
    "%pip install click"
   ]
  },
  {
   "cell_type": "markdown",
   "id": "6c86f863",
   "metadata": {},
   "source": [
    "_Tips_: Think to add it in your requirements.txt file"
   ]
  },
  {
   "cell_type": "markdown",
   "id": "2c56d0d3",
   "metadata": {},
   "source": [
    "## How to use it?"
   ]
  },
  {
   "cell_type": "markdown",
   "id": "1d23d553",
   "metadata": {},
   "source": [
    "### Development"
   ]
  },
  {
   "cell_type": "markdown",
   "id": "68e9e0a7",
   "metadata": {},
   "source": [
    "Create a python script with the folllowing name: 01_click.py"
   ]
  },
  {
   "cell_type": "code",
   "execution_count": null,
   "id": "1edb8870",
   "metadata": {},
   "outputs": [],
   "source": [
    "# Import the module\n",
    "import click \n",
    "\n",
    "# Initiate the minimal contract of commands\n",
    "@click.command() \n",
    "\n",
    "# Define the CLI arguments\n",
    "@click.option('--count', default=1, help='Number of greetings.')\n",
    "@click.option('--name', prompt='Your name', help='The person to greet.')\n",
    "\n",
    "# Integrate it in your code\n",
    "def hello(count, name):\n",
    "    \"\"\"Simple program that greets NAME for a total of COUNT times.\"\"\"\n",
    "    for x in range(count):\n",
    "        click.echo(f\"Hello {name}!\")\n",
    "\n",
    "        \n",
    "if __name__ == '__main__':\n",
    "    hello()"
   ]
  },
  {
   "cell_type": "markdown",
   "id": "655687de",
   "metadata": {},
   "source": [
    "### Usage"
   ]
  },
  {
   "cell_type": "markdown",
   "id": "55a724a9",
   "metadata": {},
   "source": [
    "Execute your python script with the help of the CLI, it will ask you to add your name:\n",
    "\n",
    ">  python 01_click.py --count=3"
   ]
  },
  {
   "cell_type": "code",
   "execution_count": null,
   "id": "0c355c05",
   "metadata": {},
   "outputs": [],
   "source": [
    "%run 01_click.py --count=3"
   ]
  },
  {
   "cell_type": "markdown",
   "id": "120b6bc9",
   "metadata": {},
   "source": [
    "## References"
   ]
  },
  {
   "cell_type": "markdown",
   "id": "a5caf60f",
   "metadata": {},
   "source": [
    "- https://click.palletsprojects.com/en/8.1.x"
   ]
  }
 ],
 "metadata": {
  "kernelspec": {
   "display_name": "Python 3 (ipykernel)",
   "language": "python",
   "name": "python3"
  },
  "language_info": {
   "codemirror_mode": {
    "name": "ipython",
    "version": 3
   },
   "file_extension": ".py",
   "mimetype": "text/x-python",
   "name": "python",
   "nbconvert_exporter": "python",
   "pygments_lexer": "ipython3",
   "version": "3.9.10"
  }
 },
 "nbformat": 4,
 "nbformat_minor": 5
}
