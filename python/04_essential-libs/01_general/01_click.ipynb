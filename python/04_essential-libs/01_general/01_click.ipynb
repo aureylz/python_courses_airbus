{
 "cells": [
  {
   "cell_type": "markdown",
   "id": "01feddc4",
   "metadata": {},
   "source": [
    "# Click"
   ]
  },
  {
   "cell_type": "markdown",
   "id": "e04f3d0a",
   "metadata": {},
   "source": [
    "1. [What is this?](#What-is-this?)\n",
    "2. [How to install?](#How-to-install?)\n",
    "3. [How to use it?](#How-to-use-it?)\n",
    "    1. [Development](#Development)\n",
    "    2. [Usage](#Usage)\n",
    "4. [References](#References)"
   ]
  },
  {
   "cell_type": "markdown",
   "id": "88143b2d",
   "metadata": {},
   "source": [
    "## What is this?"
   ]
  },
  {
   "cell_type": "markdown",
   "id": "a9cd2ad1",
   "metadata": {},
   "source": [
    "Click is a Python package for creating beautiful command line interfaces in a composable way with as little code as\n",
    "necessary. It’s the “Command Line Interface Creation Kit”. It’s highly configurable but comes with sensible defaults out\n",
    "of the box.\n",
    "\n",
    "It aims to make the process of writing command line tools quick and fun while also preventing any frustration caused by\n",
    "the inability to implement an intended CLI API.\n",
    "\n",
    "Click in three points:\n",
    "\n",
    "1. arbitrary nesting of commands\n",
    "2. automatic help page generation\n",
    "3. supports lazy loading of subcommands at runtime"
   ]
  },
  {
   "cell_type": "markdown",
   "id": "0262c138",
   "metadata": {},
   "source": [
    "## How to install?"
   ]
  },
  {
   "cell_type": "code",
   "execution_count": 1,
   "id": "45440e3d",
   "metadata": {
    "scrolled": false
   },
   "outputs": [
    {
     "name": "stdout",
     "output_type": "stream",
     "text": [
      "Looking in indexes: https://artifactory.airbus.corp/artifactory/api/pypi/r-airbus-pypi-virtual/simple\n",
      "Collecting click\n",
      "  Using cached https://artifactory.airbus.corp/artifactory/api/pypi/r-airbus-pypi-virtual/packages/packages/c2/f1/df59e28c642d583f7dacffb1e0965d0e00b218e0186d7858ac5233dce840/click-8.1.3-py3-none-any.whl (96 kB)\n",
      "Requirement already satisfied: importlib-metadata in /Users/to128580/PycharmProjects/courses/python/.venv/lib/python3.7/site-packages (from click) (4.11.4)\n",
      "Requirement already satisfied: zipp>=0.5 in /Users/to128580/PycharmProjects/courses/python/.venv/lib/python3.7/site-packages (from importlib-metadata->click) (3.8.0)\n",
      "Requirement already satisfied: typing-extensions>=3.6.4 in /Users/to128580/PycharmProjects/courses/python/.venv/lib/python3.7/site-packages (from importlib-metadata->click) (4.2.0)\n",
      "Installing collected packages: click\n",
      "Successfully installed click-8.1.3\n",
      "\u001b[33mWARNING: You are using pip version 22.0.4; however, version 22.1.2 is available.\n",
      "You should consider upgrading via the '/Users/to128580/PycharmProjects/courses/python/.venv/bin/python3.7 -m pip install --upgrade pip' command.\u001b[0m\u001b[33m\n",
      "\u001b[0mNote: you may need to restart the kernel to use updated packages.\n"
     ]
    }
   ],
   "source": [
    "%pip install click"
   ]
  },
  {
   "cell_type": "markdown",
   "id": "6c86f863",
   "metadata": {},
   "source": [
    "_Tips_: Think to add it in your requirements.txt file"
   ]
  },
  {
   "cell_type": "markdown",
   "id": "2c56d0d3",
   "metadata": {},
   "source": [
    "## How to use it?"
   ]
  },
  {
   "cell_type": "markdown",
   "id": "1d23d553",
   "metadata": {},
   "source": [
    "### Development"
   ]
  },
  {
   "cell_type": "markdown",
   "id": "68e9e0a7",
   "metadata": {},
   "source": [
    "Create a python script with the folllowing name: 01_click.py"
   ]
  },
  {
   "cell_type": "code",
   "execution_count": null,
   "id": "1edb8870",
   "metadata": {},
   "outputs": [],
   "source": [
    "# Import the module\n",
    "import click \n",
    "\n",
    "# Initiate the minimal contract of commands\n",
    "@click.command() \n",
    "\n",
    "# Define the CLI arguments\n",
    "@click.option('--count', default=1, help='Number of greetings.')\n",
    "@click.option('--name', prompt='Your name', help='The person to greet.')\n",
    "\n",
    "# Integrate it in your code\n",
    "def hello(count, name):\n",
    "    \"\"\"Simple program that greets NAME for a total of COUNT times.\"\"\"\n",
    "    for x in range(count):\n",
    "        click.echo(f\"Hello {name}!\")\n",
    "\n",
    "        \n",
    "if __name__ == '__main__':\n",
    "    hello()"
   ]
  },
  {
   "cell_type": "markdown",
   "id": "655687de",
   "metadata": {},
   "source": [
    "### Usage"
   ]
  },
  {
   "cell_type": "markdown",
   "id": "55a724a9",
   "metadata": {},
   "source": [
    "Execute your python script with the help of the CLI, it will ask you to add your name:\n",
    "\n",
    ">  python 01_click.py --count=3"
   ]
  },
  {
   "cell_type": "code",
   "execution_count": 3,
   "id": "0c355c05",
   "metadata": {},
   "outputs": [
    {
     "name": "stdout",
     "output_type": "stream",
     "text": [
      "Your name: John\n",
      "Hello John!\n",
      "Hello John!\n",
      "Hello John!\n"
     ]
    }
   ],
   "source": [
    "%run 01_click.py --count=3"
   ]
  },
  {
   "cell_type": "markdown",
   "id": "120b6bc9",
   "metadata": {},
   "source": [
    "## References"
   ]
  },
  {
   "cell_type": "markdown",
   "id": "a5caf60f",
   "metadata": {},
   "source": [
    "- https://click.palletsprojects.com/en/8.1.x"
   ]
  }
 ],
 "metadata": {
  "kernelspec": {
   "display_name": "Python 3 (ipykernel)",
   "language": "python",
   "name": "python3"
  },
  "language_info": {
   "codemirror_mode": {
    "name": "ipython",
    "version": 3
   },
   "file_extension": ".py",
   "mimetype": "text/x-python",
   "name": "python",
   "nbconvert_exporter": "python",
   "pygments_lexer": "ipython3",
   "version": "3.7.13"
  }
 },
 "nbformat": 4,
 "nbformat_minor": 5
}
