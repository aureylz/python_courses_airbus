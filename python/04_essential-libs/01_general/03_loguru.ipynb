{
 "cells": [
  {
   "cell_type": "markdown",
   "id": "01feddc4",
   "metadata": {},
   "source": [
    "# Loguru"
   ]
  },
  {
   "cell_type": "markdown",
   "id": "e04f3d0a",
   "metadata": {},
   "source": [
    "1. [What is this?](#What-is-this?)\n",
    "2. [How to install?](#How-to-install?)\n",
    "3. [How to use it?](#How-to-use-it?)\n",
    "    1. [Development](#Development)\n",
    "    2. [Usage](#Usage)\n",
    "4. [References](#References)"
   ]
  },
  {
   "cell_type": "markdown",
   "id": "88143b2d",
   "metadata": {},
   "source": [
    "## What is this?"
   ]
  },
  {
   "cell_type": "markdown",
   "id": "a9cd2ad1",
   "metadata": {},
   "source": [
    "Loguru is a library which aims to bring enjoyable logging in Python."
   ]
  },
  {
   "cell_type": "markdown",
   "id": "fe752b62",
   "metadata": {},
   "source": [
    "### What is logging?"
   ]
  },
  {
   "cell_type": "markdown",
   "id": "ded5702c",
   "metadata": {},
   "source": [
    "It's the fact to record the application's events in a storage to allow to track, debug, monitor... the behaviour of the application."
   ]
  },
  {
   "cell_type": "markdown",
   "id": "da5c1303",
   "metadata": {},
   "source": [
    "### Why this module?"
   ]
  },
  {
   "cell_type": "markdown",
   "id": "7df4a315",
   "metadata": {},
   "source": [
    "Although loguru is written “from scratch” and does not rely on standard logging internally, both libraries serve the same purpose: provide functionalities to implement a flexible event logging system.\n",
    "\n",
    "The main difference is that standard logging requires the user to explicitly instantiate named Logger and configure them with Handler, Formatter and Filter, while loguru tries to narrow down the amount of configuration steps.\n",
    "\n",
    "Apart from that, usage is globally the same, once the logger object is created or imported you can start using it to log messages with the appropriate severity (logger.debug(\"Dev message\"), logger.warning(\"Danger!\"), etc.), messages which are then sent to the configured handlers."
   ]
  },
  {
   "cell_type": "markdown",
   "id": "0262c138",
   "metadata": {},
   "source": [
    "## How to install?"
   ]
  },
  {
   "cell_type": "code",
   "execution_count": null,
   "id": "8d713f74",
   "metadata": {},
   "outputs": [],
   "source": [
    "%pip install loguru"
   ]
  },
  {
   "cell_type": "markdown",
   "id": "85138811",
   "metadata": {},
   "source": [
    "_Tips_: Think to add it in your __requirements.txt__ file"
   ]
  },
  {
   "cell_type": "markdown",
   "id": "2c56d0d3",
   "metadata": {},
   "source": [
    "## How to use it?"
   ]
  },
  {
   "cell_type": "markdown",
   "id": "1d23d553",
   "metadata": {},
   "source": [
    "### Development"
   ]
  },
  {
   "cell_type": "markdown",
   "id": "ec707535",
   "metadata": {},
   "source": [
    "#### Import the module"
   ]
  },
  {
   "cell_type": "code",
   "execution_count": null,
   "id": "d2b1423e",
   "metadata": {},
   "outputs": [],
   "source": [
    "from loguru import logger"
   ]
  },
  {
   "cell_type": "markdown",
   "id": "de6995b4",
   "metadata": {},
   "source": [
    "#### Integrate it in your code"
   ]
  },
  {
   "cell_type": "code",
   "execution_count": null,
   "id": "1edb8870",
   "metadata": {},
   "outputs": [],
   "source": [
    "# Specific the file, and its format, to record the logs\n",
    "logger.add(\"file_{time}.log\")\n",
    "\n",
    "# Log the mesage 'hello' into the log file\n",
    "logger.debug(\"hello\")"
   ]
  },
  {
   "cell_type": "markdown",
   "id": "b531b8dc",
   "metadata": {},
   "source": [
    "Check the result"
   ]
  },
  {
   "cell_type": "code",
   "execution_count": null,
   "id": "f4da9354",
   "metadata": {
    "scrolled": true
   },
   "outputs": [],
   "source": [
    "%ls file_*.log"
   ]
  },
  {
   "cell_type": "code",
   "execution_count": null,
   "id": "479f8770",
   "metadata": {},
   "outputs": [],
   "source": [
    "%cat file_*.log"
   ]
  },
  {
   "cell_type": "markdown",
   "id": "655687de",
   "metadata": {},
   "source": [
    "### Usage"
   ]
  },
  {
   "cell_type": "markdown",
   "id": "55a724a9",
   "metadata": {},
   "source": [
    "Track the function usage with the following example by creating a script name 03_loguru.py:"
   ]
  },
  {
   "cell_type": "code",
   "execution_count": null,
   "id": "a064b888",
   "metadata": {},
   "outputs": [],
   "source": [
    "import sys\n",
    "from loguru import logger\n",
    "\n",
    "logger.add(\"can_crash_{time}.log\")\n",
    "logger.add(sys.stderr, format=\"{time} {level} {message}\", level=\"INFO\")\n",
    "\n",
    "\n",
    "@logger.catch\n",
    "def can_crash(x):\n",
    "    logger.debug(x)\n",
    "    if x == 0:\n",
    "        logger.info(\"It'll crash!\")\n",
    "    res = 1 / x\n",
    "    logger.debug(res)\n",
    "    return res\n",
    "\n",
    "\n",
    "if __name__ == '__main__':\n",
    "    can_crash(1)\n",
    "    can_crash(0)"
   ]
  },
  {
   "cell_type": "markdown",
   "id": "633bf5b4",
   "metadata": {},
   "source": [
    "The same content will e present into the log file"
   ]
  },
  {
   "cell_type": "code",
   "execution_count": null,
   "id": "caab0bf4",
   "metadata": {},
   "outputs": [],
   "source": [
    "%ls can_crash_*.log"
   ]
  },
  {
   "cell_type": "code",
   "execution_count": null,
   "id": "a23eaaeb",
   "metadata": {},
   "outputs": [],
   "source": [
    "%cat can_crash_*.log"
   ]
  },
  {
   "cell_type": "markdown",
   "id": "120b6bc9",
   "metadata": {},
   "source": [
    "## References"
   ]
  },
  {
   "cell_type": "markdown",
   "id": "a5caf60f",
   "metadata": {},
   "source": [
    "- https://loguru.readthedocs.io/en/stable/overview.html#features"
   ]
  }
 ],
 "metadata": {
  "kernelspec": {
   "display_name": "Python 3 (ipykernel)",
   "language": "python",
   "name": "python3"
  },
  "language_info": {
   "codemirror_mode": {
    "name": "ipython",
    "version": 3
   },
   "file_extension": ".py",
   "mimetype": "text/x-python",
   "name": "python",
   "nbconvert_exporter": "python",
   "pygments_lexer": "ipython3",
   "version": "3.9.10"
  }
 },
 "nbformat": 4,
 "nbformat_minor": 5
}
