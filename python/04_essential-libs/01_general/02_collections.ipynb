{
 "cells": [
  {
   "cell_type": "markdown",
   "id": "01feddc4",
   "metadata": {},
   "source": [
    "# Collections"
   ]
  },
  {
   "cell_type": "markdown",
   "id": "e04f3d0a",
   "metadata": {},
   "source": [
    "1. [What is this?](#What-is-this?)\n",
    "2. [How to install?](#How-to-install?)\n",
    "3. [How to use it?](#How-to-use-it?)\n",
    "    1. [Development](#Development)\n",
    "    2. [Usage](#Usage)\n",
    "4. [References](#References)"
   ]
  },
  {
   "cell_type": "markdown",
   "id": "88143b2d",
   "metadata": {},
   "source": [
    "## What is this?"
   ]
  },
  {
   "cell_type": "markdown",
   "id": "a9cd2ad1",
   "metadata": {},
   "source": [
    "The collection Module in Python provides different types of containers.\n",
    "\n",
    "A Container is an object that is used to store different objects and provide a way to access the contained objects and iterate over them. \n",
    "\n",
    "Some built-in containers are Tuple, List, Dictionary, etc. "
   ]
  },
  {
   "cell_type": "markdown",
   "id": "0262c138",
   "metadata": {},
   "source": [
    "## How to install?"
   ]
  },
  {
   "cell_type": "markdown",
   "id": "3107f31a",
   "metadata": {
    "scrolled": false
   },
   "source": [
    "Nothing todo, it's available by default in the python environment :)"
   ]
  },
  {
   "cell_type": "markdown",
   "id": "2c56d0d3",
   "metadata": {},
   "source": [
    "## How to use it?"
   ]
  },
  {
   "cell_type": "markdown",
   "id": "1d23d553",
   "metadata": {},
   "source": [
    "### Development"
   ]
  },
  {
   "cell_type": "markdown",
   "id": "ec707535",
   "metadata": {},
   "source": [
    "#### Import the module"
   ]
  },
  {
   "cell_type": "code",
   "execution_count": 1,
   "id": "d2b1423e",
   "metadata": {},
   "outputs": [],
   "source": [
    "import collections"
   ]
  },
  {
   "cell_type": "markdown",
   "id": "5090372a",
   "metadata": {},
   "source": [
    "Or better, load only the concerned function which can be:\n",
    "\n",
    "- Counters\n",
    "- OrderedDict\n",
    "- DefaultDict\n",
    "- ChainMap\n",
    "- NamedTuple\n",
    "- DeQue\n",
    "- UserDict\n",
    "- UserList\n",
    "- UserString"
   ]
  },
  {
   "cell_type": "markdown",
   "id": "3646ddfc",
   "metadata": {},
   "source": [
    "Example"
   ]
  },
  {
   "cell_type": "code",
   "execution_count": 2,
   "id": "2ce914d0",
   "metadata": {},
   "outputs": [],
   "source": [
    "from collections import UserList"
   ]
  },
  {
   "cell_type": "markdown",
   "id": "de6995b4",
   "metadata": {},
   "source": [
    "#### Integrate it in your code"
   ]
  },
  {
   "cell_type": "code",
   "execution_count": 3,
   "id": "c3c081b0",
   "metadata": {},
   "outputs": [
    {
     "name": "stdout",
     "output_type": "stream",
     "text": [
      "[1, 2, 3, 4]\n"
     ]
    }
   ],
   "source": [
    "# Create the list\n",
    "L = [1, 2, 3, 4]\n",
    " \n",
    "# Create a userlist\n",
    "userL = UserList(L)\n",
    "\n",
    "# Print the UserList's data\n",
    "print(userL.data)"
   ]
  },
  {
   "cell_type": "markdown",
   "id": "655687de",
   "metadata": {},
   "source": [
    "### Usage"
   ]
  },
  {
   "cell_type": "markdown",
   "id": "6998803d",
   "metadata": {},
   "source": [
    "Create a python script with the folllowing name 02_collections.py which raise an exception each time that the __remove__ or the __pop__ function is used."
   ]
  },
  {
   "cell_type": "code",
   "execution_count": 4,
   "id": "1edb8870",
   "metadata": {},
   "outputs": [
    {
     "name": "stdout",
     "output_type": "stream",
     "text": [
      "Original List\n",
      "[1, 2, 3, 4]\n",
      "After Insertion\n",
      "[1, 2, 3, 4, 5]\n"
     ]
    },
    {
     "ename": "RuntimeError",
     "evalue": "Deletion not allowed",
     "output_type": "error",
     "traceback": [
      "\u001b[0;31m---------------------------------------------------------------------------\u001b[0m",
      "\u001b[0;31mRuntimeError\u001b[0m                              Traceback (most recent call last)",
      "\u001b[0;32m/var/folders/5j/nqj045m54zn9q127sbbq6ft40000gn/T/ipykernel_7302/1513673950.py\u001b[0m in \u001b[0;36m<module>\u001b[0;34m\u001b[0m\n\u001b[1;32m     27\u001b[0m \u001b[0;34m\u001b[0m\u001b[0m\n\u001b[1;32m     28\u001b[0m \u001b[0;31m# Deleting From List\u001b[0m\u001b[0;34m\u001b[0m\u001b[0;34m\u001b[0m\u001b[0;34m\u001b[0m\u001b[0m\n\u001b[0;32m---> 29\u001b[0;31m \u001b[0mL\u001b[0m\u001b[0;34m.\u001b[0m\u001b[0mremove\u001b[0m\u001b[0;34m(\u001b[0m\u001b[0;34m)\u001b[0m\u001b[0;34m\u001b[0m\u001b[0;34m\u001b[0m\u001b[0m\n\u001b[0m",
      "\u001b[0;32m/var/folders/5j/nqj045m54zn9q127sbbq6ft40000gn/T/ipykernel_7302/1513673950.py\u001b[0m in \u001b[0;36mremove\u001b[0;34m(self, s)\u001b[0m\n\u001b[1;32m      8\u001b[0m     \u001b[0;31m# Function to stop deletion from List\u001b[0m\u001b[0;34m\u001b[0m\u001b[0;34m\u001b[0m\u001b[0;34m\u001b[0m\u001b[0m\n\u001b[1;32m      9\u001b[0m     \u001b[0;32mdef\u001b[0m \u001b[0mremove\u001b[0m\u001b[0;34m(\u001b[0m\u001b[0mself\u001b[0m\u001b[0;34m,\u001b[0m \u001b[0ms\u001b[0m\u001b[0;34m=\u001b[0m\u001b[0;32mNone\u001b[0m\u001b[0;34m)\u001b[0m\u001b[0;34m:\u001b[0m\u001b[0;34m\u001b[0m\u001b[0;34m\u001b[0m\u001b[0m\n\u001b[0;32m---> 10\u001b[0;31m         \u001b[0;32mraise\u001b[0m \u001b[0mRuntimeError\u001b[0m\u001b[0;34m(\u001b[0m\u001b[0;34m\"Deletion not allowed\"\u001b[0m\u001b[0;34m)\u001b[0m\u001b[0;34m\u001b[0m\u001b[0;34m\u001b[0m\u001b[0m\n\u001b[0m\u001b[1;32m     11\u001b[0m \u001b[0;34m\u001b[0m\u001b[0m\n\u001b[1;32m     12\u001b[0m     \u001b[0;31m# Function to stop pop from List\u001b[0m\u001b[0;34m\u001b[0m\u001b[0;34m\u001b[0m\u001b[0;34m\u001b[0m\u001b[0m\n",
      "\u001b[0;31mRuntimeError\u001b[0m: Deletion not allowed"
     ]
    }
   ],
   "source": [
    "# Import the module\n",
    "from collections import UserList\n",
    "\n",
    "\n",
    "# Creating a List where deletion is not allowed \n",
    "class MyList(UserList):\n",
    "\n",
    "    # Function to stop deletion from List \n",
    "    def remove(self, s=None):\n",
    "        raise RuntimeError(\"Deletion not allowed\")\n",
    "\n",
    "    # Function to stop pop from List \n",
    "    def pop(self, s=None):\n",
    "        raise RuntimeError(\"Deletion not allowed\")\n",
    "\n",
    "\n",
    "# Driver's code \n",
    "L = MyList([1, 2, 3, 4])\n",
    "\n",
    "print(\"Original List\")\n",
    "print(L)\n",
    "\n",
    "# Inserting to List\" \n",
    "L.append(5)\n",
    "print(\"After Insertion\")\n",
    "print(L)\n",
    "\n",
    "# Deleting From List \n",
    "L.remove()"
   ]
  },
  {
   "cell_type": "markdown",
   "id": "120b6bc9",
   "metadata": {},
   "source": [
    "## References"
   ]
  },
  {
   "cell_type": "markdown",
   "id": "a5caf60f",
   "metadata": {},
   "source": [
    "- https://docs.python.org/3/library/collections.html\n",
    "- https://www.geeksforgeeks.org/python-collections-module"
   ]
  }
 ],
 "metadata": {
  "kernelspec": {
   "display_name": "Python 3 (ipykernel)",
   "language": "python",
   "name": "python3"
  },
  "language_info": {
   "codemirror_mode": {
    "name": "ipython",
    "version": 3
   },
   "file_extension": ".py",
   "mimetype": "text/x-python",
   "name": "python",
   "nbconvert_exporter": "python",
   "pygments_lexer": "ipython3",
   "version": "3.7.13"
  }
 },
 "nbformat": 4,
 "nbformat_minor": 5
}
