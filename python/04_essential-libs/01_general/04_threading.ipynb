{
 "cells": [
  {
   "cell_type": "markdown",
   "id": "01feddc4",
   "metadata": {},
   "source": [
    "# Loguru"
   ]
  },
  {
   "cell_type": "markdown",
   "id": "e04f3d0a",
   "metadata": {},
   "source": [
    "1. [What is this?](#What-is-this?)\n",
    "2. [How to install?](#How-to-install?)\n",
    "3. [How to use it?](#How-to-use-it?)\n",
    "    1. [Development](#Development)\n",
    "    2. [Usage](#Usage)\n",
    "4. [References](#References)"
   ]
  },
  {
   "cell_type": "markdown",
   "id": "88143b2d",
   "metadata": {},
   "source": [
    "## What is this?"
   ]
  },
  {
   "cell_type": "markdown",
   "id": "a9cd2ad1",
   "metadata": {},
   "source": [
    "Python threading allows you to have different parts of your program run concurrently and can simplify your design. \n",
    "If you’ve got some experience in Python and want to speed up your program using threads."
   ]
  },
  {
   "cell_type": "markdown",
   "id": "0262c138",
   "metadata": {},
   "source": [
    "## How to install?"
   ]
  },
  {
   "cell_type": "markdown",
   "id": "85138811",
   "metadata": {},
   "source": [
    "Nothing todo, it's available by default in the python environment :)"
   ]
  },
  {
   "cell_type": "markdown",
   "id": "2c56d0d3",
   "metadata": {},
   "source": [
    "## How to use it?"
   ]
  },
  {
   "cell_type": "markdown",
   "id": "1d23d553",
   "metadata": {},
   "source": [
    "### Development"
   ]
  },
  {
   "cell_type": "markdown",
   "id": "ec707535",
   "metadata": {},
   "source": [
    "#### Import the module"
   ]
  },
  {
   "cell_type": "code",
   "execution_count": 1,
   "id": "d2b1423e",
   "metadata": {},
   "outputs": [],
   "source": [
    "import threading"
   ]
  },
  {
   "cell_type": "markdown",
   "id": "de6995b4",
   "metadata": {},
   "source": [
    "#### Integrate it in your code"
   ]
  },
  {
   "cell_type": "code",
   "execution_count": 2,
   "id": "1edb8870",
   "metadata": {},
   "outputs": [],
   "source": [
    "def thread_function():\n",
    "    print(\"Hello world!\")\n",
    "\n",
    "x = threading.Thread(target=thread_function, args=(1,))"
   ]
  },
  {
   "cell_type": "markdown",
   "id": "655687de",
   "metadata": {},
   "source": [
    "### Usage"
   ]
  },
  {
   "cell_type": "markdown",
   "id": "55a724a9",
   "metadata": {},
   "source": [
    "Create asynchonous threads"
   ]
  },
  {
   "cell_type": "code",
   "execution_count": 3,
   "id": "a064b888",
   "metadata": {},
   "outputs": [
    {
     "name": "stderr",
     "output_type": "stream",
     "text": [
      "17:44:11: Main    : create and start thread 0\n",
      "17:44:11: Thread 0: starting\n",
      "17:44:11: Main    : create and start thread 1\n",
      "17:44:11: Thread 1: starting\n",
      "17:44:11: Main    : create and start thread 2\n",
      "17:44:11: Thread 2: starting\n",
      "17:44:11: Main    : create and start thread 3\n",
      "17:44:11: Thread 3: starting\n",
      "17:44:11: Main    : create and start thread 4\n",
      "17:44:11: Thread 4: starting\n",
      "17:44:11: Main    : create and start thread 5\n",
      "17:44:11: Thread 5: starting\n",
      "17:44:11: Main    : create and start thread 6\n",
      "17:44:11: Thread 6: starting\n",
      "17:44:11: Main    : create and start thread 7\n",
      "17:44:11: Thread 7: starting\n",
      "17:44:11: Main    : create and start thread 8\n",
      "17:44:11: Thread 8: starting\n",
      "17:44:11: Main    : create and start thread 9\n",
      "17:44:11: Thread 9: starting\n",
      "17:44:11: Main    : before joining thread 0\n",
      "17:44:12: Thread 8: finishing after 1s\n",
      "17:44:13: Thread 3: finishing after 2s\n",
      "17:44:13: Thread 4: finishing after 2s\n",
      "17:44:13: Thread 7: finishing after 2s\n",
      "17:44:13: Thread 9: finishing after 2s\n",
      "17:44:14: Thread 0: finishing after 3s\n",
      "17:44:14: Thread 1: finishing after 3s\n",
      "17:44:14: Main    : thread 0 done\n",
      "17:44:14: Main    : before joining thread 1\n",
      "17:44:14: Main    : thread 1 done\n",
      "17:44:14: Main    : before joining thread 2\n",
      "17:44:14: Thread 2: finishing after 3s\n",
      "17:44:14: Main    : thread 2 done\n",
      "17:44:14: Main    : before joining thread 3\n",
      "17:44:14: Main    : thread 3 done\n",
      "17:44:14: Main    : before joining thread 4\n",
      "17:44:14: Main    : thread 4 done\n",
      "17:44:14: Main    : before joining thread 5\n",
      "17:44:15: Thread 5: finishing after 4s\n",
      "17:44:15: Thread 6: finishing after 4s\n",
      "17:44:15: Main    : thread 5 done\n",
      "17:44:15: Main    : before joining thread 6\n",
      "17:44:15: Main    : thread 6 done\n",
      "17:44:15: Main    : before joining thread 7\n",
      "17:44:15: Main    : thread 7 done\n",
      "17:44:15: Main    : before joining thread 8\n",
      "17:44:15: Main    : thread 8 done\n",
      "17:44:15: Main    : before joining thread 9\n",
      "17:44:15: Main    : thread 9 done\n"
     ]
    }
   ],
   "source": [
    "import logging\n",
    "import threading\n",
    "from random import randint\n",
    "from time import sleep\n",
    "\n",
    "THREAD_NBR = int(10)\n",
    "\n",
    "def thread_function(name):\n",
    "    logging.info(f\"Thread {name}: starting\")\n",
    "    delay = randint(1,5)\n",
    "    sleep(delay)\n",
    "    logging.info(f\"Thread {name}: finishing after {delay}s\")\n",
    "\n",
    "if __name__ == \"__main__\":\n",
    "    format = \"%(asctime)s: %(message)s\"\n",
    "    logging.basicConfig(format=format, level=logging.INFO, datefmt=\"%H:%M:%S\")\n",
    "\n",
    "    threads = list()\n",
    "    for index in range(THREAD_NBR):\n",
    "        logging.info(f\"Main    : create and start thread {index}\")\n",
    "        x = threading.Thread(target=thread_function, args=(index,))\n",
    "        threads.append(x)\n",
    "        x.start()\n",
    "\n",
    "    for index, thread in enumerate(threads):\n",
    "        logging.info(f\"Main    : before joining thread {index}\")\n",
    "        thread.join()\n",
    "        logging.info(f\"Main    : thread {index} done\")"
   ]
  },
  {
   "cell_type": "markdown",
   "id": "120b6bc9",
   "metadata": {},
   "source": [
    "## References"
   ]
  },
  {
   "cell_type": "markdown",
   "id": "a5caf60f",
   "metadata": {},
   "source": [
    "- https://realpython.com/intro-to-python-threading\n",
    "- https://docs.python.org/3/library/threading.html"
   ]
  }
 ],
 "metadata": {
  "kernelspec": {
   "display_name": "Python 3 (ipykernel)",
   "language": "python",
   "name": "python3"
  },
  "language_info": {
   "codemirror_mode": {
    "name": "ipython",
    "version": 3
   },
   "file_extension": ".py",
   "mimetype": "text/x-python",
   "name": "python",
   "nbconvert_exporter": "python",
   "pygments_lexer": "ipython3",
   "version": "3.7.13"
  }
 },
 "nbformat": 4,
 "nbformat_minor": 5
}
