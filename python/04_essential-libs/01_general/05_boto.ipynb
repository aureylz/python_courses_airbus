{
 "cells": [
  {
   "cell_type": "markdown",
   "id": "01feddc4",
   "metadata": {},
   "source": [
    "# Boto"
   ]
  },
  {
   "cell_type": "markdown",
   "id": "e04f3d0a",
   "metadata": {},
   "source": [
    "1. [What is this?](#What-is-this?)\n",
    "2. [How to install?](#How-to-install?)\n",
    "3. [How to use it?](#How-to-use-it?)\n",
    "    1. [Development](#Development)\n",
    "    2. [Usage](#Usage)\n",
    "4. [References](#References)"
   ]
  },
  {
   "cell_type": "markdown",
   "id": "88143b2d",
   "metadata": {},
   "source": [
    "## What is this?"
   ]
  },
  {
   "cell_type": "markdown",
   "id": "a9cd2ad1",
   "metadata": {},
   "source": [
    "It's used to create, configure, and manage AWS services, such as Amazon Elastic Compute Cloud (Amazon EC2) and Amazon Simple Storage Service (Amazon S3).\n",
    "The SDK provides an object-oriented API as well as low-level access to AWS services."
   ]
  },
  {
   "cell_type": "markdown",
   "id": "0262c138",
   "metadata": {},
   "source": [
    "## How to install?"
   ]
  },
  {
   "cell_type": "code",
   "execution_count": null,
   "id": "55a919a7",
   "metadata": {},
   "outputs": [],
   "source": [
    "%pip install boto3"
   ]
  },
  {
   "cell_type": "markdown",
   "id": "6b41fc8d",
   "metadata": {},
   "source": [
    "_Tips:_ Think to add it in your **requirements.txt** file"
   ]
  },
  {
   "cell_type": "markdown",
   "id": "2c56d0d3",
   "metadata": {},
   "source": [
    "## How to use it?"
   ]
  },
  {
   "cell_type": "markdown",
   "id": "1d23d553",
   "metadata": {},
   "source": [
    "### Development"
   ]
  },
  {
   "cell_type": "markdown",
   "id": "54d9dbfa",
   "metadata": {},
   "source": [
    "#### Authentication"
   ]
  },
  {
   "cell_type": "markdown",
   "id": "69946da1",
   "metadata": {},
   "source": [
    "To be able to contact AWS services, we must be authenticated with the corresponding credentials.\n",
    "\n",
    "This can be done through the module with the following parameters:\n",
    "\n",
    "- __AWS_ACCESS_KEY_ID__ - The access key for your AWS account.\n",
    "- __AWS_SECRET_ACCESS_KEY__ - The secret key for your AWS account.\n",
    "- __AWS_SESSION_TOKEN__ - The session key for your AWS account. This is only needed when you are using temporary credentials. The AWS_SECURITY_TOKEN environment variable can also be used, but is only supported for backwards compatibility purposes. AWS_SESSION_TOKEN is supported by multiple AWS SDKs besides python.\n",
    "\n",
    "Example when it's used in the code:"
   ]
  },
  {
   "cell_type": "code",
   "execution_count": null,
   "id": "a2dfbdba",
   "metadata": {},
   "outputs": [],
   "source": [
    "session = boto3.Session(\n",
    "    aws_access_key_id=ACCESS_KEY,\n",
    "    aws_secret_access_key=SECRET_KEY,\n",
    "    aws_session_token=SESSION_TOKEN\n",
    ")"
   ]
  },
  {
   "cell_type": "markdown",
   "id": "e047e748",
   "metadata": {},
   "source": [
    "Or with the environment variables:"
   ]
  },
  {
   "cell_type": "code",
   "execution_count": null,
   "id": "acfabbbb",
   "metadata": {},
   "outputs": [],
   "source": [
    "%env AWS_ACCESS_KEY_ID=my-access-key\n",
    "%env AWS_SECRET_ACCESS_KEY=my-secret-access-key\n",
    "%env AWS_SESSION_TOKEN=my-session-token"
   ]
  },
  {
   "cell_type": "markdown",
   "id": "7e1b407d",
   "metadata": {},
   "source": [
    "To ease the next steps this course will be based on the environment variables."
   ]
  },
  {
   "cell_type": "markdown",
   "id": "ec707535",
   "metadata": {},
   "source": [
    "#### Import the module"
   ]
  },
  {
   "cell_type": "code",
   "execution_count": null,
   "id": "d2b1423e",
   "metadata": {},
   "outputs": [],
   "source": [
    "import boto3"
   ]
  },
  {
   "cell_type": "markdown",
   "id": "de6995b4",
   "metadata": {},
   "source": [
    "#### Load the considered session, resource or client depending on the need"
   ]
  },
  {
   "cell_type": "code",
   "execution_count": null,
   "id": "1edb8870",
   "metadata": {},
   "outputs": [],
   "source": [
    "session = boto3.Session()\n",
    "ec2_resource = boto3.resource('ec2')\n",
    "rds_client = boto3.client('rds')"
   ]
  },
  {
   "cell_type": "markdown",
   "id": "c15899ea",
   "metadata": {},
   "source": [
    "Integrate it in your code"
   ]
  },
  {
   "cell_type": "code",
   "execution_count": null,
   "id": "351183b3",
   "metadata": {},
   "outputs": [],
   "source": [
    "ec2_resource.get_instance_id()\n",
    "rds_client.get_instance_id()"
   ]
  },
  {
   "cell_type": "markdown",
   "id": "655687de",
   "metadata": {},
   "source": [
    "### Usage"
   ]
  },
  {
   "cell_type": "markdown",
   "id": "55a724a9",
   "metadata": {},
   "source": [
    "Write the following script to manipulate S3 file"
   ]
  },
  {
   "cell_type": "code",
   "execution_count": null,
   "id": "a064b888",
   "metadata": {},
   "outputs": [],
   "source": [
    "import json\n",
    "import boto3\n",
    "\n",
    "\n",
    "class S3(object):\n",
    "    \"\"\"\n",
    "    Provide S3 file functions\n",
    "    \"\"\"\n",
    "\n",
    "    def __init__(self, bucket_name: str):\n",
    "        \"\"\"\n",
    "        object setup\n",
    "        :param str bucket_name: the bucket where the file must be stored\n",
    "        \"\"\"\n",
    "        self.bucket_name = bucket_name\n",
    "        self.s3_resource = boto3.resource('s3')\n",
    "\n",
    "    def get(self, file_name: str):\n",
    "        \"\"\"\n",
    "        get s3 file data\n",
    "        :param str file_name: the filename to get content\n",
    "        :return: none instead if issue\n",
    "        \"\"\"\n",
    "        return self.s3_resource.Object(self.bucket_name, file_name).get()['Body'].read()\n",
    "\n",
    "    def update(self, file_name: str, data: dict):\n",
    "        \"\"\"\n",
    "        update s3 file content\n",
    "        :param str file_name: the filename to update\n",
    "        :param dict data: the data to record in the file\n",
    "        :return: none instead if issue\n",
    "        \"\"\"\n",
    "        try:\n",
    "            if 'bound method' in str(data['data']['results']):\n",
    "                data['data'].pop('results')\n",
    "        except Exception:\n",
    "            pass\n",
    "        return self.s3_resource.Object(self.bucket_name, file_name).put(Body=(bytes(json.dumps(data).encode('UTF-8'))))\n",
    "\n",
    "    def delete(self, file_name: str):\n",
    "        \"\"\"\n",
    "        delete s3 file\n",
    "        :param str file_name: the filename to delete\n",
    "        :return: none instead if issue\n",
    "        \"\"\"\n",
    "        return self.s3_resource.Object(self.bucket_name, file_name).delete()\n",
    "\n",
    "\n",
    "if __name__ == '__main__':\n",
    "    bucket_name = str(\"myBucket\")\n",
    "    file_name = str(\"hello.json\")\n",
    "    file_data = dict({\"message\": \"Hello!\"})\n",
    "    \n",
    "    # Class instance\n",
    "    s3 = S3(bucket_name=bucket_name)\n",
    "\n",
    "    # Execute the functions of the S3 class\n",
    "    print('Create file', s3.update(file_name, file_data))\n",
    "    print('Get file content', s3.get(file_name))\n",
    "    print('Delete file', s3.delete(file_name))\n",
    "    "
   ]
  },
  {
   "cell_type": "markdown",
   "id": "120b6bc9",
   "metadata": {},
   "source": [
    "## References"
   ]
  },
  {
   "cell_type": "markdown",
   "id": "a5caf60f",
   "metadata": {},
   "source": [
    "- https://boto3.amazonaws.com/v1/documentation/api/latest/index.html\n",
    "- https://boto3.amazonaws.com/v1/documentation/api/latest/guide/credentials.html"
   ]
  }
 ],
 "metadata": {
  "kernelspec": {
   "display_name": "Python 3 (ipykernel)",
   "language": "python",
   "name": "python3"
  },
  "language_info": {
   "codemirror_mode": {
    "name": "ipython",
    "version": 3
   },
   "file_extension": ".py",
   "mimetype": "text/x-python",
   "name": "python",
   "nbconvert_exporter": "python",
   "pygments_lexer": "ipython3",
   "version": "3.9.10"
  }
 },
 "nbformat": 4,
 "nbformat_minor": 5
}
