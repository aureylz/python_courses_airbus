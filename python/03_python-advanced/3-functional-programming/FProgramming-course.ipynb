{
 "cells": [
  {
   "cell_type": "markdown",
   "metadata": {},
   "source": [
    "# Intro on Functionnal programming"
   ]
  },
  {
   "cell_type": "markdown",
   "metadata": {},
   "source": [
    "(https://docs.python.org/3/howto/functional.html)\n",
    "\n",
    "Programming languages support decomposing problems in several different ways:\n",
    "\n",
    "Most programming languages are <b>procedural</b>: programs are lists of instructions that tell the computer what to do with the program’s input. C, Pascal, and even Unix shells are procedural languages.\n",
    "\n",
    "In <b>declarative</b> languages, you write a specification that describes the problem to be solved, and the language implementation figures out how to perform the computation efficiently. SQL is the declarative language you’re most likely to be familiar with; a SQL query describes the data set you want to retrieve, and the SQL engine decides whether to scan tables or use indexes, which subclauses should be performed first, etc.\n",
    "\n",
    "<b>Object-oriented</b> programs manipulate collections of objects. Objects have internal state and support methods that query or modify this internal state in some way. Smalltalk and Java are object-oriented languages. C++ and Python are languages that support object-oriented programming, but don’t force the use of object-oriented features.\n",
    "\n",
    "<b>Functional programming</b> decomposes a problem into a set of functions. Ideally, functions only take inputs and produce outputs, and don’t have any internal state that affects the output produced for a given input. Well-known functional languages include the ML family (Standard ML, OCaml, and other variants) and Haskell."
   ]
  },
  {
   "cell_type": "markdown",
   "metadata": {},
   "source": [
    "<b>Python</b> is a multiparadigm programming language that allows to do procedural, object oriented or functional programming, possibly mixing all of them. "
   ]
  },
  {
   "cell_type": "markdown",
   "metadata": {},
   "source": [
    "Functional programming can be considered the <b>opposite</b> of object-oriented programming. Objects are little capsules containing some internal state along with a collection of method calls that let you modify this state, and programs consist of making the right set of state changes. Functional programming wants to avoid state changes as much as possible and works with data flowing between functions. In Python you might combine the two approaches by writing functions that take and return instances representing objects in your application (e-mail messages, transactions, etc.).\n",
    "\n",
    "Functional design may seem like an odd constraint to work under. Why should you avoid objects and side effects? There are theoretical and practical advantages to the functional style:\n",
    "\n",
    "- Formal provability.\n",
    "- Modularity.\n",
    "- Composability.\n",
    "\n",
    "Ease of debugging and testing because you will be encouraged to write very small function."
   ]
  },
  {
   "cell_type": "markdown",
   "metadata": {},
   "source": [
    "## In practice what is it ???"
   ]
  },
  {
   "cell_type": "markdown",
   "metadata": {},
   "source": [
    "- The basic, and not very enlightening definition is this: in a functional language, functions are first-class citizens.\n",
    "- The ```for``` loop is discouraged, use recursion instead.\n",
    "- use of HOF (higher order function) is encouraged.\n",
    "- inplace modification of object or use of global variable is discouraged."
   ]
  },
  {
   "cell_type": "markdown",
   "metadata": {},
   "source": [
    "# 1. Basics : \n",
    "## 1.1 A function is as any variable in python !"
   ]
  },
  {
   "cell_type": "code",
   "execution_count": null,
   "metadata": {},
   "outputs": [],
   "source": [
    "def foo():\n",
    "    return\n",
    "def one():\n",
    "    return 1\n",
    "def two():\n",
    "    return 2"
   ]
  },
  {
   "cell_type": "code",
   "execution_count": null,
   "metadata": {},
   "outputs": [],
   "source": [
    "# You can handle function as any variable as in this example\n",
    "a = foo\n",
    "b = one\n",
    "c = two\n",
    "print(a, b, c, \"\\n\", \n",
    "      a(), b(), c())"
   ]
  },
  {
   "cell_type": "markdown",
   "metadata": {},
   "source": [
    "Function can be put in list, dictionnaries, sets...\n",
    "\n",
    "For example below, the functions are stored as the keys of a dictionnary, and their returned value as the values of this dictionnary."
   ]
  },
  {
   "cell_type": "code",
   "execution_count": null,
   "metadata": {},
   "outputs": [],
   "source": [
    "dictionnary_function = {a: a(), b:b(), c: c()}"
   ]
  },
  {
   "cell_type": "code",
   "execution_count": null,
   "metadata": {},
   "outputs": [],
   "source": [
    "print(dictionnary_function)"
   ]
  },
  {
   "cell_type": "markdown",
   "metadata": {},
   "source": [
    "# 1.2 Lambda functions\n",
    "Source (https://realpython.com/python-lambda/#lambda-calculus)"
   ]
  },
  {
   "cell_type": "markdown",
   "metadata": {},
   "source": [
    "Lambda expressions in Python and other programming languages have their roots in lambda calculus. Lambda calculus can encode any computation. It is Turing complete, but contrary to the concept of a Turing machine, it is pure and does not keep any state."
   ]
  },
  {
   "cell_type": "markdown",
   "metadata": {},
   "source": [
    "In python, lambda function can be seen as anonymous function, that has no names. One trivial lambda function is the identity : \n",
    "\n",
    "```python \n",
    "lambda x: x\n",
    "```\n",
    "\n",
    "In the example the expression is composed of : \n",
    "\n",
    "- The keyword: ```lambda```\n",
    "- A bound variable: x\n",
    "- A body: x\n",
    "\n",
    "In practice, lambda function are used in python usually in the call of higher order functions."
   ]
  },
  {
   "cell_type": "code",
   "execution_count": null,
   "metadata": {},
   "outputs": [],
   "source": [
    "# Lambda can be called as any classical function (however this syntax is not very common)\n",
    "a = (lambda x: 2*x)\n",
    "print(a)\n",
    "print(a(1))\n",
    "\n",
    "b = (lambda x: 3*x)(1)\n",
    "print(b)"
   ]
  },
  {
   "cell_type": "markdown",
   "metadata": {},
   "source": [
    "# 2. Higher order function\n",
    "One higher order function is a function that have as some of its argument other functions. This is very common in functionnal programming where you can compose function for example.\n",
    "Python includes some basics ```HOF``` that you may use directly in the rest of this notebook : \n",
    "```python \n",
    "max(), min(), sorted(), map(), filter(), functools.reduce()\n",
    "```\n",
    "\n",
    "Don't hesitate to look at the documentation of those function. by running the following cell."
   ]
  },
  {
   "cell_type": "markdown",
   "metadata": {},
   "source": [
    "## Example 1 : sort a list of items according to some function."
   ]
  },
  {
   "cell_type": "code",
   "execution_count": null,
   "metadata": {},
   "outputs": [],
   "source": [
    "from dataclasses import dataclass\n",
    "@dataclass(frozen=True)\n",
    "class Item:\n",
    "    value: int\n",
    "    weight: int\n",
    "    price: int\n",
    "\n",
    "import random\n",
    "list_items = [Item(value=random.randint(0, 10000),\n",
    "                   weight=random.randint(30, 50),\n",
    "                   price=random.randint(10, 25)) for i in range(20)] # 50 random items"
   ]
  },
  {
   "cell_type": "markdown",
   "metadata": {},
   "source": [
    "In the classical [knapsack problem](https://en.wikipedia.org/wiki/Knapsack_problem), your goal is to fill your knapsack of given capacity with items that sums to the highest value. The constraint is to fulfill the capacity constraint i.e the sum of the weight of your chosen item should not exceed the capacity of your knapsack. One good heuristic to fill the knapsack is to select first the items with the higher $\\frac{value}{weight}$. The goal of this exercice is to sort ```list_items``` according to this function. Consider using the built-in function ```sorted``` which is a <b>HOF</b> and look to its signature, you should also use a ```lambda``` function in your solution. As a bonus, you can also find a solution without ```lambda```."
   ]
  },
  {
   "cell_type": "code",
   "execution_count": null,
   "metadata": {},
   "outputs": [],
   "source": [
    "sorted_list_items = None # TOFILL "
   ]
  },
  {
   "cell_type": "code",
   "execution_count": null,
   "metadata": {},
   "outputs": [],
   "source": [
    "%load correction/course/sort_items.py"
   ]
  },
  {
   "cell_type": "code",
   "execution_count": null,
   "metadata": {},
   "outputs": [],
   "source": [
    "for item in sorted_list_items:\n",
    "    print(\"value per unit of weight : \", item.value/item.weight)"
   ]
  },
  {
   "cell_type": "markdown",
   "metadata": {},
   "source": [
    "# 2.1 Map/Reduce paradigm\n",
    "In theory, ```map``` is a HOF that has as input a list of some elements ```l``` and a function ```f``` to apply. \n",
    "In python, ```map``` is slightly different and take iterable a ```l``` and returns an <b>iterator</b>. In general, ```map``` idea is to parallelize the process of input to output but python is not natively doing it."
   ]
  },
  {
   "cell_type": "markdown",
   "metadata": {},
   "source": [
    "### 2.1.1 Map function.\n",
    "### Example 2 : implementation of map\n",
    "Lets consider we have a list of integer ```l```, we want to compute a new list containing the double of the value contained in ```l```."
   ]
  },
  {
   "cell_type": "code",
   "execution_count": null,
   "metadata": {},
   "outputs": [],
   "source": [
    "import random\n",
    "l = [random.randint(0, 20) for i in range(40)] # Some random list"
   ]
  },
  {
   "cell_type": "markdown",
   "metadata": {},
   "source": [
    "Here is a procedural version, where we create the list in a ```for``` loop."
   ]
  },
  {
   "cell_type": "code",
   "execution_count": null,
   "metadata": {},
   "outputs": [],
   "source": [
    "# Procedural way :\n",
    "l2 = []\n",
    "for elem in l:\n",
    "    l2.append(elem*2)\n",
    "print(l2)\n",
    "assert(all(x==y*2 for x,y in zip(l2, l)))"
   ]
  },
  {
   "cell_type": "markdown",
   "metadata": {},
   "source": [
    "We ask you to write down a ```my_map``` function that takes as input a list $l$ and a function $f$, that returns a new list where each element is equal to $f(x)$ where $x$ is the element of $l$. For brave, you can also do a Iterable version."
   ]
  },
  {
   "cell_type": "code",
   "execution_count": null,
   "metadata": {},
   "outputs": [],
   "source": [
    "from typing import List, Iterable\n",
    "# write a map function working with list, with an additionnal len_list argument to improve the computation time : \n",
    "def my_map(list_: List, len_list: int, function)->List:\n",
    "    # TO FILL \n",
    "    pass\n",
    "# write a map function working on iterable, and returning an iterator. \n",
    "def my_map_iterable(iterable: Iterable, function)->Iterable:\n",
    "    # TO FILL\n",
    "    pass"
   ]
  },
  {
   "cell_type": "code",
   "execution_count": null,
   "metadata": {},
   "outputs": [],
   "source": [
    "%load correction/course/my_map.py"
   ]
  },
  {
   "cell_type": "code",
   "execution_count": null,
   "metadata": {},
   "outputs": [],
   "source": [
    "# Testing with the double function : \n",
    "def double(x):\n",
    "    return 2*x\n",
    "\n",
    "l2_list_map = my_map(l, len(l), double)\n",
    "assert(all(x==double(y) for x,y in zip(l2_list_map, l)))\n",
    "l2_iter_map = list(my_map_iterable(l, double))\n",
    "assert(all(x==double(y) for x,y in zip(l2_iter_map, l)))\n",
    "l2_python_map = list(map(double, l))\n",
    "assert(all(x==double(y) for x,y in zip(l2_python_map, l)))"
   ]
  },
  {
   "cell_type": "markdown",
   "metadata": {},
   "source": [
    "### 2.1.2 Reduce : \n",
    "``\n",
    "functools.reduce(function, iterable[, initializer])\n",
    "Apply function of two arguments cumulatively to the items of iterable, from left to right, so as to reduce the iterable to a single value. For example, reduce(lambda x, y: x+y, [1, 2, 3, 4, 5]) calculates ((((1+2)+3)+4)+5). The left argument, x, is the accumulated value and the right argument, y, is the update value from the iterable.\n",
    "``"
   ]
  },
  {
   "cell_type": "markdown",
   "metadata": {},
   "source": [
    "### Example 3 ) implementation of reduce : "
   ]
  },
  {
   "cell_type": "code",
   "execution_count": null,
   "metadata": {},
   "outputs": [],
   "source": [
    "def my_reduce_list(list_: List, function, initializer):\n",
    "    pass\n",
    "\n",
    "    \n",
    "def my_reduce_iterable(iterable: Iterable, function, initializer):\n",
    "    pass"
   ]
  },
  {
   "cell_type": "code",
   "execution_count": null,
   "metadata": {},
   "outputs": [],
   "source": [
    "%load correction/course/my_reduce.py"
   ]
  },
  {
   "cell_type": "markdown",
   "metadata": {},
   "source": [
    "Let's test the reduce function where the reduction function is the addition. Therefore, we can compute the sum of the list for example. "
   ]
  },
  {
   "cell_type": "code",
   "execution_count": null,
   "metadata": {},
   "outputs": [],
   "source": [
    "import functools\n",
    "def sum_xy(x, y):\n",
    "    return x+y\n",
    "sum_list = my_reduce_list(l, sum_xy, None)\n",
    "sum_iterator = my_reduce_iterable(l, sum_xy, None)\n",
    "sum_functools = functools.reduce(sum_xy, l)\n",
    "print(sum_list, \"using my_reduce_list\")\n",
    "print(sum_iterator, \"using my_reduce_iterable\")\n",
    "print(sum_functools, \"using the reduce from functools\")\n",
    "print(sum(l), \" using the sum built-in\")"
   ]
  },
  {
   "cell_type": "markdown",
   "metadata": {},
   "source": [
    "### Exemple 4) concatenate characters into a string ?\n",
    "Using any reduce function previously used, your goal is to create the string \"cybersecurityairbus\" from the following list of characters."
   ]
  },
  {
   "cell_type": "code",
   "execution_count": null,
   "metadata": {},
   "outputs": [],
   "source": [
    "list_of_characters = [\"c\", \"y\", \"b\", \"e\", \"r\", \n",
    "                      \"s\", \"e\", \"c\", \"u\", \"r\", \"i\", \"t\", \"y\", \n",
    "                      \"a\", \"i\", \"r\", \"b\", \"u\", \"s\"]"
   ]
  },
  {
   "cell_type": "code",
   "execution_count": null,
   "metadata": {},
   "outputs": [],
   "source": [
    "string = None \n",
    "print(string)"
   ]
  },
  {
   "cell_type": "code",
   "execution_count": null,
   "metadata": {},
   "outputs": [],
   "source": [
    "%load correction/course/concatenate_string.py"
   ]
  },
  {
   "cell_type": "markdown",
   "metadata": {},
   "source": [
    "## 2.2 Composing function"
   ]
  },
  {
   "cell_type": "markdown",
   "metadata": {},
   "source": [
    "Let's consider two function $f:X->Y$ and $g:Z->X$, then $f \\circ g: Z->Y$ is the composed function.\n",
    "If you have a list of operator to apply on input dataIt can be usefull to : apply the ```map``` with a compose function : \n",
    "indeed $map(f)\\circ map(g) = map(f \\circ g)$. This simple trick can speed up computation time."
   ]
  },
  {
   "cell_type": "markdown",
   "metadata": {},
   "source": [
    "### Example 5) Write the compose function :\n",
    "```compose``` should take two function and returns a new <b>function</b> that is the composed one."
   ]
  },
  {
   "cell_type": "code",
   "execution_count": null,
   "metadata": {},
   "outputs": [],
   "source": [
    "def compose(f, g):\n",
    "    # TO FILL\n",
    "    pass"
   ]
  },
  {
   "cell_type": "code",
   "execution_count": null,
   "metadata": {},
   "outputs": [],
   "source": [
    "# %load correction/course/compose.py\n",
    "def compose(f, g):\n",
    "    return lambda x: f(g(x))"
   ]
  },
  {
   "cell_type": "markdown",
   "metadata": {},
   "source": [
    "Test the compose function by building the composed function (2*x)(y**2)."
   ]
  },
  {
   "cell_type": "code",
   "execution_count": null,
   "metadata": {},
   "outputs": [],
   "source": [
    "double_square = compose(f=lambda x: 2*x, g=lambda y: y**2) "
   ]
  },
  {
   "cell_type": "code",
   "execution_count": null,
   "metadata": {},
   "outputs": [],
   "source": [
    "l3 = list(map(double_square, l))"
   ]
  },
  {
   "cell_type": "markdown",
   "metadata": {},
   "source": [
    "### Example 6) Compose function of a list of function :\n",
    "We can generalize the previous compose function with a list of function... Hint : you can reuse the compose function and ```reduce``` higher order function."
   ]
  },
  {
   "cell_type": "code",
   "execution_count": null,
   "metadata": {},
   "outputs": [],
   "source": [
    "from functools import reduce\n",
    "def compose_list(*func):\n",
    "    # TOFILL\n",
    "    pas\n"
   ]
  },
  {
   "cell_type": "code",
   "execution_count": null,
   "metadata": {},
   "outputs": [],
   "source": [
    "%load correction/course/compose_list.py"
   ]
  },
  {
   "cell_type": "code",
   "execution_count": null,
   "metadata": {},
   "outputs": [],
   "source": [
    "pipeline_function = compose_list(*[double, double])"
   ]
  },
  {
   "cell_type": "code",
   "execution_count": null,
   "metadata": {},
   "outputs": [],
   "source": [
    "l4 = list(map(pipeline_function, l))"
   ]
  },
  {
   "cell_type": "code",
   "execution_count": null,
   "metadata": {},
   "outputs": [],
   "source": [
    "print(l, \"\\n\", l4)"
   ]
  },
  {
   "cell_type": "markdown",
   "metadata": {},
   "source": [
    "### Example 7: Map/Reduce as a composed function:"
   ]
  },
  {
   "cell_type": "code",
   "execution_count": null,
   "metadata": {},
   "outputs": [],
   "source": [
    "# Look at signature of reduce : \n",
    "reduce??"
   ]
  },
  {
   "cell_type": "code",
   "execution_count": null,
   "metadata": {},
   "outputs": [],
   "source": [
    "# Look at signature of map : \n",
    "map??"
   ]
  },
  {
   "cell_type": "markdown",
   "metadata": {},
   "source": [
    "- Code a function ```map_reduce```\n",
    " returning another function that represents $reduce \\circ map$. the reduce used in function will be $f_{reduce}$ and the one used in map, $f_{map}$."
   ]
  },
  {
   "cell_type": "code",
   "execution_count": null,
   "metadata": {},
   "outputs": [],
   "source": [
    "def map_reduce(f_map, f_reduce):\n",
    "    # TOFILL\n",
    "    pass"
   ]
  },
  {
   "cell_type": "markdown",
   "metadata": {},
   "source": [
    "Test : Compute the sum of the values of the list $l_2=2*l$ "
   ]
  },
  {
   "cell_type": "code",
   "execution_count": null,
   "metadata": {},
   "outputs": [],
   "source": [
    "f = map_reduce(f_map=double, f_reduce=sum_xy)\n",
    "sum_of_double = f(l)\n",
    "print(\"pure FP : \", sum_of_double)\n",
    "print(\"simple :-)\", sum([x*2 for x in l]))"
   ]
  },
  {
   "cell_type": "markdown",
   "metadata": {},
   "source": [
    "# 3. Recursion\n",
    "Pure functional programming language usually avoid the use of <b>for</b> loops, (when the feature actually exists !!!). Any for loop based code can be rewritten as recursion and vice versa. \n",
    "As a reminder, A recursive function involve the calling to itself at some point."
   ]
  },
  {
   "cell_type": "markdown",
   "metadata": {},
   "source": [
    "### Example 8) Replace for loop by recursion.\n",
    "Write a recurvise version of this very basic function that is printing the element of a list in order."
   ]
  },
  {
   "cell_type": "code",
   "execution_count": null,
   "metadata": {},
   "outputs": [],
   "source": [
    "from typing import List, Any"
   ]
  },
  {
   "cell_type": "code",
   "execution_count": null,
   "metadata": {},
   "outputs": [],
   "source": [
    "#Procedural way\n",
    "def print_list(list_of_something: List[Any]):\n",
    "    for item in list_of_something:\n",
    "        print(item)"
   ]
  },
  {
   "cell_type": "code",
   "execution_count": null,
   "metadata": {},
   "outputs": [],
   "source": [
    "def print_list_recursive(list_of_something: List[Any]):\n",
    "    # TOFILL\n",
    "    pass\n",
    "            "
   ]
  },
  {
   "cell_type": "code",
   "execution_count": null,
   "metadata": {},
   "outputs": [],
   "source": [
    "%load correction/course/print_list_recursive.py"
   ]
  },
  {
   "cell_type": "markdown",
   "metadata": {},
   "source": [
    "You have now all the basics to play with functionnal programming !!! "
   ]
  }
 ],
 "metadata": {
  "kernelspec": {
   "display_name": "Python 3",
   "language": "python",
   "name": "python3"
  },
  "language_info": {
   "codemirror_mode": {
    "name": "ipython",
    "version": 3
   },
   "file_extension": ".py",
   "mimetype": "text/x-python",
   "name": "python",
   "nbconvert_exporter": "python",
   "pygments_lexer": "ipython3",
   "version": "3.8.5"
  }
 },
 "nbformat": 4,
 "nbformat_minor": 5
}
