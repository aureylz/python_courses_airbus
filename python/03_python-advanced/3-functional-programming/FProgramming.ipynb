{
 "cells": [
  {
   "cell_type": "markdown",
   "id": "fc05f8dd",
   "metadata": {},
   "source": [
    "# Intro on Functionnal programming"
   ]
  },
  {
   "cell_type": "markdown",
   "id": "70f90474",
   "metadata": {},
   "source": [
    "(https://docs.python.org/3/howto/functional.html)\n",
    "\n",
    "Programming languages support decomposing problems in several different ways:\n",
    "\n",
    "Most programming languages are <b>procedural</b>: programs are lists of instructions that tell the computer what to do with the program’s input. C, Pascal, and even Unix shells are procedural languages.\n",
    "\n",
    "In <b>declarative</b> languages, you write a specification that describes the problem to be solved, and the language implementation figures out how to perform the computation efficiently. SQL is the declarative language you’re most likely to be familiar with; a SQL query describes the data set you want to retrieve, and the SQL engine decides whether to scan tables or use indexes, which subclauses should be performed first, etc.\n",
    "\n",
    "<b>Object-oriented</b> programs manipulate collections of objects. Objects have internal state and support methods that query or modify this internal state in some way. Smalltalk and Java are object-oriented languages. C++ and Python are languages that support object-oriented programming, but don’t force the use of object-oriented features.\n",
    "\n",
    "<b>Functional programming</b> decomposes a problem into a set of functions. Ideally, functions only take inputs and produce outputs, and don’t have any internal state that affects the output produced for a given input. Well-known functional languages include the ML family (Standard ML, OCaml, and other variants) and Haskell."
   ]
  },
  {
   "cell_type": "markdown",
   "id": "bddf2b41",
   "metadata": {},
   "source": [
    "<b>Python</b> is a multiparadigm programming language that allows to do procedural, object oriented or functional programming, possibly mixing all of them. "
   ]
  },
  {
   "cell_type": "markdown",
   "id": "78151c9c",
   "metadata": {},
   "source": [
    "Functional programming can be considered the <b>opposite</b> of object-oriented programming. Objects are little capsules containing some internal state along with a collection of method calls that let you modify this state, and programs consist of making the right set of state changes. Functional programming wants to avoid state changes as much as possible and works with data flowing between functions. In Python you might combine the two approaches by writing functions that take and return instances representing objects in your application (e-mail messages, transactions, etc.).\n",
    "\n",
    "Functional design may seem like an odd constraint to work under. Why should you avoid objects and side effects? There are theoretical and practical advantages to the functional style:\n",
    "\n",
    "- Formal provability.\n",
    "- Modularity.\n",
    "- Composability.\n",
    "\n",
    "Ease of debugging and testing because you will be encouraged to write very small function."
   ]
  },
  {
   "cell_type": "markdown",
   "id": "71c20779",
   "metadata": {},
   "source": [
    "## In practice what is it ???"
   ]
  },
  {
   "cell_type": "markdown",
   "id": "6b695553",
   "metadata": {},
   "source": [
    "- The basic, and not very enlightening definition is this: in a functional language, functions are first-class citizens.\n",
    "- The ```for``` loop is discouraged, use recursion instead.\n",
    "- use of HOF (higher order function) is encouraged.\n",
    "- no inplace modification of object or global variable is discouraged."
   ]
  },
  {
   "cell_type": "markdown",
   "id": "f4789502",
   "metadata": {},
   "source": [
    "# 1. Basics : Manipulate function as any objects in python !"
   ]
  },
  {
   "cell_type": "code",
   "execution_count": null,
   "id": "2fad22b6",
   "metadata": {},
   "outputs": [],
   "source": [
    "def foo():\n",
    "    return\n",
    "def one():\n",
    "    return 1\n",
    "def two():\n",
    "    return 2"
   ]
  },
  {
   "cell_type": "code",
   "execution_count": null,
   "id": "9fd3e00b",
   "metadata": {},
   "outputs": [],
   "source": [
    "a = foo\n",
    "b = one\n",
    "c = two\n",
    "print(a, b, c, \"\\n\", \n",
    "      a(), b(), c())"
   ]
  },
  {
   "cell_type": "markdown",
   "id": "cf8fbcc3",
   "metadata": {},
   "source": [
    "Function can be put in list, dictionnaries, set etc ! for example below, store the function in a dictionnaries, and their returned value as values."
   ]
  },
  {
   "cell_type": "code",
   "execution_count": null,
   "id": "9c25e820",
   "metadata": {},
   "outputs": [],
   "source": [
    "dictionnary_function = {a: a(), b:b(), c: c()}"
   ]
  },
  {
   "cell_type": "code",
   "execution_count": null,
   "id": "ad566f9f",
   "metadata": {},
   "outputs": [],
   "source": [
    "print(dictionnary_function)"
   ]
  },
  {
   "cell_type": "markdown",
   "id": "cbf0d3dd",
   "metadata": {},
   "source": [
    "# 2. Higher order function\n",
    "One higher order function is a function that have as some of its argument other functions. This is very common in functionnal programming where you can compose function for example.\n",
    "Python includes some basics ```HOF``` that you may use directly in the rest of this notebook : \n",
    "```python \n",
    "max(), min(), sorted(), map(), filter(), functools.reduce()\n",
    "```\n",
    "\n",
    "Don't hesitate to look at the documentation of those function. by running the following cell."
   ]
  },
  {
   "cell_type": "code",
   "execution_count": null,
   "id": "105d9f16",
   "metadata": {},
   "outputs": [],
   "source": [
    "max??"
   ]
  },
  {
   "cell_type": "markdown",
   "id": "a5dc557e",
   "metadata": {},
   "source": [
    "# 2. Lambda functions\n",
    "Source (https://realpython.com/python-lambda/#lambda-calculus)"
   ]
  },
  {
   "cell_type": "markdown",
   "id": "922c0b60",
   "metadata": {},
   "source": [
    "Lambda expressions in Python and other programming languages have their roots in lambda calculus. Lambda calculus can encode any computation. It is Turing complete, but contrary to the concept of a Turing machine, it is pure and does not keep any state."
   ]
  },
  {
   "cell_type": "markdown",
   "id": "d3fff7ff",
   "metadata": {},
   "source": [
    "In python, lambda function can be seen as anonymous function, that has no names. One trivial lambda function is the identity : \n",
    "\n",
    "```python \n",
    "lambda x: x\n",
    "```\n",
    "\n",
    "In the example the expression is composed of : \n",
    "\n",
    "- The keyword: ```lambda```\n",
    "- A bound variable: x\n",
    "- A body: x\n",
    "\n",
    "In practice, lambda function are used in python usually in the call of higher order functions."
   ]
  },
  {
   "cell_type": "markdown",
   "id": "786d8505",
   "metadata": {},
   "source": [
    "## 2.1 Example : sort a list of items according to some function."
   ]
  },
  {
   "cell_type": "code",
   "execution_count": null,
   "id": "35ea2b54",
   "metadata": {},
   "outputs": [],
   "source": [
    "from dataclasses import dataclass\n",
    "@dataclass(frozen=True)\n",
    "class Item:\n",
    "    value: int\n",
    "    weight: int\n",
    "    price: int\n",
    "\n",
    "import random\n",
    "list_items = [Item(value=random.randint(0, 10000),\n",
    "                   weight=random.randint(30, 50),\n",
    "                   price=random.randint(10, 25)) for i in range(20)] # 50 random items"
   ]
  },
  {
   "cell_type": "markdown",
   "id": "8c476922",
   "metadata": {},
   "source": [
    "In the classical [knapsack problem](https://en.wikipedia.org/wiki/Knapsack_problem), your goal is to fill your knapsack of given capacity with items that sums to the highest value. The constraint is to fulfill the capacity constraint i.e the sum of the weight of your chosen item should not exceed the capacity of your knapsack. One good heuristic to fill the knapsack is to select first the items with the higher $\\frac{value}{weight}$. The goal of this exercice is to sort ```list_items``` according to this function. Consider using the built-in function ```sorted``` which is a <b>HOF</b> and look to its signature, you should also use a ```lambda``` function in your solution. As a bonus, you can also find a solution without ```lambda```."
   ]
  },
  {
   "cell_type": "code",
   "execution_count": null,
   "id": "4e7e4e17",
   "metadata": {},
   "outputs": [],
   "source": [
    "sorted_list_items = sorted(list_items, key=lambda x: -x.value/x.weight)"
   ]
  },
  {
   "cell_type": "code",
   "execution_count": null,
   "id": "964ef5cc",
   "metadata": {},
   "outputs": [],
   "source": [
    "for item in sorted_list_items:\n",
    "    print(\"value per unit of weight : \", item.value/item.weight)"
   ]
  },
  {
   "cell_type": "markdown",
   "id": "d26bf898",
   "metadata": {},
   "source": [
    "# 3. Map/Reduce paradigm\n",
    "In theory, ```map``` is a HOF that has as input a list of some elements ```l``` and a function ```f``` to apply. \n",
    "In python, ```map``` is slightly different and take iterable a ```l``` and returns an <b>iterator</b>. In general, ```map``` idea is to parallelize the process of input to output but python is not natively doing it."
   ]
  },
  {
   "cell_type": "markdown",
   "id": "18f7e340",
   "metadata": {},
   "source": [
    "## 3.1  Example : implementation of map\n",
    "Lets consider we have a list of integer ```l```, we want to compute a new list containing the double of the value contained in ```l```."
   ]
  },
  {
   "cell_type": "code",
   "execution_count": null,
   "id": "82230493",
   "metadata": {},
   "outputs": [],
   "source": [
    "import random\n",
    "l = [random.randint(0, 20) for i in range(40)] # Some random list"
   ]
  },
  {
   "cell_type": "markdown",
   "id": "4396fd14",
   "metadata": {},
   "source": [
    "Here is a procedural version, where we create the list in a for loop."
   ]
  },
  {
   "cell_type": "code",
   "execution_count": null,
   "id": "a6f2c412",
   "metadata": {},
   "outputs": [],
   "source": [
    "# Declarative way :\n",
    "l2 = []\n",
    "for elem in l:\n",
    "    l2.append(elem*2)\n",
    "print(l2)\n",
    "assert(all(x==y*2 for x,y in zip(l2, l)))"
   ]
  },
  {
   "cell_type": "markdown",
   "id": "8632588c",
   "metadata": {},
   "source": [
    "We ask you to write down a ```my_map``` function that takes as input a list $l$ and a function $f$, that returns a new list where each element is equal to $f(x)$ where $x$ is the element of $l$."
   ]
  },
  {
   "cell_type": "code",
   "execution_count": null,
   "id": "f6998a0b",
   "metadata": {},
   "outputs": [],
   "source": [
    "# write a map function working with list, with an additionnal len_list argument to improve the computation time : \n",
    "def my_map(list_, len_list, function):\n",
    "    # TO FILL \n",
    "    if len_list == 0:\n",
    "        return []\n",
    "    else:\n",
    "        return [function(list_[0])]+my_map(list_[1:], len_list-1, function)\n",
    "# write a map function working on iterable, and returning an iterator. \n",
    "def my_map_iterable(iterable, function):\n",
    "    # TO FILL\n",
    "    for item in iterable:\n",
    "        yield function(item)\n"
   ]
  },
  {
   "cell_type": "code",
   "execution_count": null,
   "id": "7d673f6b",
   "metadata": {},
   "outputs": [],
   "source": [
    "# Functionnal way ?\n",
    "def double(x):\n",
    "    return 2*x"
   ]
  },
  {
   "cell_type": "code",
   "execution_count": null,
   "id": "04d779cb",
   "metadata": {},
   "outputs": [],
   "source": [
    "l2_list_map = my_map(l, len(l), double)\n",
    "l2_iter_map = list(my_map_iterable(l, double))\n",
    "l2_python_map = list(map(double, l))\n",
    "#print(l2_list_map)\n",
    "#print(l2_iter_map)\n",
    "#print(l2_python_map)"
   ]
  },
  {
   "cell_type": "markdown",
   "id": "354f59c9",
   "metadata": {},
   "source": [
    "### Reduce : \n",
    "``\n",
    "functools.reduce(function, iterable[, initializer])\n",
    "Apply function of two arguments cumulatively to the items of iterable, from left to right, so as to reduce the iterable to a single value. For example, reduce(lambda x, y: x+y, [1, 2, 3, 4, 5]) calculates ((((1+2)+3)+4)+5). The left argument, x, is the accumulated value and the right argument, y, is the update value from the iterable.\n",
    "``"
   ]
  },
  {
   "cell_type": "markdown",
   "id": "a22878d9",
   "metadata": {},
   "source": [
    "### Example 2 ) Compute the sum of a list : "
   ]
  },
  {
   "cell_type": "code",
   "execution_count": null,
   "id": "95896a8a",
   "metadata": {},
   "outputs": [],
   "source": [
    "def my_reduce_list(list_, function, initializer):\n",
    "    if len(list_)==0:\n",
    "        return initializer\n",
    "    if len(list_)==1:\n",
    "        if initializer is None:\n",
    "            return None\n",
    "        else:\n",
    "            return function(initializer, list_[0])\n",
    "    if initializer is None:\n",
    "        return my_reduce_list(list_[2:], function, function(list_[0], list_[1]))\n",
    "    else:\n",
    "        return my_reduce_list(list_[1:], function, function(initializer, list_[0]))\n",
    "\n",
    "    \n",
    "def my_reduce_iterable(iterable, function, initializer):\n",
    "    it = iter(iterable)\n",
    "    if initializer is None:\n",
    "        value = next(it)\n",
    "    else:\n",
    "        value = initializer\n",
    "    for element in it:\n",
    "        value = function(value, element)\n",
    "    return value"
   ]
  },
  {
   "cell_type": "code",
   "execution_count": null,
   "id": "dd3eca54",
   "metadata": {},
   "outputs": [],
   "source": [
    "import functools\n",
    "def sum_xy(x, y):\n",
    "    return x+y\n",
    "sum_list = my_reduce_list(l, sum_xy, None)\n",
    "sum_iterator = my_reduce_iterable(l, sum_xy, None)\n",
    "sum_functools = functools.reduce(sum_xy, l)\n",
    "print(sum_list)\n",
    "print(sum_iterator)\n",
    "print(sum_functools)\n",
    "print(sum(l))"
   ]
  },
  {
   "cell_type": "code",
   "execution_count": null,
   "id": "d6002e46",
   "metadata": {},
   "outputs": [],
   "source": [
    "from operator import add, concat, mul, mod, sub "
   ]
  },
  {
   "cell_type": "markdown",
   "id": "bef00c4f",
   "metadata": {},
   "source": [
    "### Exemple 3) concatenate strings ?"
   ]
  },
  {
   "cell_type": "code",
   "execution_count": null,
   "id": "035cfe0e",
   "metadata": {},
   "outputs": [],
   "source": [
    "list_of_characters = [\"c\", \"y\", \"b\", \"e\", \"r\", \n",
    "                      \"s\", \"e\", \"c\", \"u\", \"r\", \"i\", \"t\", \"y\", \n",
    "                      \"a\", \"i\", \"r\", \"b\", \"u\", \"s\"]"
   ]
  },
  {
   "cell_type": "code",
   "execution_count": null,
   "id": "60a37c1b",
   "metadata": {},
   "outputs": [],
   "source": [
    "string = functools.reduce(sum_xy, list_of_characters)\n",
    "string_mine = my_reduce_list(list_of_characters, sum_xy, \"\")"
   ]
  },
  {
   "cell_type": "code",
   "execution_count": null,
   "id": "5d8d13f9",
   "metadata": {},
   "outputs": [],
   "source": [
    "print(string)"
   ]
  },
  {
   "cell_type": "markdown",
   "id": "b08d1a04",
   "metadata": {},
   "source": [
    "## Composing function"
   ]
  },
  {
   "cell_type": "markdown",
   "id": "5260a52e",
   "metadata": {},
   "source": [
    "Let's consider two function $f:X->Y$ and $g:Z->X$, then $f \\circ g: Z->Y$ is the composed function.\n",
    "If you have a list of operator to apply on input dataIt can be usefull to : apply the ```map``` with a compose function : \n",
    "indeed $map(f)\\circ map(g) = map(f \\circ g)$. This simple trick can speed up computation time."
   ]
  },
  {
   "cell_type": "markdown",
   "id": "954e036c",
   "metadata": {},
   "source": [
    "### Example 4) Write the compose function :\n",
    "```compose``` should take two function and returns a new <b>function</b> that is the composed one."
   ]
  },
  {
   "cell_type": "code",
   "execution_count": null,
   "id": "0c98454d",
   "metadata": {},
   "outputs": [],
   "source": [
    "def compose(f, g):\n",
    "    return lambda x: f(g(x))"
   ]
  },
  {
   "cell_type": "code",
   "execution_count": null,
   "id": "4abdf8aa",
   "metadata": {},
   "outputs": [],
   "source": [
    "double_square = compose(f=lambda x: 2*x, g=lambda y: y**2) "
   ]
  },
  {
   "cell_type": "code",
   "execution_count": null,
   "id": "b49b0962",
   "metadata": {},
   "outputs": [],
   "source": [
    "double_square"
   ]
  },
  {
   "cell_type": "code",
   "execution_count": null,
   "id": "f0d29b80",
   "metadata": {},
   "outputs": [],
   "source": [
    "l3 = list(map(double_square, l))"
   ]
  },
  {
   "cell_type": "code",
   "execution_count": null,
   "id": "0a5c9db4",
   "metadata": {},
   "outputs": [],
   "source": [
    "print(l3)\n",
    "print(l)"
   ]
  },
  {
   "cell_type": "markdown",
   "id": "e4de40d5",
   "metadata": {},
   "source": [
    "### Example 5) Compose function of a list of function :\n",
    "We can generalize the previous compose function."
   ]
  },
  {
   "cell_type": "code",
   "execution_count": null,
   "id": "3a1eafcb",
   "metadata": {},
   "outputs": [],
   "source": [
    "from functools import reduce\n",
    "def compose_list(*func):\n",
    "    def compose(f, g):\n",
    "        return lambda x : f(g(x))\n",
    "    return reduce(compose, func, lambda x: x)"
   ]
  },
  {
   "cell_type": "code",
   "execution_count": null,
   "id": "2dbc690c",
   "metadata": {},
   "outputs": [],
   "source": [
    "pipeline_function = compose_list(*[double, double])"
   ]
  },
  {
   "cell_type": "code",
   "execution_count": null,
   "id": "1baae535",
   "metadata": {},
   "outputs": [],
   "source": [
    "l4 = list(map(pipeline_function, l))"
   ]
  },
  {
   "cell_type": "code",
   "execution_count": null,
   "id": "71fb2e69",
   "metadata": {},
   "outputs": [],
   "source": [
    "print(l, \"\\n\", l4)"
   ]
  },
  {
   "cell_type": "markdown",
   "id": "1d7faab1",
   "metadata": {},
   "source": [
    "### 6) Map/Reduce as a composed function:"
   ]
  },
  {
   "cell_type": "code",
   "execution_count": null,
   "id": "c4f100da",
   "metadata": {},
   "outputs": [],
   "source": [
    "# Look at signature of reduce : \n",
    "reduce??"
   ]
  },
  {
   "cell_type": "code",
   "execution_count": null,
   "id": "75c754c0",
   "metadata": {},
   "outputs": [],
   "source": [
    "# Look at signature of map : \n",
    "map??"
   ]
  },
  {
   "cell_type": "code",
   "execution_count": null,
   "id": "309c6397",
   "metadata": {},
   "outputs": [],
   "source": [
    "def map_reduce(f_map, f_reduce):\n",
    "    return compose(lambda y: reduce(f_reduce, y), \n",
    "                   lambda x: map(f_map, x))"
   ]
  },
  {
   "cell_type": "markdown",
   "id": "9b3e81f2",
   "metadata": {},
   "source": [
    "Compute the sum of the values of the list $l_2=2*l$ "
   ]
  },
  {
   "cell_type": "code",
   "execution_count": null,
   "id": "2f1faae0",
   "metadata": {},
   "outputs": [],
   "source": [
    "f = map_reduce(double, sum_xy)\n",
    "sum_of_double = f(l)\n",
    "print(\"pure FP : \", sum_of_double)\n",
    "print(\"simple :-)\", sum([x*2 for x in l]))"
   ]
  },
  {
   "cell_type": "markdown",
   "id": "89f4439b",
   "metadata": {},
   "source": [
    "# Recursion\n",
    "Pure functional programming language usually avoid the use of <b>for</b> loops, (when the feature actually exists !!!). Any for loop based code can be rewritten as recursion and vice versa. \n",
    "As a reminder, A recursive function involve the calling to itself at some point."
   ]
  },
  {
   "cell_type": "markdown",
   "id": "f5e8c584",
   "metadata": {},
   "source": [
    "### Example 7) Replace for loop by recursion.\n",
    "Write a recurvise version of this very basic function that is printing the element of a list in order."
   ]
  },
  {
   "cell_type": "code",
   "execution_count": null,
   "id": "abc8377f",
   "metadata": {},
   "outputs": [],
   "source": [
    "from typing import List, Any"
   ]
  },
  {
   "cell_type": "code",
   "execution_count": null,
   "id": "826542b7",
   "metadata": {},
   "outputs": [],
   "source": [
    "def print_list(list_of_something: List[Any]):\n",
    "    for item in list_of_something:\n",
    "        print(item)"
   ]
  },
  {
   "cell_type": "code",
   "execution_count": null,
   "id": "3697694f",
   "metadata": {},
   "outputs": [],
   "source": [
    "def print_list_recursive(list_of_something: List[Any]):\n",
    "    def inner_func(list_of_something, len_list):\n",
    "        if len_list == 0:\n",
    "            return\n",
    "        else:\n",
    "            print(list_of_something[0])\n",
    "            inner_func(list_of_something[1:], len_list-1)\n",
    "    inner_func(list_of_something, len(list_of_something))\n",
    "            "
   ]
  },
  {
   "cell_type": "code",
   "execution_count": null,
   "id": "6cd64178",
   "metadata": {},
   "outputs": [],
   "source": []
  },
  {
   "cell_type": "markdown",
   "id": "1dcb9154",
   "metadata": {},
   "source": [
    "# Problem solving with functional programming"
   ]
  },
  {
   "cell_type": "markdown",
   "id": "2f99cf89",
   "metadata": {},
   "source": [
    "Given a list of N integers A = [a1, a2, ..., aN], you have to find those integers which are repeated at least K times. In case no such element exists you have to print -1.\n",
    "\n",
    "If there are multiple elements in A which are repeated at least K times, then print these elements ordered by their first occurrence in the list.\n",
    "\n",
    "Let's say A = [4, 5, 2, 5, 4, 3, 1, 3, 4] and K = 2. Then the output is [4, 5, 3]"
   ]
  },
  {
   "cell_type": "code",
   "execution_count": null,
   "id": "c8a4a9fb",
   "metadata": {},
   "outputs": [],
   "source": []
  }
 ],
 "metadata": {
  "kernelspec": {
   "display_name": "fprogramming",
   "language": "python",
   "name": "fprogramming"
  },
  "language_info": {
   "codemirror_mode": {
    "name": "ipython",
    "version": 3
   },
   "file_extension": ".py",
   "mimetype": "text/x-python",
   "name": "python",
   "nbconvert_exporter": "python",
   "pygments_lexer": "ipython3",
   "version": "3.8.13"
  }
 },
 "nbformat": 4,
 "nbformat_minor": 5
}
