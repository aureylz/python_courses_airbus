{
 "cells": [
  {
   "cell_type": "markdown",
   "metadata": {},
   "source": [
    "# Bonus\n",
    "\n",
    "This notebook include some examples or exercise that have been filtered out from main course for time or complexity reason"
   ]
  },
  {
   "cell_type": "markdown",
   "metadata": {},
   "source": [
    "## 1. Basics"
   ]
  },
  {
   "cell_type": "markdown",
   "metadata": {},
   "source": [
    "### 1.3 Recursion"
   ]
  },
  {
   "cell_type": "markdown",
   "metadata": {},
   "source": [
    "### Exercice 1 : Replace for loop by recursion.\n",
    "Write a recurvise version of a very basic function that is printing the element of a list in order. For help 💡 we provide a procedural version."
   ]
  },
  {
   "cell_type": "code",
   "execution_count": null,
   "metadata": {},
   "outputs": [],
   "source": [
    "# Procedural way\n",
    "def print_list(l):\n",
    "    for item in l:\n",
    "        print(item)"
   ]
  },
  {
   "cell_type": "code",
   "execution_count": null,
   "metadata": {},
   "outputs": [],
   "source": [
    "print_list([1,2,3,4])"
   ]
  },
  {
   "cell_type": "code",
   "execution_count": null,
   "metadata": {},
   "outputs": [],
   "source": [
    "# Recurcive way \n",
    "def print_list_recursive(my_list):\n",
    "    # TOFILL\n",
    "    pass"
   ]
  },
  {
   "cell_type": "code",
   "execution_count": null,
   "metadata": {},
   "outputs": [],
   "source": [
    "# %load correction/bonus/print_list_recursive.py"
   ]
  },
  {
   "cell_type": "code",
   "execution_count": null,
   "metadata": {},
   "outputs": [],
   "source": [
    "print_list_recursive([1,2,3,4])"
   ]
  },
  {
   "cell_type": "markdown",
   "metadata": {},
   "source": [
    "# 2. Higher order function <a name=\"2\"></a>\n",
    "\n",
    "Higher order function is a function that have as some of its argument other functions. This is very common in functionnal programming where you can compose function for example.\n",
    "Python includes some basics ```HOF``` that will be used directly in the rest of this notebook : \n",
    "```python \n",
    "max(), min(), sorted(), map(), filter(), functools.reduce()\n",
    "```\n",
    "\n",
    "Don't hesitate to look at the documentation of those function. by running the following cell."
   ]
  },
  {
   "cell_type": "markdown",
   "metadata": {},
   "source": [
    "## 2.3 Map"
   ]
  },
  {
   "cell_type": "markdown",
   "metadata": {},
   "source": [
    "### Exercise 2: Coding a simplified map function"
   ]
  },
  {
   "cell_type": "markdown",
   "metadata": {},
   "source": [
    "💪 The goal of this exercise is to write down a ```my_map``` function that takes as input a list $l$ and a function $f$, that returns a new list where each element is equal to $f(x)$ where $x$ is the element of $l$. 💡 Use recursion !"
   ]
  },
  {
   "cell_type": "code",
   "execution_count": null,
   "metadata": {},
   "outputs": [],
   "source": [
    "# write a map function working with list\n",
    "def my_map(l,f):\n",
    "    # TO FILL \n",
    "    pass"
   ]
  },
  {
   "cell_type": "code",
   "execution_count": null,
   "metadata": {},
   "outputs": [],
   "source": [
    "# %load correction/bonus/my_map.py"
   ]
  },
  {
   "cell_type": "markdown",
   "metadata": {},
   "source": [
    "### Testing my_map and map squaring a list as shown in the other TP "
   ]
  },
  {
   "cell_type": "code",
   "execution_count": null,
   "metadata": {},
   "outputs": [],
   "source": [
    "def square(x):\n",
    "    return x**2\n",
    "\n",
    "l2_list_map = my_map(l, square)\n",
    "print('my map', l2_list_map)\n",
    "\n",
    "l2_python_map = list(map(square, l))\n",
    "\n",
    "print('python map', l2_python_map)"
   ]
  },
  {
   "cell_type": "markdown",
   "metadata": {},
   "source": [
    "## 2.4 Reduce"
   ]
  },
  {
   "cell_type": "markdown",
   "metadata": {},
   "source": [
    "### Exercice 3: Factorial implementation using reduce"
   ]
  },
  {
   "cell_type": "markdown",
   "metadata": {},
   "source": [
    "Computing factorial can be elegantly written with the ```reduce``` function. "
   ]
  },
  {
   "cell_type": "code",
   "execution_count": null,
   "metadata": {},
   "outputs": [],
   "source": [
    "def factorial_reduce():\n",
    "    # TO FILL\n",
    "    ...\n"
   ]
  },
  {
   "cell_type": "code",
   "execution_count": null,
   "metadata": {},
   "outputs": [],
   "source": [
    "# %load correction/bonus/factorial_reduce.py"
   ]
  },
  {
   "cell_type": "code",
   "execution_count": null,
   "metadata": {},
   "outputs": [],
   "source": [
    "import math\n",
    "for j in range(10):\n",
    "    assert math.factorial(j)==factorial_reduce(j)"
   ]
  },
  {
   "cell_type": "markdown",
   "metadata": {},
   "source": [
    "### Exercice 4: Coding your own reduce function"
   ]
  },
  {
   "cell_type": "markdown",
   "metadata": {},
   "source": [
    "💪 The goal of this exercice is to write down a ```my_reduce``` function that takes as input a list of element, a reduce function ```f``` and an initial value for the reduction mechanism."
   ]
  },
  {
   "cell_type": "code",
   "execution_count": null,
   "metadata": {},
   "outputs": [],
   "source": [
    "# write a reduce function working with a list\n",
    "def my_reduce_list(l,f,initializer):\n",
    "    pass"
   ]
  },
  {
   "cell_type": "code",
   "execution_count": null,
   "metadata": {},
   "outputs": [],
   "source": [
    "# %load correction/bonus/my_reduce.py"
   ]
  },
  {
   "cell_type": "code",
   "execution_count": null,
   "metadata": {},
   "outputs": [],
   "source": [
    "def sum_xy(x, y):\n",
    "    return x+y\n",
    "sum_list = my_reduce(l, sum_xy, None)\n",
    "sum_list"
   ]
  },
  {
   "cell_type": "code",
   "execution_count": null,
   "metadata": {},
   "outputs": [],
   "source": [
    "from functools import reduce\n",
    "def sum_xy(x, y):\n",
    "    return x+y\n",
    "sum_list = my_reduce(l, sum_xy, None)\n",
    "sum_functools = reduce(sum_xy, l)\n",
    "print(sum_list, \"using my_reduce_list\")\n",
    "print(sum_functools, \"using the reduce from functools\")\n",
    "print(sum(l), \"using the sum built-in\")"
   ]
  },
  {
   "cell_type": "markdown",
   "metadata": {},
   "source": [
    "### Exercise 5: Concatenate characters into a string.\n",
    "\n",
    "💪 Using any reduce function previously used, the goal is to create the string \"cybersecurityairbus\" from the following list of characters."
   ]
  },
  {
   "cell_type": "code",
   "execution_count": null,
   "metadata": {},
   "outputs": [],
   "source": [
    "list_of_characters = [\"c\", \"y\", \"b\", \"e\", \"r\", \n",
    "                      \"s\", \"e\", \"c\", \"u\", \"r\", \"i\", \"t\", \"y\", \n",
    "                      \"a\", \"i\", \"r\", \"b\", \"u\", \"s\"]"
   ]
  },
  {
   "cell_type": "code",
   "execution_count": null,
   "metadata": {},
   "outputs": [],
   "source": [
    "# %load correction/bonus/concatenate_string.py"
   ]
  },
  {
   "cell_type": "code",
   "execution_count": null,
   "metadata": {},
   "outputs": [],
   "source": [
    "string = None \n",
    "print(string)"
   ]
  },
  {
   "cell_type": "markdown",
   "metadata": {},
   "source": [
    "## 3. Bonus of the bonus section: Composing functions  <a name=\"2.2\"></a>"
   ]
  },
  {
   "cell_type": "markdown",
   "metadata": {},
   "source": [
    "Let's consider two function $f:X->Y$ and $g:Z->X$, then $f \\circ g: Z->Y$ is the composed function.\n",
    "If you have a list of operator to apply on input data. It can be useful to : apply the ```map``` with a compose function : \n",
    "indeed $map(f)\\circ map(g) = map(f \\circ g)$. This simple trick can speed up computation time."
   ]
  },
  {
   "cell_type": "markdown",
   "metadata": {},
   "source": [
    "### Exercise 6: Composing 2 functions\n",
    "Write the compose function \n",
    "\n",
    "```compose``` should take two function and returns a new <b>function</b> that is the composed one."
   ]
  },
  {
   "cell_type": "code",
   "execution_count": null,
   "metadata": {},
   "outputs": [],
   "source": [
    "def compose(f, g):\n",
    "    # TO FILL\n",
    "    pass"
   ]
  },
  {
   "cell_type": "code",
   "execution_count": null,
   "metadata": {},
   "outputs": [],
   "source": [
    "# %load correction/bonus/compose.py"
   ]
  },
  {
   "cell_type": "markdown",
   "metadata": {},
   "source": [
    "Test the compose function by building the composed functions (2.x) with (y^2) which gives 2.(x)^2"
   ]
  },
  {
   "cell_type": "code",
   "execution_count": null,
   "metadata": {},
   "outputs": [],
   "source": [
    "double_square = compose(f=lambda x: 2*x, g=lambda y: y**2) "
   ]
  },
  {
   "cell_type": "code",
   "execution_count": null,
   "metadata": {},
   "outputs": [],
   "source": [
    "l = [1,2,3,4]\n",
    "l3 = list(map(double_square, l))\n",
    "print(l3)"
   ]
  },
  {
   "cell_type": "markdown",
   "metadata": {},
   "source": [
    "### Exercise 7: Composing any number of functions\n",
    "\n",
    "Compose function of a list of function \n",
    "\n",
    "We can generalize the previous compose function with a list of function as argument.\n",
    "\n",
    "Hint : you can reuse the compose function and ```reduce``` higher order function."
   ]
  },
  {
   "cell_type": "code",
   "execution_count": null,
   "metadata": {},
   "outputs": [],
   "source": [
    "from functools import reduce\n",
    "def compose_list(*func):\n",
    "    # TOFILL\n",
    "    pas\n"
   ]
  },
  {
   "cell_type": "code",
   "execution_count": null,
   "metadata": {},
   "outputs": [],
   "source": [
    "# %load correction/bonus/compose_list.py"
   ]
  },
  {
   "cell_type": "markdown",
   "metadata": {},
   "source": [
    "#### Test using the compose function of the exercice 6"
   ]
  },
  {
   "cell_type": "code",
   "execution_count": null,
   "metadata": {},
   "outputs": [],
   "source": [
    "l3 = list(map(compose(double_square, double) , l))\n",
    "print(l3)"
   ]
  },
  {
   "cell_type": "markdown",
   "metadata": {},
   "source": [
    "#### Test using the compose_list function of the exercice 7"
   ]
  },
  {
   "cell_type": "code",
   "execution_count": null,
   "metadata": {},
   "outputs": [],
   "source": [
    "pipeline_function = compose_list(*[double_square, double])"
   ]
  },
  {
   "cell_type": "code",
   "execution_count": null,
   "metadata": {},
   "outputs": [],
   "source": [
    "l4 = list(map(pipeline_function, l))"
   ]
  },
  {
   "cell_type": "code",
   "execution_count": null,
   "metadata": {},
   "outputs": [],
   "source": [
    "print(l, \"\\n\", l4)"
   ]
  },
  {
   "cell_type": "markdown",
   "metadata": {},
   "source": [
    "### Exercise 8: Map/Reduce as a composed function <a name=\"2.3\"></a>"
   ]
  },
  {
   "cell_type": "markdown",
   "metadata": {},
   "source": [
    "- 💪 Code a function ```map_reduce```\n",
    " returning another function that represents $reduce \\circ map$. the reduce used in function will be $f_{reduce}$ and the one used in map, $f_{map}$."
   ]
  },
  {
   "cell_type": "code",
   "execution_count": null,
   "metadata": {},
   "outputs": [],
   "source": [
    "def map_reduce(f_map, f_reduce):\n",
    "    # TOFILL\n",
    "    pass"
   ]
  },
  {
   "cell_type": "code",
   "execution_count": null,
   "metadata": {},
   "outputs": [],
   "source": [
    "# %load correction/bonus/compose_reduce_map.py"
   ]
  },
  {
   "cell_type": "markdown",
   "metadata": {},
   "source": [
    "Test : Compute the sum of the values of the list $l_2=2*l$ "
   ]
  },
  {
   "cell_type": "code",
   "execution_count": null,
   "metadata": {},
   "outputs": [],
   "source": [
    "f = map_reduce(f_map=double, f_reduce=sum_xy)\n",
    "sum_of_double = f(l)\n",
    "print(\"pure FProgramming : \", sum_of_double)\n",
    "print(\"simple :-)\", sum([x*2 for x in l]))"
   ]
  }
 ],
 "metadata": {
  "kernelspec": {
   "display_name": "Python 3",
   "language": "python",
   "name": "python3"
  },
  "language_info": {
   "codemirror_mode": {
    "name": "ipython",
    "version": 3
   },
   "file_extension": ".py",
   "mimetype": "text/x-python",
   "name": "python",
   "nbconvert_exporter": "python",
   "pygments_lexer": "ipython3",
   "version": "3.8.5"
  }
 },
 "nbformat": 4,
 "nbformat_minor": 5
}
