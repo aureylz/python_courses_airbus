{
 "cells": [
  {
   "cell_type": "markdown",
   "id": "60949623",
   "metadata": {},
   "source": [
    "# Bonus\n",
    "\n",
    "This notebook include some examples or exercise that have been filtered out from main course for time or complexity reason"
   ]
  },
  {
   "cell_type": "markdown",
   "id": "67ad0eb0",
   "metadata": {},
   "source": [
    "### Exercice 1 : Replace for loop by recursion.\n",
    "Write a recurvise version of a very basic function that is printing the element of a list in order. For help 💡 we provide a procedural version."
   ]
  },
  {
   "cell_type": "code",
   "execution_count": null,
   "id": "4c85c2ce",
   "metadata": {},
   "outputs": [],
   "source": [
    "from typing import List, Any"
   ]
  },
  {
   "cell_type": "code",
   "execution_count": null,
   "id": "b033b844",
   "metadata": {},
   "outputs": [],
   "source": [
    "# Procedural way\n",
    "def print_list(list_of_something: List[Any]):\n",
    "    for item in list_of_something:\n",
    "        print(item)"
   ]
  },
  {
   "cell_type": "code",
   "execution_count": null,
   "id": "0385abea",
   "metadata": {},
   "outputs": [],
   "source": [
    "print_list([1,2,3,4])"
   ]
  },
  {
   "cell_type": "code",
   "execution_count": null,
   "id": "c49c8944",
   "metadata": {},
   "outputs": [],
   "source": [
    "# Recurcive way \n",
    "def print_list_recursive(list_of_something: List[Any]):\n",
    "    # TOFILL\n",
    "    pass"
   ]
  },
  {
   "cell_type": "code",
   "execution_count": null,
   "id": "93cc089e",
   "metadata": {},
   "outputs": [],
   "source": [
    "print_list_recursive([1,2,3,4])"
   ]
  },
  {
   "cell_type": "markdown",
   "id": "528202b3",
   "metadata": {},
   "source": [
    "# 2. Higher order function <a name=\"2\"></a>\n",
    "\n",
    "Higher order function is a function that have as some of its argument other functions. This is very common in functionnal programming where you can compose function for example.\n",
    "Python includes some basics ```HOF``` that will be used directly in the rest of this notebook : \n",
    "```python \n",
    "max(), min(), sorted(), map(), filter(), functools.reduce()\n",
    "```\n",
    "\n",
    "Don't hesitate to look at the documentation of those function. by running the following cell."
   ]
  },
  {
   "cell_type": "markdown",
   "id": "9f5a687f",
   "metadata": {},
   "source": [
    "### Exercise 2 : sort a dictionary of integers according to some criteria which is a function of the dictionary keys"
   ]
  },
  {
   "cell_type": "code",
   "execution_count": null,
   "id": "f9394416",
   "metadata": {},
   "outputs": [],
   "source": [
    "import random\n",
    "list_items = [{'value': random.randint(0, 10000), \n",
    "               'weight' : random.randint(30, 50)} for i in range(20)] # Some random dictionary list     "
   ]
  },
  {
   "cell_type": "markdown",
   "id": "9355acf3",
   "metadata": {},
   "source": [
    "In the classical [knapsack problem](https://en.wikipedia.org/wiki/Knapsack_problem), your goal is to fill your knapsack of given capacity with items that sums to the highest value. The constraint is to fulfill the capacity constraint i.e the sum of the weight of your chosen item should not exceed the capacity of your knapsack. One good heuristic to fill the knapsack is to select first the items with the higher $\\frac{value}{weight}$. The goal of this exercice is to sort ```list_items``` according to this function. Consider using the built-in function ```sorted``` which is a <b>HOF</b> and look to its signature, you should also use a ```lambda``` function in your solution. As a bonus, you can also find a solution without ```lambda```."
   ]
  },
  {
   "cell_type": "code",
   "execution_count": null,
   "id": "eeab6e78",
   "metadata": {},
   "outputs": [],
   "source": [
    "sorted_list_items = None # TOFILL "
   ]
  },
  {
   "cell_type": "code",
   "execution_count": null,
   "id": "f0a4e8d0",
   "metadata": {},
   "outputs": [],
   "source": [
    "# %load correction/course/sort_items.py"
   ]
  },
  {
   "cell_type": "code",
   "execution_count": null,
   "id": "76246c9e",
   "metadata": {},
   "outputs": [],
   "source": [
    "if sorted_list_items is not None:\n",
    "    for item in sorted_list_items:\n",
    "        print(\"value per unit of weight : \", item['value']/item['weight'])"
   ]
  },
  {
   "cell_type": "markdown",
   "id": "2c789c81",
   "metadata": {},
   "source": [
    "## Exercise 3: Fill the knapsack according to some criteria. (Mini TP)\n",
    "As a continuation from previous example, code a function that chooses item to put in a knapsack of limited capacity $K$. The solution should be a list of ```bool``` indicating if the item is put or not in the knapsack.\n",
    "The summed weight of items should not exceed the capacity $K$ of the knapsack."
   ]
  },
  {
   "cell_type": "markdown",
   "id": "8c4a8bc4",
   "metadata": {},
   "source": [
    "Let's create first a few data structure to store the data of our knapsack problem. ```KnapsackProblem``` only contains a list of items. One item is a dictionnary containing keys {\"weight\", \"value\"}"
   ]
  },
  {
   "cell_type": "code",
   "execution_count": null,
   "id": "bf72d70f",
   "metadata": {},
   "outputs": [],
   "source": [
    "from dataclasses import dataclass\n",
    "from typing import List, Dict, Union\n",
    "@dataclass(frozen=True)\n",
    "class KnapsackProblem:\n",
    "    list_items: List[Dict[str, float]]\n",
    "    max_capacity: float\n",
    "\n",
    "class KnapsackSolution:\n",
    "    def __init__(self, solution: List[bool]):\n",
    "        self.solution=solution\n",
    "\n",
    "def evaluate(solution: KnapsackSolution, problem: KnapsackProblem):\n",
    "    nb_items = len(problem.list_items)\n",
    "    assert len(solution.solution)==len(problem.list_items)\n",
    "    weight = sum([solution.solution[i]*problem.list_items[i][\"weight\"]\n",
    "                  for i in range(nb_items)])\n",
    "    value = sum([solution.solution[i]*problem.list_items[i][\"value\"]\n",
    "                  for i in range(nb_items)])\n",
    "    if weight > problem.max_capacity:\n",
    "        print(\"weight =\", weight, \" > maxcapacity=\", problem.max_capacity)\n",
    "        return -float(\"inf\")\n",
    "    else:\n",
    "        return value"
   ]
  },
  {
   "cell_type": "code",
   "execution_count": null,
   "id": "f4a23ef6",
   "metadata": {},
   "outputs": [],
   "source": [
    "random.randint?"
   ]
  },
  {
   "cell_type": "code",
   "execution_count": null,
   "id": "df470f5e",
   "metadata": {},
   "outputs": [],
   "source": [
    "random_knapsack_problem = KnapsackProblem(list_items=list_items, \n",
    "                                          max_capacity=50)\n",
    "# over complicated way of generating a random boolean vector :)\n",
    "#random_solution = list(map(lambda x: bool(int(x)), list(bin(random.getrandbits(len(list_items))))[2:]))\n",
    "random_solution = list(map(lambda x: bool(random.randint(0, 1)), \n",
    "                           range(len(list_items))))\n",
    "print(random_solution)\n",
    "value = evaluate(KnapsackSolution(random_solution), random_knapsack_problem)\n",
    "print(value)"
   ]
  },
  {
   "cell_type": "code",
   "execution_count": null,
   "id": "cfcd993d",
   "metadata": {},
   "outputs": [],
   "source": [
    "def fill_knapsack(problem: KnapsackProblem, strategy: Callable)->KnapsackSolution:\n",
    "    sorted_index_items = sorted(range(len(problem.list_items)), \n",
    "                                key=lambda x: strategy(problem.list_items[x]))\n",
    "    knapsol = [False for i in range(len(problem.list_items))]\n",
    "    # TOFILL\n",
    "    return KnapsackSolution(knapsol)\n"
   ]
  },
  {
   "cell_type": "code",
   "execution_count": null,
   "id": "3e61fbbe",
   "metadata": {},
   "outputs": [],
   "source": [
    "# %load correction/bonus/fill_knapsack.py"
   ]
  },
  {
   "cell_type": "markdown",
   "id": "9a04c0ef",
   "metadata": {},
   "source": [
    "Test different strategy effectiveness using lambda functions."
   ]
  },
  {
   "cell_type": "code",
   "execution_count": null,
   "id": "93511aba",
   "metadata": {},
   "outputs": [],
   "source": [
    "list_strategies = [(lambda x: -x[\"value\"]/x[\"weight\"], \"-value/weight\"),\n",
    "                   (lambda x: x[\"value\"]/x[\"weight\"], \"value/weight\"),\n",
    "                   (lambda x: x[\"weight\"], \"weight\"), \n",
    "                   (lambda x: -x[\"value\"], \"-value\"), \n",
    "                   (lambda x: x[\"value\"], \"value\"), \n",
    "                   (lambda x: -x[\"value\"]/x[\"weight\"]+x[\"weight\"], \"-value/weight+weight\")]\n",
    "results = list(map(lambda x: (fill_knapsack(problem=random_knapsack_problem,\n",
    "                                            strategy=x[0]), x[1]), list_strategies))\n",
    "evals = list(map(lambda x: (evaluate(solution=x[0], problem=random_knapsack_problem), x[1]),\n",
    "                 results))\n",
    "print(evals)"
   ]
  },
  {
   "cell_type": "markdown",
   "id": "9198866b",
   "metadata": {},
   "source": [
    "## Exercice 4: Factorial implementation using reduce"
   ]
  },
  {
   "cell_type": "markdown",
   "id": "f81c2b4c",
   "metadata": {},
   "source": [
    "Computing factorial can be elegantly written with the ```reduce``` function. "
   ]
  },
  {
   "cell_type": "code",
   "execution_count": null,
   "id": "7466689e",
   "metadata": {},
   "outputs": [],
   "source": [
    "from functools import reduce\n",
    "def factorial(n: int):\n",
    "    # TO FILL\n",
    "    ...\n"
   ]
  },
  {
   "cell_type": "code",
   "execution_count": null,
   "id": "4152b57f",
   "metadata": {},
   "outputs": [],
   "source": [
    "#%load correction/bonus/factorial_reduce.py"
   ]
  },
  {
   "cell_type": "code",
   "execution_count": null,
   "id": "f17adc32",
   "metadata": {},
   "outputs": [],
   "source": [
    "import math\n",
    "for j in range(10):\n",
    "    assert math.factorial(j)==factorial(j)"
   ]
  },
  {
   "cell_type": "markdown",
   "id": "befa7edc",
   "metadata": {},
   "source": [
    "## 2.2 Bonus section !! Composing functions  <a name=\"2.2\"></a>"
   ]
  },
  {
   "cell_type": "markdown",
   "id": "7785931b",
   "metadata": {},
   "source": [
    "Let's consider two function $f:X->Y$ and $g:Z->X$, then $f \\circ g: Z->Y$ is the composed function.\n",
    "If you have a list of operator to apply on input data. It can be useful to : apply the ```map``` with a compose function : \n",
    "indeed $map(f)\\circ map(g) = map(f \\circ g)$. This simple trick can speed up computation time."
   ]
  },
  {
   "cell_type": "markdown",
   "id": "bd45833b",
   "metadata": {},
   "source": [
    "### Exercice 5 Composing 2 functions\n",
    "Write the compose function \n",
    "\n",
    "```compose``` should take two function and returns a new <b>function</b> that is the composed one."
   ]
  },
  {
   "cell_type": "code",
   "execution_count": null,
   "id": "eb234545",
   "metadata": {},
   "outputs": [],
   "source": [
    "def compose(f, g):\n",
    "    # TO FILL\n",
    "    pass"
   ]
  },
  {
   "cell_type": "code",
   "execution_count": null,
   "id": "fcf705ae",
   "metadata": {},
   "outputs": [],
   "source": [
    "# %load correction/bonus/compose.py"
   ]
  },
  {
   "cell_type": "markdown",
   "id": "a18231d8",
   "metadata": {},
   "source": [
    "Test the compose function by building the composed functions (2.x) with (y^2) which gives 2.(x)^2"
   ]
  },
  {
   "cell_type": "code",
   "execution_count": null,
   "id": "d88e7991",
   "metadata": {},
   "outputs": [],
   "source": [
    "double_square = compose(f=lambda x: 2*x, g=lambda y: y**2) "
   ]
  },
  {
   "cell_type": "code",
   "execution_count": null,
   "id": "b11d4400",
   "metadata": {},
   "outputs": [],
   "source": [
    "l = [1,2,3,4]\n",
    "l3 = list(map(double_square, l))\n",
    "print(l3)"
   ]
  },
  {
   "cell_type": "markdown",
   "id": "1b676766",
   "metadata": {},
   "source": [
    "### Exercice 6 Composing any number of functions\n",
    "\n",
    "Compose function of a list of function \n",
    "\n",
    "We can generalize the previous compose function with a list of function as argument.\n",
    "\n",
    "Hint : you can reuse the compose function and ```reduce``` higher order function."
   ]
  },
  {
   "cell_type": "code",
   "execution_count": null,
   "id": "c3f2ef9e",
   "metadata": {},
   "outputs": [],
   "source": [
    "from functools import reduce\n",
    "def compose_list(*func):\n",
    "    # TOFILL\n",
    "    pas\n"
   ]
  },
  {
   "cell_type": "code",
   "execution_count": null,
   "id": "5bc10e35",
   "metadata": {},
   "outputs": [],
   "source": [
    "# %load correction/bonus/compose_list.py"
   ]
  },
  {
   "cell_type": "markdown",
   "id": "d368b577",
   "metadata": {},
   "source": [
    "#### Test using the compose function of the exercice 6"
   ]
  },
  {
   "cell_type": "code",
   "execution_count": null,
   "id": "4ad121b8",
   "metadata": {},
   "outputs": [],
   "source": [
    "l3 = list(map(compose(double_square, double) , l))\n",
    "print(l3)"
   ]
  },
  {
   "cell_type": "markdown",
   "id": "88082d9f",
   "metadata": {},
   "source": [
    "#### Test using the compose_list function of the exercice 7"
   ]
  },
  {
   "cell_type": "code",
   "execution_count": null,
   "id": "123a6a9c",
   "metadata": {},
   "outputs": [],
   "source": [
    "pipeline_function = compose_list(*[double_square, double])"
   ]
  },
  {
   "cell_type": "code",
   "execution_count": null,
   "id": "8472caaa",
   "metadata": {},
   "outputs": [],
   "source": [
    "l4 = list(map(pipeline_function, l))"
   ]
  },
  {
   "cell_type": "code",
   "execution_count": null,
   "id": "ba9f4dc5",
   "metadata": {},
   "outputs": [],
   "source": [
    "print(l, \"\\n\", l4)"
   ]
  },
  {
   "cell_type": "markdown",
   "id": "31030719",
   "metadata": {},
   "source": [
    "### Exercise 7 Map/Reduce as a composed function <a name=\"2.3\"></a>"
   ]
  },
  {
   "cell_type": "markdown",
   "id": "db5f5c8c",
   "metadata": {},
   "source": [
    "- 💪 Code a function ```map_reduce```\n",
    " returning another function that represents $reduce \\circ map$. the reduce used in function will be $f_{reduce}$ and the one used in map, $f_{map}$."
   ]
  },
  {
   "cell_type": "code",
   "execution_count": null,
   "id": "692fcf15",
   "metadata": {},
   "outputs": [],
   "source": [
    "def map_reduce(f_map, f_reduce):\n",
    "    # TOFILL\n",
    "    pass"
   ]
  },
  {
   "cell_type": "code",
   "execution_count": null,
   "id": "39c35027",
   "metadata": {},
   "outputs": [],
   "source": [
    "# %load correction/bonus/compose_reduce_map.py"
   ]
  },
  {
   "cell_type": "markdown",
   "id": "85e2589a",
   "metadata": {},
   "source": [
    "Test : Compute the sum of the values of the list $l_2=2*l$ "
   ]
  },
  {
   "cell_type": "code",
   "execution_count": null,
   "id": "ed80fe9b",
   "metadata": {},
   "outputs": [],
   "source": [
    "f = map_reduce(f_map=double, f_reduce=sum_xy)\n",
    "sum_of_double = f(l)\n",
    "print(\"pure FProgramming : \", sum_of_double)\n",
    "print(\"simple :-)\", sum([x*2 for x in l]))"
   ]
  }
 ],
 "metadata": {
  "kernelspec": {
   "display_name": "Python 3 (ipykernel)",
   "language": "python",
   "name": "python3"
  },
  "language_info": {
   "codemirror_mode": {
    "name": "ipython",
    "version": 3
   },
   "file_extension": ".py",
   "mimetype": "text/x-python",
   "name": "python",
   "nbconvert_exporter": "python",
   "pygments_lexer": "ipython3",
   "version": "3.8.13"
  }
 },
 "nbformat": 4,
 "nbformat_minor": 5
}
