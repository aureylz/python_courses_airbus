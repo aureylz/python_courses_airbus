{
 "cells": [
  {
   "cell_type": "markdown",
   "id": "9001308c",
   "metadata": {},
   "source": [
    "# Bonus\n",
    "\n",
    "This notebook include some examples or exercise that have been filtered out from main course for time or complexity reason"
   ]
  },
  {
   "cell_type": "markdown",
   "id": "d0a8fd06",
   "metadata": {},
   "source": [
    "## 1. Basics"
   ]
  },
  {
   "cell_type": "markdown",
   "id": "22a4e575",
   "metadata": {},
   "source": [
    "### 1.3 Recursion"
   ]
  },
  {
   "cell_type": "markdown",
   "id": "2430071b",
   "metadata": {},
   "source": [
    "### Exercice 1 : Replace for loop by recursion.\n",
    "Write a recurvise version of a very basic function that is printing the element of a list in order. For help 💡 we provide a procedural version."
   ]
  },
  {
   "cell_type": "code",
   "execution_count": null,
   "id": "c0484520",
   "metadata": {},
   "outputs": [],
   "source": [
    "# Procedural way\n",
    "def print_list(l):\n",
    "    for item in l:\n",
    "        print(item)"
   ]
  },
  {
   "cell_type": "code",
   "execution_count": null,
   "id": "51f820e9",
   "metadata": {},
   "outputs": [],
   "source": [
    "print_list([1,2,3,4])"
   ]
  },
  {
   "cell_type": "code",
   "execution_count": null,
   "id": "b96325ff",
   "metadata": {},
   "outputs": [],
   "source": [
    "# Recurcive way \n",
    "def print_list_recursive(my_list):\n",
    "    # TOFILL\n",
    "    pass"
   ]
  },
  {
   "cell_type": "code",
   "execution_count": null,
   "id": "203aa0c0",
   "metadata": {},
   "outputs": [],
   "source": [
    "# %load correction/bonus/print_list_recursive.py"
   ]
  },
  {
   "cell_type": "code",
   "execution_count": null,
   "id": "197ea3a7",
   "metadata": {},
   "outputs": [],
   "source": [
    "print_list_recursive([1,2,3,4])"
   ]
  },
  {
   "cell_type": "markdown",
   "id": "70ceac4f",
   "metadata": {},
   "source": [
    "# 2. Higher order function <a name=\"2\"></a>\n",
    "\n",
    "Higher order function is a function that have as some of its argument other functions. This is very common in functionnal programming where you can compose function for example.\n",
    "Python includes some basics ```HOF``` that will be used directly in the rest of this notebook : \n",
    "```python \n",
    "max(), min(), sorted(), map(), filter(), functools.reduce()\n",
    "```\n",
    "\n",
    "Don't hesitate to look at the documentation of those function. by running the following cell."
   ]
  },
  {
   "cell_type": "markdown",
   "id": "57d331f2",
   "metadata": {},
   "source": [
    "## 2.3 Map"
   ]
  },
  {
   "cell_type": "markdown",
   "id": "9a5fac62",
   "metadata": {},
   "source": [
    "### Exercise 2: Coding a simplified map function"
   ]
  },
  {
   "cell_type": "markdown",
   "id": "4e65106c",
   "metadata": {},
   "source": [
    "💪 The goal of this exercise is to write down a ```my_map``` function that takes as input a list $l$ and a function $f$, that returns a new list where each element is equal to $f(x)$ where $x$ is the element of $l$. 💡 Use recursion !"
   ]
  },
  {
   "cell_type": "code",
   "execution_count": null,
   "id": "07f5f308",
   "metadata": {},
   "outputs": [],
   "source": [
    "# write a map function working with list\n",
    "def my_map(l,f):\n",
    "    # TO FILL \n",
    "    pass"
   ]
  },
  {
   "cell_type": "code",
   "execution_count": null,
   "id": "8b385021",
   "metadata": {},
   "outputs": [],
   "source": [
    "# %load correction/bonus/my_map.py"
   ]
  },
  {
   "cell_type": "markdown",
   "id": "ea4c3d5b",
   "metadata": {},
   "source": [
    "### Testing my_map and map squaring a list as shown in the other TP "
   ]
  },
  {
   "cell_type": "code",
   "execution_count": null,
   "id": "0f1811b1",
   "metadata": {},
   "outputs": [],
   "source": [
    "def square(x):\n",
    "    return x**2\n",
    "\n",
    "l2_list_map = my_map(l, square)\n",
    "print('my map', l2_list_map)\n",
    "\n",
    "l2_python_map = list(map(square, l))\n",
    "\n",
    "print('python map', l2_python_map)"
   ]
  },
  {
   "cell_type": "markdown",
   "id": "c15d1be1",
   "metadata": {},
   "source": [
    "## 2.4 Reduce"
   ]
  },
  {
   "cell_type": "markdown",
   "id": "aade9157",
   "metadata": {},
   "source": [
    "### Exercice 3: Factorial implementation using reduce"
   ]
  },
  {
   "cell_type": "markdown",
   "id": "cce44895",
   "metadata": {},
   "source": [
    "Computing factorial can be elegantly written with the ```reduce``` function. "
   ]
  },
  {
   "cell_type": "code",
   "execution_count": null,
   "id": "0f3fbfdc",
   "metadata": {},
   "outputs": [],
   "source": [
    "def factorial_reduce():\n",
    "    # TO FILL\n",
    "    ...\n"
   ]
  },
  {
   "cell_type": "code",
   "execution_count": null,
   "id": "0095e1c7",
   "metadata": {},
   "outputs": [],
   "source": [
    "# %load correction/bonus/factorial_reduce.py"
   ]
  },
  {
   "cell_type": "code",
   "execution_count": null,
   "id": "d5328397",
   "metadata": {},
   "outputs": [],
   "source": [
    "import math\n",
    "for j in range(10):\n",
    "    assert math.factorial(j)==factorial_reduce(j)"
   ]
  },
  {
   "cell_type": "markdown",
   "id": "4dd01018",
   "metadata": {},
   "source": [
    "### Exercice 4: Coding your own reduce function"
   ]
  },
  {
   "cell_type": "markdown",
   "id": "fd31c7d8",
   "metadata": {},
   "source": [
    "💪 The goal of this exercice is to write down a ```my_reduce``` function that takes as input a list of element, a reduce function ```f``` and an initial value for the reduction mechanism."
   ]
  },
  {
   "cell_type": "code",
   "execution_count": null,
   "id": "d862427a",
   "metadata": {},
   "outputs": [],
   "source": [
    "# write a reduce function working with a list\n",
    "def my_reduce_list(l,f,initializer):\n",
    "    pass"
   ]
  },
  {
   "cell_type": "code",
   "execution_count": null,
   "id": "c6a219a4",
   "metadata": {},
   "outputs": [],
   "source": [
    "# %load correction/bonus/my_reduce.py"
   ]
  },
  {
   "cell_type": "code",
   "execution_count": null,
   "id": "8e723699",
   "metadata": {},
   "outputs": [],
   "source": [
    "def sum_xy(x, y):\n",
    "    return x+y\n",
    "sum_list = my_reduce(l, sum_xy, None)\n",
    "sum_list"
   ]
  },
  {
   "cell_type": "code",
   "execution_count": null,
   "id": "ca7f1adb",
   "metadata": {},
   "outputs": [],
   "source": [
    "from functools import reduce\n",
    "def sum_xy(x, y):\n",
    "    return x+y\n",
    "sum_list = my_reduce(l, sum_xy, None)\n",
    "sum_functools = reduce(sum_xy, l)\n",
    "print(sum_list, \"using my_reduce_list\")\n",
    "print(sum_functools, \"using the reduce from functools\")\n",
    "print(sum(l), \"using the sum built-in\")"
   ]
  },
  {
   "cell_type": "markdown",
   "id": "f3c51c9b",
   "metadata": {},
   "source": [
    "### Exercise 5: Concatenate characters into a string.\n",
    "\n",
    "💪 Using any reduce function previously used, the goal is to create the string \"cybersecurityairbus\" from the following list of characters."
   ]
  },
  {
   "cell_type": "code",
   "execution_count": null,
   "id": "5a06d700",
   "metadata": {},
   "outputs": [],
   "source": [
    "list_of_characters = [\"c\", \"y\", \"b\", \"e\", \"r\", \n",
    "                      \"s\", \"e\", \"c\", \"u\", \"r\", \"i\", \"t\", \"y\", \n",
    "                      \"a\", \"i\", \"r\", \"b\", \"u\", \"s\"]"
   ]
  },
  {
   "cell_type": "code",
   "execution_count": null,
   "id": "7ba386a3",
   "metadata": {},
   "outputs": [],
   "source": [
    "# %load correction/bonus/concatenate_string.py"
   ]
  },
  {
   "cell_type": "code",
   "execution_count": null,
   "id": "ccb82523",
   "metadata": {},
   "outputs": [],
   "source": [
    "string = None \n",
    "print(string)"
   ]
  },
  {
   "cell_type": "markdown",
   "id": "312b33dd",
   "metadata": {},
   "source": [
    "## 3. Bonus of the bonus section: Composing functions  <a name=\"2.2\"></a>"
   ]
  },
  {
   "cell_type": "markdown",
   "id": "3b834201",
   "metadata": {},
   "source": [
    "Let's consider two function $f:X->Y$ and $g:Z->X$, then $f \\circ g: Z->Y$ is the composed function.\n",
    "If you have a list of operator to apply on input data. It can be useful to : apply the ```map``` with a compose function : \n",
    "indeed $map(f)\\circ map(g) = map(f \\circ g)$. This simple trick can speed up computation time."
   ]
  },
  {
   "cell_type": "markdown",
   "id": "8862c6e0",
   "metadata": {},
   "source": [
    "### Exercise 6: Composing 2 functions\n",
    "Write the compose function \n",
    "\n",
    "```compose``` should take two function and returns a new <b>function</b> that is the composed one."
   ]
  },
  {
   "cell_type": "code",
   "execution_count": null,
   "id": "4bc5057b",
   "metadata": {},
   "outputs": [],
   "source": [
    "def compose(f, g):\n",
    "    # TO FILL\n",
    "    pass"
   ]
  },
  {
   "cell_type": "code",
   "execution_count": null,
   "id": "9d4b1322",
   "metadata": {},
   "outputs": [],
   "source": [
    "# %load correction/bonus/compose.py"
   ]
  },
  {
   "cell_type": "markdown",
   "id": "ed9f4ff7",
   "metadata": {},
   "source": [
    "Test the compose function by building the composed functions (2.x) with (y^2) which gives 2.(x)^2"
   ]
  },
  {
   "cell_type": "code",
   "execution_count": null,
   "id": "a2f045df",
   "metadata": {},
   "outputs": [],
   "source": [
    "double_square = compose(f=lambda x: 2*x, g=lambda y: y**2) "
   ]
  },
  {
   "cell_type": "code",
   "execution_count": null,
   "id": "bbea4be7",
   "metadata": {},
   "outputs": [],
   "source": [
    "l = [1,2,3,4]\n",
    "l3 = list(map(double_square, l))\n",
    "print(l3)"
   ]
  },
  {
   "cell_type": "markdown",
   "id": "c78f9fee",
   "metadata": {},
   "source": [
    "### Exercise 7: Composing any number of functions\n",
    "\n",
    "Compose function of a list of function \n",
    "\n",
    "We can generalize the previous compose function with a list of function as argument.\n",
    "\n",
    "Hint : you can reuse the compose function and ```reduce``` higher order function."
   ]
  },
  {
   "cell_type": "code",
   "execution_count": null,
   "id": "f80c196e",
   "metadata": {},
   "outputs": [],
   "source": [
    "from functools import reduce\n",
    "def compose_list(*func):\n",
    "    # TOFILL\n",
    "    pas\n"
   ]
  },
  {
   "cell_type": "code",
   "execution_count": null,
   "id": "4e774142",
   "metadata": {},
   "outputs": [],
   "source": [
    "# %load correction/bonus/compose_list.py"
   ]
  },
  {
   "cell_type": "markdown",
   "id": "f495bb80",
   "metadata": {},
   "source": [
    "#### Test using the compose function of the exercice 6"
   ]
  },
  {
   "cell_type": "code",
   "execution_count": null,
   "id": "ea744c00",
   "metadata": {},
   "outputs": [],
   "source": [
    "l3 = list(map(compose(double_square, double) , l))\n",
    "print(l3)"
   ]
  },
  {
   "cell_type": "markdown",
   "id": "0ec83900",
   "metadata": {},
   "source": [
    "#### Test using the compose_list function of the exercice 7"
   ]
  },
  {
   "cell_type": "code",
   "execution_count": null,
   "id": "85437031",
   "metadata": {},
   "outputs": [],
   "source": [
    "pipeline_function = compose_list(*[double_square, double])"
   ]
  },
  {
   "cell_type": "code",
   "execution_count": null,
   "id": "62392a25",
   "metadata": {},
   "outputs": [],
   "source": [
    "l4 = list(map(pipeline_function, l))"
   ]
  },
  {
   "cell_type": "code",
   "execution_count": null,
   "id": "eb0f60c9",
   "metadata": {},
   "outputs": [],
   "source": [
    "print(l, \"\\n\", l4)"
   ]
  },
  {
   "cell_type": "markdown",
   "id": "b7e500c7",
   "metadata": {},
   "source": [
    "### Exercise 8: Map/Reduce as a composed function <a name=\"2.3\"></a>"
   ]
  },
  {
   "cell_type": "markdown",
   "id": "78691be3",
   "metadata": {},
   "source": [
    "- 💪 Code a function ```map_reduce```\n",
    " returning another function that represents $reduce \\circ map$. the reduce used in function will be $f_{reduce}$ and the one used in map, $f_{map}$."
   ]
  },
  {
   "cell_type": "code",
   "execution_count": null,
   "id": "ee935e64",
   "metadata": {},
   "outputs": [],
   "source": [
    "def map_reduce(f_map, f_reduce):\n",
    "    # TOFILL\n",
    "    pass"
   ]
  },
  {
   "cell_type": "code",
   "execution_count": null,
   "id": "f0d78502",
   "metadata": {},
   "outputs": [],
   "source": [
    "# %load correction/bonus/compose_reduce_map.py"
   ]
  },
  {
   "cell_type": "markdown",
   "id": "b2a2208d",
   "metadata": {},
   "source": [
    "Test : Compute the sum of the values of the list $l_2=2*l$ "
   ]
  },
  {
   "cell_type": "code",
   "execution_count": null,
   "id": "80e30e00",
   "metadata": {},
   "outputs": [],
   "source": [
    "f = map_reduce(f_map=double, f_reduce=sum_xy)\n",
    "sum_of_double = f(l)\n",
    "print(\"pure FProgramming : \", sum_of_double)\n",
    "print(\"simple :-)\", sum([x*2 for x in l]))"
   ]
  },
  {
   "cell_type": "markdown",
   "id": "471d1864",
   "metadata": {},
   "source": [
    "## Fill the knapsack according to some criteria. (Mini TP) 💪💪 💪💪 \n",
    "As a continuation from example of the main course on knapsack, code a function that chooses item to put in a knapsack of limited capacity $K$. The solution should be a list of ```bool``` indicating if the item is put or not in the knapsack.\n",
    "The summed weight of items should not exceed the capacity $K$ of the knapsack."
   ]
  },
  {
   "cell_type": "markdown",
   "id": "f3df2f16",
   "metadata": {},
   "source": [
    "Let's create first a few data structure to store the data of our knapsack problem. ```KnapsackProblem``` only contains a list of items. One item is a dictionnary containing keys {\"weight\", \"value\"}"
   ]
  },
  {
   "cell_type": "code",
   "execution_count": null,
   "id": "7ad1cb46",
   "metadata": {},
   "outputs": [],
   "source": [
    "from dataclasses import dataclass\n",
    "from typing import List, Dict, Union, Callable\n",
    "@dataclass(frozen=True)\n",
    "class KnapsackProblem:\n",
    "    list_items: List[Dict[str, float]]\n",
    "    max_capacity: float\n",
    "\n",
    "class KnapsackSolution:\n",
    "    def __init__(self, solution: List[bool]):\n",
    "        self.solution=solution\n",
    "\n",
    "# Compute the value of the knapsack solution (its value). Return -infinity when the capacity constraint is broken.\n",
    "def evaluate(solution: KnapsackSolution, problem: KnapsackProblem):\n",
    "    nb_items = len(problem.list_items)\n",
    "    assert len(solution.solution)==len(problem.list_items)\n",
    "    weight = sum([solution.solution[i]*problem.list_items[i][\"weight\"]\n",
    "                  for i in range(nb_items)])\n",
    "    value = sum([solution.solution[i]*problem.list_items[i][\"value\"]\n",
    "                  for i in range(nb_items)])\n",
    "    if weight > problem.max_capacity:\n",
    "        print(\"weight =\", weight, \" > maxcapacity=\", problem.max_capacity)\n",
    "        return -float(\"inf\")\n",
    "    else:\n",
    "        return value"
   ]
  },
  {
   "cell_type": "code",
   "execution_count": null,
   "id": "71b56160",
   "metadata": {},
   "outputs": [],
   "source": [
    "import random\n",
    "list_items = [{'value': random.randint(0, 10000), \n",
    "               'weight' : random.randint(30, 50)} for i in range(20)] # Some random dictionary list     \n",
    "random_knapsack_problem = KnapsackProblem(list_items=list_items, \n",
    "                                          max_capacity=50)\n",
    "# over complicated way of generating a random boolean vector :)\n",
    "#random_solution = list(map(lambda x: bool(int(x)), list(bin(random.getrandbits(len(list_items))))[2:]))\n",
    "random_solution = list(map(lambda x: bool(random.randint(0, 1)), \n",
    "                           range(len(list_items))))\n",
    "print(random_solution)\n",
    "value = evaluate(KnapsackSolution(random_solution), random_knapsack_problem)\n",
    "print(value)"
   ]
  },
  {
   "cell_type": "markdown",
   "id": "bb723992",
   "metadata": {},
   "source": [
    "💪💪 The function below should return a knapsack solution, where items are added in the knapsack according to their position in a sorted array of items. Items that has the first in the sorted array will be chosen over the others basically. "
   ]
  },
  {
   "cell_type": "code",
   "execution_count": null,
   "id": "17ec1f18",
   "metadata": {},
   "outputs": [],
   "source": [
    "def fill_knapsack(problem: KnapsackProblem, strategy: Callable)->KnapsackSolution:\n",
    "    sorted_index_items = sorted(range(len(problem.list_items)), \n",
    "                                key=lambda x: strategy(problem.list_items[x]))\n",
    "    knapsol = [False for i in range(len(problem.list_items))]\n",
    "    # TOFILL\n",
    "    return KnapsackSolution(knapsol)"
   ]
  },
  {
   "cell_type": "code",
   "execution_count": null,
   "id": "6c27c9d6",
   "metadata": {},
   "outputs": [],
   "source": [
    "#%load correction/bonus/fill_knapsack.py"
   ]
  },
  {
   "cell_type": "markdown",
   "id": "c07da152",
   "metadata": {},
   "source": [
    "Test different strategy effectiveness using lambda functions."
   ]
  },
  {
   "cell_type": "code",
   "execution_count": null,
   "id": "8d5a7197",
   "metadata": {},
   "outputs": [],
   "source": [
    "list_strategies = [(lambda x: -x[\"value\"]/x[\"weight\"], \"-value/weight\"),\n",
    "                   (lambda x: x[\"value\"]/x[\"weight\"], \"value/weight\"),\n",
    "                   (lambda x: x[\"weight\"], \"weight\"), \n",
    "                   (lambda x: -x[\"value\"], \"-value\"), \n",
    "                   (lambda x: x[\"value\"], \"value\"), \n",
    "                   (lambda x: -x[\"value\"]/x[\"weight\"]+x[\"weight\"], \"-value/weight+weight\")]\n",
    "results = list(map(lambda x: (fill_knapsack(problem=random_knapsack_problem,\n",
    "                                            strategy=x[0]), x[1]), list_strategies))\n",
    "evals = list(map(lambda x: (evaluate(solution=x[0], problem=random_knapsack_problem), x[1]),\n",
    "                 results))\n",
    "print(evals)"
   ]
  },
  {
   "cell_type": "markdown",
   "id": "5e90c80a",
   "metadata": {},
   "source": [
    "What is the best ordering strategy ?"
   ]
  }
 ],
 "metadata": {
  "kernelspec": {
   "display_name": "Python 3 (ipykernel)",
   "language": "python",
   "name": "python3"
  },
  "language_info": {
   "codemirror_mode": {
    "name": "ipython",
    "version": 3
   },
   "file_extension": ".py",
   "mimetype": "text/x-python",
   "name": "python",
   "nbconvert_exporter": "python",
   "pygments_lexer": "ipython3",
   "version": "3.8.13"
  }
 },
 "nbformat": 4,
 "nbformat_minor": 5
}
