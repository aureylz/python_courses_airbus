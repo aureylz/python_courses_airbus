{
 "cells": [
  {
   "cell_type": "markdown",
   "id": "1345c163",
   "metadata": {},
   "source": [
    "# Practical problem\n",
    "\n",
    "You will put in practice what you learnt in the functionnal programming notebook. Through this challenge, please use functionnal programming paradigm as often as possible, use of HOF is encouraged (either your version or the native python implementation !)\n"
   ]
  },
  {
   "cell_type": "markdown",
   "id": "65b72d3e",
   "metadata": {},
   "source": [
    "## Story \n",
    "All the server of your company Busair have been down for a few days because of an hacker attack. A crisis team have been built to find the author of the attack. It seems that someone (maybe a partner in crime) let some hints in the only remaining working server. \n",
    "You have 3 different files in the server : \n",
    "\n",
    "- encoded_big_text.json \n",
    "- hint_encoded.json \n",
    "- suspects.json \n",
    "\n",
    "All of them are not understandable piece of text..."
   ]
  },
  {
   "cell_type": "markdown",
   "id": "fa4698b2",
   "metadata": {},
   "source": [
    "## Parsing the files : "
   ]
  },
  {
   "cell_type": "code",
   "execution_count": null,
   "id": "f829f974",
   "metadata": {},
   "outputs": [],
   "source": [
    "import json\n",
    "encoded_big_text = json.load(open(\"encoded_big_text.json\", \"r\"))\n",
    "hint = json.load(open(\"hint_encoded.json\", 'r'))\n",
    "suspects = json.load(open('suspects.json', 'r'))"
   ]
  },
  {
   "cell_type": "code",
   "execution_count": null,
   "id": "4dbae9ef",
   "metadata": {},
   "outputs": [],
   "source": [
    "print(hint) # ?????!!!"
   ]
  },
  {
   "cell_type": "markdown",
   "id": "2f3e1f27",
   "metadata": {},
   "source": [
    "## Analyse big text\n",
    "- Step 1 : Code a function that returns the set of different symbols in the text : "
   ]
  },
  {
   "cell_type": "code",
   "execution_count": null,
   "id": "214176d6",
   "metadata": {},
   "outputs": [],
   "source": [
    "from typing import Set\n",
    "def set_different_symbol(text: str)-> Set[str]:\n",
    "    # TO FILL\n",
    "    pass"
   ]
  },
  {
   "cell_type": "code",
   "execution_count": null,
   "id": "d8982e5a",
   "metadata": {},
   "outputs": [],
   "source": [
    "symbols = set_different_symbol(encoded_big_text)\n",
    "print(symbols, len(symbols))"
   ]
  },
  {
   "cell_type": "markdown",
   "id": "7b199381",
   "metadata": {},
   "source": [
    "It seems that the text is using the english alphabet, space and return symbols !!"
   ]
  },
  {
   "cell_type": "markdown",
   "id": "3f2700b7",
   "metadata": {},
   "source": [
    "One of your colleague is suggesting that the encoded text is just produced using a substitution mecanism which is the most basic way of encoding a text.\n",
    "A substitution works this way : let $S$ a set of symbol and $f:S->S$ be a bijection from $S$ to $S$ then, $encoded(text)=map(f, text)$"
   ]
  },
  {
   "cell_type": "markdown",
   "id": "60eeba76",
   "metadata": {},
   "source": [
    "## Find the subsitution... !\n",
    "We consider that the most common symbols in english language is the following : "
   ]
  },
  {
   "cell_type": "code",
   "execution_count": null,
   "id": "bcad7120",
   "metadata": {},
   "outputs": [],
   "source": [
    "sorted_caracters = [' ', 'e', 'o', 't', 'a', 's', \n",
    "                    'i', 'r', 'h', 'n', 'l', \n",
    "                    '\\n', 'u', 'm', 'd', 'w', 'y', \n",
    "                    'g', 'f', 'c', 'b', 'p', 'v',\n",
    "                    'k', 'q', 'x', 'j', 'z']"
   ]
  },
  {
   "cell_type": "markdown",
   "id": "51650f75",
   "metadata": {},
   "source": [
    "- Code a function returning a dictionnary where the keys are symbols and value the number of occurence in a text.\n",
    "\n",
    "If you're using recursion you might need to run the following cell to increase the recursion limit of python."
   ]
  },
  {
   "cell_type": "code",
   "execution_count": null,
   "id": "71a9df5c",
   "metadata": {},
   "outputs": [],
   "source": [
    "import sys\n",
    "print(sys.getrecursionlimit())\n",
    "sys.setrecursionlimit(20000)"
   ]
  },
  {
   "cell_type": "code",
   "execution_count": null,
   "id": "50a44f07",
   "metadata": {},
   "outputs": [],
   "source": [
    "from typing import Dict\n",
    "def count_symbols(text: str)->Dict[str, int]:\n",
    "    # TO FILL\n",
    "    pass"
   ]
  },
  {
   "cell_type": "code",
   "execution_count": null,
   "id": "e5f67f99",
   "metadata": {},
   "outputs": [],
   "source": [
    "count = count_symbols(encoded_big_text)"
   ]
  },
  {
   "cell_type": "code",
   "execution_count": null,
   "id": "d0d8441a",
   "metadata": {},
   "outputs": [],
   "source": [
    "print(count)"
   ]
  },
  {
   "cell_type": "markdown",
   "id": "3c50a289",
   "metadata": {},
   "source": [
    "- Sort the symbol per decreasing occurence : "
   ]
  },
  {
   "cell_type": "code",
   "execution_count": null,
   "id": "9d268eda",
   "metadata": {},
   "outputs": [],
   "source": [
    "sorted_by_occurence = sorted(count, key=lambda x: count[x], reverse=True)\n",
    "print(sorted_by_occurence)"
   ]
  },
  {
   "cell_type": "markdown",
   "id": "172385df",
   "metadata": {},
   "source": [
    "- In the hypothesis that our text respects the statistics of english language perfectly, guess what would be the substitution function $f$ and code it (you can call it \"encode\". You can also deduce an implementation of the inverse function $f^{-1}$, and call it \"decode\"."
   ]
  },
  {
   "cell_type": "code",
   "execution_count": null,
   "id": "7696dad3",
   "metadata": {},
   "outputs": [],
   "source": [
    "encode = None # ??\n",
    "decode = None # ??"
   ]
  },
  {
   "cell_type": "markdown",
   "id": "37e6e44f",
   "metadata": {},
   "source": [
    "# Decode the strings !!!"
   ]
  },
  {
   "cell_type": "markdown",
   "id": "351ac4db",
   "metadata": {},
   "source": [
    "- Code a function that maps a text to a new one using any function $f$."
   ]
  },
  {
   "cell_type": "code",
   "execution_count": null,
   "id": "bf818a1b",
   "metadata": {},
   "outputs": [],
   "source": [
    "def map_text(text:str, f)->str:\n",
    "    # TO FILL\n",
    "    pass"
   ]
  },
  {
   "cell_type": "markdown",
   "id": "5715b961",
   "metadata": {},
   "source": [
    "- Use this map_text with the $f^{-1}$ (inverse substitution function) to decode the different encoded text :"
   ]
  },
  {
   "cell_type": "code",
   "execution_count": null,
   "id": "af8ea9e1",
   "metadata": {},
   "outputs": [],
   "source": [
    "big_text = map_text(encoded_big_text, decode)\n",
    "hint_text = map_text(hint, decode)\n",
    "suspects_text = map_text(suspects, decode)"
   ]
  },
  {
   "cell_type": "code",
   "execution_count": null,
   "id": "ca023add",
   "metadata": {},
   "outputs": [],
   "source": [
    "# Let's look at hint text !\n",
    "print(hint_text)"
   ]
  },
  {
   "cell_type": "code",
   "execution_count": null,
   "id": "af2f7726",
   "metadata": {},
   "outputs": [],
   "source": [
    "print(big_text)"
   ]
  },
  {
   "cell_type": "code",
   "execution_count": null,
   "id": "613aae29",
   "metadata": {},
   "outputs": [],
   "source": [
    "print(suspects_text)"
   ]
  },
  {
   "cell_type": "markdown",
   "id": "049689f7",
   "metadata": {},
   "source": [
    "## Find the guilty : \n",
    "According to the hint, you're invited to look at https://en.wikipedia.org/wiki/Fibonacci_number function... which is known to be a basic formulation of counting the population of rabbits through time...\n",
    "\n",
    "The fibonacci function $F$ if defined recursively by : $F(1)=1, F(2)=1, F(n)=F(n-1)+F(n-2), \\forall n>2$"
   ]
  },
  {
   "cell_type": "markdown",
   "id": "2c5eb599",
   "metadata": {},
   "source": [
    "- Code the fibonacci function using recursion : "
   ]
  },
  {
   "cell_type": "code",
   "execution_count": null,
   "id": "7b987ad2",
   "metadata": {},
   "outputs": [],
   "source": [
    "def fibonacci(n):\n",
    "    # TO FILL\n",
    "    pass"
   ]
  },
  {
   "cell_type": "markdown",
   "id": "46ebe374",
   "metadata": {},
   "source": [
    "- Test your implementation... \n",
    "If you coded the naive fibonacci function, the number of call grows exponentially with $n$ thus you won't be able to compute the fibonacci value for relatively high $n$. Let's test : "
   ]
  },
  {
   "cell_type": "code",
   "execution_count": null,
   "id": "a562f2c0",
   "metadata": {},
   "outputs": [],
   "source": [
    "import signal\n",
    "def handler(signum, frame):\n",
    "    raise Exception(\"Time out\")\n",
    "signal.signal(signal.SIGALRM, handler)\n",
    "\n",
    "# Wait for 10 seconds\n",
    "signal.alarm(10)\n",
    "try:\n",
    "    fibo = fibonacci(50) # Compute fibo number for 50\n",
    "except Exception:\n",
    "    print(\"the computation could not finsh\")\n",
    "finally:\n",
    "    signal.alarm(0)"
   ]
  },
  {
   "cell_type": "markdown",
   "id": "51c7d8cd",
   "metadata": {},
   "source": [
    "## Memoization method \n",
    "💪 $functools$ library provide memoisation capability, which is handling caching of function calls : when the function is called for a given input, it is cached and can be directly reused when the function is called again with the same input.\n",
    "- Code a cached_fibonacci function by using ```lru_cache```\n",
    " decorator (https://docs.python.org/3/library/functools.html#functools.lru_cache)"
   ]
  },
  {
   "cell_type": "code",
   "execution_count": null,
   "id": "edd7ab05",
   "metadata": {},
   "outputs": [],
   "source": [
    "from functools import lru_cache\n",
    "\n",
    "def cached_fibonacci(n: int)->int:\n",
    "    # TO FILL\n",
    "    pass"
   ]
  },
  {
   "cell_type": "code",
   "execution_count": null,
   "id": "5664d447",
   "metadata": {},
   "outputs": [],
   "source": [
    "# Wait for 10 seconds\n",
    "signal.alarm(10)\n",
    "try:\n",
    "    fibo = cached_fibonacci(50) # Compute fibo number for 50\n",
    "    print(fibo)\n",
    "except Exception:\n",
    "    print(\"the computation could not finish\")\n",
    "finally:\n",
    "    signal.alarm(0)"
   ]
  },
  {
   "cell_type": "markdown",
   "id": "0299ae88",
   "metadata": {},
   "source": [
    "This should now work."
   ]
  },
  {
   "cell_type": "markdown",
   "id": "f2520ee1",
   "metadata": {},
   "source": [
    "- Plot the evolution of fibonacci function from 1 to 50"
   ]
  },
  {
   "cell_type": "code",
   "execution_count": null,
   "id": "e27f5842",
   "metadata": {},
   "outputs": [],
   "source": [
    "#!pip install matplotlib "
   ]
  },
  {
   "cell_type": "code",
   "execution_count": null,
   "id": "33ed3b60",
   "metadata": {},
   "outputs": [],
   "source": [
    "import matplotlib.pyplot as plt"
   ]
  },
  {
   "cell_type": "code",
   "execution_count": null,
   "id": "0e2d8f12",
   "metadata": {},
   "outputs": [],
   "source": [
    "fibo = [cached_fibonacci(i) for i in range(1, 51)]\n",
    "print([(\"Fibo(\"+str(i+1)+\")\",fibo[i]) for i in range(len(fibo))])\n",
    "plt.plot(fibo)"
   ]
  },
  {
   "cell_type": "markdown",
   "id": "b630a36f",
   "metadata": {},
   "source": [
    "## Conclude your quest \n",
    "from the hint and with the 50 first values of fibonacci function you can -maybe- guess the guilty hacker."
   ]
  },
  {
   "cell_type": "code",
   "execution_count": null,
   "id": "a56eadbc",
   "metadata": {},
   "outputs": [],
   "source": [
    "my_answer = \" ??? \""
   ]
  }
 ],
 "metadata": {
  "kernelspec": {
   "display_name": "Python 3 (ipykernel)",
   "language": "python",
   "name": "python3"
  },
  "language_info": {
   "codemirror_mode": {
    "name": "ipython",
    "version": 3
   },
   "file_extension": ".py",
   "mimetype": "text/x-python",
   "name": "python",
   "nbconvert_exporter": "python",
   "pygments_lexer": "ipython3",
   "version": "3.8.13"
  }
 },
 "nbformat": 4,
 "nbformat_minor": 5
}
