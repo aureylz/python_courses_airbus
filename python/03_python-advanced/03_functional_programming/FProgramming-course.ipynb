{
 "cells": [
  {
   "cell_type": "markdown",
   "id": "74743a0f",
   "metadata": {},
   "source": [
    "# Python functionnal programming course "
   ]
  },
  {
   "cell_type": "markdown",
   "id": "60949623",
   "metadata": {},
   "source": [
    "# Organisation of course \n",
    "\n",
    "Different concepts of functional programming will be presented. On each section, you'll be invited to write some functions. Most difficult functions to code will be annotated with  💪. You're free to ask for help 💡 !\n",
    "\n",
    "## **Index**\n",
    "\n",
    "- [Intro](#intro)\n",
    "- [Basics](#basics) \n",
    "    - [Manipulate function as any object](#1.1)\n",
    "    - [Lambda functions](#1.2)\n",
    "    - [Recursion](#1.3)\n",
    "- [Higher order function](#2)\n",
    "    - [Map/Reduce paradigm](#2.1)\n",
    "    - [Composing functions](#2.2)\n",
    "    - [Map/Reduce as a composed function](#2.3)\n",
    "- [Conclusion](#conclusion)"
   ]
  },
  {
   "cell_type": "markdown",
   "id": "6a557465",
   "metadata": {},
   "source": [
    "# Intro <a name=\"intro\"></a>"
   ]
  },
  {
   "cell_type": "markdown",
   "id": "78fe65e1",
   "metadata": {},
   "source": [
    "(https://docs.python.org/3/howto/functional.html)\n",
    "\n",
    "Programming languages support decomposing problems in several different ways:\n",
    "\n",
    "Most programming languages are <b>procedural</b>: programs are lists of instructions that tell the computer what to do with the program’s input. C, Pascal, and even Unix shells are procedural languages.\n",
    "\n",
    "In <b>declarative</b> languages, you write a specification that describes the problem to be solved, and the language implementation figures out how to perform the computation efficiently. SQL is the declarative language you’re most likely to be familiar with; a SQL query describes the data set you want to retrieve, and the SQL engine decides whether to scan tables or use indexes, which subclauses should be performed first, etc.\n",
    "\n",
    "<b>Object-oriented</b> programs manipulate collections of objects. Objects have internal state and support methods that query or modify this internal state in some way. Smalltalk and Java are object-oriented languages. C++ and Python are languages that support object-oriented programming, but don’t force the use of object-oriented features.\n",
    "\n",
    "<b>Functional programming</b> decomposes a problem into a set of functions. Ideally, functions only take inputs and produce outputs, and don’t have any internal state that affects the output produced for a given input. Well-known functional languages include the ML family (Standard ML, OCaml, and other variants) and Haskell."
   ]
  },
  {
   "cell_type": "markdown",
   "id": "350c652e",
   "metadata": {},
   "source": [
    "<b>Python</b> is a multiparadigm programming language that allows to do procedural, object oriented or functional programming, possibly mixing all of them. "
   ]
  },
  {
   "cell_type": "markdown",
   "id": "8479fa1c",
   "metadata": {},
   "source": [
    "# 1. Basics <a name=\"basics\"></a>\n",
    "\n",
    "## 1.1 Manipulate function as any object <a name=\"1.1\"></a>"
   ]
  },
  {
   "cell_type": "code",
   "execution_count": null,
   "id": "54e9c94b",
   "metadata": {},
   "outputs": [],
   "source": [
    "# 3 trivial functions\n",
    "def foo():\n",
    "    return\n",
    "def one():\n",
    "    return 1\n",
    "def two():\n",
    "    return 2"
   ]
  },
  {
   "cell_type": "code",
   "execution_count": null,
   "id": "c235dc0c",
   "metadata": {},
   "outputs": [],
   "source": [
    "# You can assign a function to a variable\n",
    "a = foo\n",
    "b = one\n",
    "c = two\n",
    "print(a, b, c, \"\\n\", \n",
    "      a(), b(), c())"
   ]
  },
  {
   "cell_type": "markdown",
   "id": "7d21c052",
   "metadata": {},
   "source": [
    "Function can be put in list, dictionaries, sets...\n",
    "\n",
    "For example below, the functions are stored as the keys of a dictionary, and their returned value as the values of this dictionary."
   ]
  },
  {
   "cell_type": "code",
   "execution_count": null,
   "id": "69914c55",
   "metadata": {},
   "outputs": [],
   "source": [
    "dictionary_function = {a: a(), b: b(), c: c()}"
   ]
  },
  {
   "cell_type": "code",
   "execution_count": null,
   "id": "1b62bfeb",
   "metadata": {},
   "outputs": [],
   "source": [
    "print(dictionary_function)"
   ]
  },
  {
   "cell_type": "markdown",
   "id": "f7d4bcf1",
   "metadata": {},
   "source": [
    "## 1.2 Lambda functions <a name=\"1.2\"></a>"
   ]
  },
  {
   "cell_type": "markdown",
   "id": "ab30878c",
   "metadata": {},
   "source": [
    "In python, lambda function can be seen as anonymous function, that has no names. One trivial lambda function is the identity : \n",
    "\n",
    "```python \n",
    "lambda x: x\n",
    "```\n",
    "\n",
    "In the example the expression is composed of : \n",
    "\n",
    "- The keyword: ```lambda```\n",
    "- A bound variable: x\n",
    "- A body: ```x```\n",
    "\n",
    "In practice, lambda function are used in python usually in the call of higher order functions that we'll introduce later."
   ]
  },
  {
   "cell_type": "code",
   "execution_count": null,
   "id": "2e203ff0",
   "metadata": {},
   "outputs": [],
   "source": [
    "# Lambda can be called as any classical function (however this syntax is not very common)\n",
    "a = (lambda x: 2*x)\n",
    "print(a)\n",
    "print(a(1))\n",
    "b = (lambda x: 3*x)(1)\n",
    "print(b)"
   ]
  },
  {
   "cell_type": "markdown",
   "id": "07aaad0e",
   "metadata": {},
   "source": [
    "## 1.3. Recursion <a name=\"1.3\"></a>\n",
    "Pure functional programming language usually avoid the use of <b>for</b> loops, (when the feature actually exists !). Any ```for``` loop based code can be rewritten as recursion and vice versa. \n",
    "As a reminder, A recursive function involve the calling to itself at some point."
   ]
  },
  {
   "cell_type": "markdown",
   "id": "67ad0eb0",
   "metadata": {},
   "source": [
    "### Exercice 1 : Replace for loop by recursion.\n",
    "Write a recurvise version of a very basic function that is printing the element of a list in order. For help 💡 we provide a procedural version."
   ]
  },
  {
   "cell_type": "code",
   "execution_count": null,
   "id": "4c85c2ce",
   "metadata": {},
   "outputs": [],
   "source": [
    "from typing import List, Any"
   ]
  },
  {
   "cell_type": "code",
   "execution_count": null,
   "id": "b033b844",
   "metadata": {},
   "outputs": [],
   "source": [
    "# Procedural way\n",
    "def print_list(list_of_something: List[Any]):\n",
    "    for item in list_of_something:\n",
    "        print(item)"
   ]
  },
  {
   "cell_type": "code",
   "execution_count": null,
   "id": "0385abea",
   "metadata": {},
   "outputs": [],
   "source": [
    "print_list([1,2,3,4])"
   ]
  },
  {
   "cell_type": "code",
   "execution_count": null,
   "id": "c49c8944",
   "metadata": {},
   "outputs": [],
   "source": [
    "# Recurcive way \n",
    "def print_list_recursive(list_of_something: List[Any]):\n",
    "    # TOFILL\n",
    "    pass"
   ]
  },
  {
   "cell_type": "code",
   "execution_count": null,
   "id": "13c9bf9c",
   "metadata": {},
   "outputs": [],
   "source": [
    "#%load correction/course/print_list_recursive.py"
   ]
  },
  {
   "cell_type": "code",
   "execution_count": null,
   "id": "93cc089e",
   "metadata": {},
   "outputs": [],
   "source": [
    "print_list_recursive([1,2,3,4])"
   ]
  },
  {
   "cell_type": "markdown",
   "id": "528202b3",
   "metadata": {},
   "source": [
    "# 2. Higher order function <a name=\"2\"></a>\n",
    "\n",
    "Higher order function is a function that have as some of its argument other functions. This is very common in functionnal programming where you can compose function for example.\n",
    "Python includes some basics ```HOF``` that will be used directly in the rest of this notebook : \n",
    "```python \n",
    "max(), min(), sorted(), map(), filter(), functools.reduce()\n",
    "```\n",
    "\n",
    "Don't hesitate to look at the documentation of those function. by running the following cell."
   ]
  },
  {
   "cell_type": "code",
   "execution_count": null,
   "id": "facb1723",
   "metadata": {},
   "outputs": [],
   "source": [
    "max?"
   ]
  },
  {
   "cell_type": "markdown",
   "id": "9f5a687f",
   "metadata": {},
   "source": [
    "### Exercise 2 : sort a dictionary of integers according to some criteria which is a function of the dictionary keys"
   ]
  },
  {
   "cell_type": "code",
   "execution_count": null,
   "id": "f9394416",
   "metadata": {},
   "outputs": [],
   "source": [
    "import random\n",
    "list_items = [{'value': random.randint(0, 10000), \n",
    "               'weight' : random.randint(30, 50) , \n",
    "               'price' : random.randint(10, 25)} for i in range(20)] # Some random dictionary list     "
   ]
  },
  {
   "cell_type": "markdown",
   "id": "9355acf3",
   "metadata": {},
   "source": [
    "In the classical [knapsack problem](https://en.wikipedia.org/wiki/Knapsack_problem), your goal is to fill your knapsack of given capacity with items that sums to the highest value. The constraint is to fulfill the capacity constraint i.e the sum of the weight of your chosen item should not exceed the capacity of your knapsack. One good heuristic to fill the knapsack is to select first the items with the higher $\\frac{value}{weight}$. The goal of this exercice is to sort ```list_items``` according to this function. Consider using the built-in function ```sorted``` which is a <b>HOF</b> and look to its signature, you should also use a ```lambda``` function in your solution. As a bonus, you can also find a solution without ```lambda```."
   ]
  },
  {
   "cell_type": "code",
   "execution_count": null,
   "id": "eeab6e78",
   "metadata": {},
   "outputs": [],
   "source": [
    "sorted_list_items = None # TOFILL "
   ]
  },
  {
   "cell_type": "code",
   "execution_count": null,
   "id": "f0a4e8d0",
   "metadata": {},
   "outputs": [],
   "source": [
    "# %load correction/course/sort_items.py"
   ]
  },
  {
   "cell_type": "code",
   "execution_count": null,
   "id": "76246c9e",
   "metadata": {},
   "outputs": [],
   "source": [
    "for item in sorted_list_items:\n",
    "    print(\"value per unit of weight : \", item['value']/item['weight'])"
   ]
  },
  {
   "cell_type": "markdown",
   "id": "9d6cd2a5",
   "metadata": {},
   "source": [
    "## 2.1 Map/Reduce paradigm <a name=\"2.1\"></a>\n"
   ]
  },
  {
   "cell_type": "markdown",
   "id": "72d4ee8b",
   "metadata": {},
   "source": [
    "### 2.1.1 Map function. <a name=\"2.1.1\"></a>\n",
    "\n",
    ">In theory, ```map``` is a HOF that has as input a list of some elements ```l``` and a function ```f``` to apply. \n",
    "In python, ```map``` is slightly different and take iterable a ```l``` and returns an <b>iterator</b>. In general, ```map``` idea is to parallelize the process of input to output but python is not natively doing it"
   ]
  },
  {
   "cell_type": "markdown",
   "id": "290eabc6",
   "metadata": {},
   "source": [
    "### Exercice 3\n",
    "Lets consider we have a list of integer ```l```, we want to compute a new list containing the double of the value contained in ```l```."
   ]
  },
  {
   "cell_type": "code",
   "execution_count": null,
   "id": "8d78c5ed",
   "metadata": {},
   "outputs": [],
   "source": [
    "import random\n",
    "l = [random.randint(0, 20) for i in range(40)] # Some random list of integer\n",
    "print(l)"
   ]
  },
  {
   "cell_type": "markdown",
   "id": "3444517c",
   "metadata": {},
   "source": [
    "Here is a procedural version, where we apply a linear function on the list in a ```for``` loop."
   ]
  },
  {
   "cell_type": "code",
   "execution_count": null,
   "id": "47e718eb",
   "metadata": {},
   "outputs": [],
   "source": [
    "# Procedural way :\n",
    "l2 = []\n",
    "for elem in l:\n",
    "    l2.append(elem*2)\n",
    "print(l2)\n",
    "assert(all(x==y*2 for x,y in zip(l2, l)))"
   ]
  },
  {
   "cell_type": "markdown",
   "id": "3bbffa12",
   "metadata": {},
   "source": [
    "We ask you to write down a ```my_map``` function that takes as input a list $l$ and a function $f$, that returns a new list where each element is equal to $f(x)$ where $x$ is the element of $l$. \n",
    "\n",
    "💪<b>[OPTIONAL]</b> For brave, you can also do an iterable version ```my_map_iterable```\n",
    "."
   ]
  },
  {
   "cell_type": "code",
   "execution_count": null,
   "id": "a352e118",
   "metadata": {},
   "outputs": [],
   "source": [
    "from typing import List, Iterable\n",
    "# write a map function working with list, with an additionnal len_list argument to improve the computation time by recursion.\n",
    "def my_map(list_: List, len_list: int, function) -> List:\n",
    "    # TO FILL \n",
    "    pass\n",
    "\n",
    "\n",
    "# write a map function working on iterable, and returning an iterator. \n",
    "# 💪\n",
    "def my_map_iterable(iterable: Iterable, function) -> Iterable:\n",
    "    # TO FILL\n",
    "    pass"
   ]
  },
  {
   "cell_type": "code",
   "execution_count": null,
   "id": "435c775c",
   "metadata": {},
   "outputs": [],
   "source": [
    "# %load correction/course/my_map.py"
   ]
  },
  {
   "cell_type": "code",
   "execution_count": null,
   "id": "f7cfd22b",
   "metadata": {},
   "outputs": [],
   "source": [
    "# Testing with the double function : \n",
    "def double(x):\n",
    "    return 2*x\n",
    "\n",
    "l2_list_map = my_map(l, len(l), double)\n",
    "assert(all(x==double(y) for x,y in zip(l2_list_map, l)))\n",
    "l2_iter_map = list(my_map_iterable(l, double))\n",
    "assert(all(x==double(y) for x,y in zip(l2_iter_map, l)))\n",
    "l2_python_map = list(map(double, l))\n",
    "assert(all(x==double(y) for x,y in zip(l2_python_map, l)))"
   ]
  },
  {
   "cell_type": "markdown",
   "id": "c8b7b6b5",
   "metadata": {},
   "source": [
    "### 2.1.2 Reduce <a name=\"2.1.2\"></a>\n",
    "\n",
    ">```functools.reduce(function, iterable[, initializer]```\n",
    "\n",
    ">In theory ```reduce``` executes a reducer function for array element.\n",
    "Apply function of two arguments cumulatively to the items of iterable, from left to right, so as to reduce the iterable to a single value. For example, reduce(lambda x, y: x+y, [1, 2, 3, 4, 5]) calculates ((((1+2)+3)+4)+5). The left argument, x, is the accumulated value and the right argument, y, is the update value from the iterable.\n"
   ]
  },
  {
   "cell_type": "markdown",
   "id": "c0365a23",
   "metadata": {},
   "source": [
    "### Exercice 4 💪"
   ]
  },
  {
   "cell_type": "markdown",
   "id": "2d0df029",
   "metadata": {},
   "source": [
    "Let's test the reduce function where the reduction function is the addition. Therefore, we can compute the sum of the list for example. "
   ]
  },
  {
   "cell_type": "code",
   "execution_count": null,
   "id": "7466689e",
   "metadata": {},
   "outputs": [],
   "source": [
    "from typing import List, Iterable\n",
    "# write a reduce function working with list by recursion.\n",
    "# 💪\n",
    "def my_reduce_list(list_: List, function, initializer):\n",
    "    pass"
   ]
  },
  {
   "cell_type": "code",
   "execution_count": null,
   "id": "4152b57f",
   "metadata": {},
   "outputs": [],
   "source": [
    "#%load correction/course/my_reduce.py"
   ]
  },
  {
   "cell_type": "code",
   "execution_count": null,
   "id": "f17adc32",
   "metadata": {},
   "outputs": [],
   "source": [
    "import functools\n",
    "def sum_xy(x, y):\n",
    "    return x+y\n",
    "sum_list = my_reduce_list(l, sum_xy, None)\n",
    "sum_list"
   ]
  },
  {
   "cell_type": "code",
   "execution_count": null,
   "id": "92c855c2",
   "metadata": {},
   "outputs": [],
   "source": [
    "import functools\n",
    "def sum_xy(x, y):\n",
    "    return x+y\n",
    "sum_list = my_reduce_list(l, sum_xy, None)\n",
    "sum_iterator = my_reduce_iterable(l, sum_xy, None)\n",
    "sum_functools = functools.reduce(sum_xy, l)\n",
    "print(sum_list, \"using my_reduce_list\")\n",
    "print(sum_iterator, \"using my_reduce_iterable\")\n",
    "print(sum_functools, \"using the reduce from functools\")\n",
    "print(sum(l), \" using the sum built-in\")"
   ]
  },
  {
   "cell_type": "markdown",
   "id": "289c04b4",
   "metadata": {},
   "source": [
    "### Exercice 5\n",
    "💪 Concatenate characters into a string.\n",
    "\n",
    "Using any reduce function previously used, your goal is to create the string \"cybersecurityairbus\" from the following list of characters."
   ]
  },
  {
   "cell_type": "code",
   "execution_count": null,
   "id": "1f6c6a56",
   "metadata": {},
   "outputs": [],
   "source": [
    "list_of_characters = [\"c\", \"y\", \"b\", \"e\", \"r\", \n",
    "                      \"s\", \"e\", \"c\", \"u\", \"r\", \"i\", \"t\", \"y\", \n",
    "                      \"a\", \"i\", \"r\", \"b\", \"u\", \"s\"]"
   ]
  },
  {
   "cell_type": "code",
   "execution_count": null,
   "id": "4fbfdd18",
   "metadata": {},
   "outputs": [],
   "source": [
    "string = None \n",
    "print(string)"
   ]
  },
  {
   "cell_type": "code",
   "execution_count": null,
   "id": "e8df829c",
   "metadata": {},
   "outputs": [],
   "source": [
    "# %load correction/course/concatenate_string.py"
   ]
  },
  {
   "cell_type": "markdown",
   "id": "befa7edc",
   "metadata": {},
   "source": [
    "## 2.2 Composing functions  <a name=\"2.2\"></a>"
   ]
  },
  {
   "cell_type": "markdown",
   "id": "7785931b",
   "metadata": {},
   "source": [
    "Let's consider two function $f:X->Y$ and $g:Z->X$, then $f \\circ g: Z->Y$ is the composed function.\n",
    "If you have a list of operator to apply on input data. It can be useful to : apply the ```map``` with a compose function : \n",
    "indeed $map(f)\\circ map(g) = map(f \\circ g)$. This simple trick can speed up computation time."
   ]
  },
  {
   "cell_type": "markdown",
   "id": "bd45833b",
   "metadata": {},
   "source": [
    "### Exercice 6 \n",
    "Write the compose function \n",
    "\n",
    "```compose``` should take two function and returns a new <b>function</b> that is the composed one."
   ]
  },
  {
   "cell_type": "code",
   "execution_count": null,
   "id": "eb234545",
   "metadata": {},
   "outputs": [],
   "source": [
    "def compose(f, g):\n",
    "    # TO FILL\n",
    "    pass"
   ]
  },
  {
   "cell_type": "code",
   "execution_count": null,
   "id": "fcf705ae",
   "metadata": {},
   "outputs": [],
   "source": [
    "# %load correction/course/compose.py\n",
    "def compose(f, g):\n",
    "    return lambda x: f(g(x))"
   ]
  },
  {
   "cell_type": "markdown",
   "id": "a18231d8",
   "metadata": {},
   "source": [
    "Test the compose function by building the composed functions (2.x) with (y^2) which gives 2.(x)^2"
   ]
  },
  {
   "cell_type": "code",
   "execution_count": null,
   "id": "d88e7991",
   "metadata": {},
   "outputs": [],
   "source": [
    "double_square = compose(f=lambda x: 2*x, g=lambda y: y**2) "
   ]
  },
  {
   "cell_type": "code",
   "execution_count": null,
   "id": "b11d4400",
   "metadata": {},
   "outputs": [],
   "source": [
    "l = [1,2,3,4]\n",
    "l3 = list(map(double_square, l))\n",
    "l3"
   ]
  },
  {
   "cell_type": "markdown",
   "id": "1b676766",
   "metadata": {},
   "source": [
    "### Exercice 7\n",
    "\n",
    "Compose function of a list of function \n",
    "\n",
    "We can generalize the previous compose function with a list of function as argument.\n",
    "\n",
    "Hint : you can reuse the compose function and ```reduce``` higher order function."
   ]
  },
  {
   "cell_type": "code",
   "execution_count": null,
   "id": "c3f2ef9e",
   "metadata": {},
   "outputs": [],
   "source": [
    "from functools import reduce\n",
    "def compose_list(*func):\n",
    "    # TOFILL\n",
    "    pas\n"
   ]
  },
  {
   "cell_type": "code",
   "execution_count": null,
   "id": "5bc10e35",
   "metadata": {},
   "outputs": [],
   "source": [
    "# %load correction/course/compose_list.py"
   ]
  },
  {
   "cell_type": "markdown",
   "id": "d368b577",
   "metadata": {},
   "source": [
    "#### Test using the compose function of the exercice 6"
   ]
  },
  {
   "cell_type": "code",
   "execution_count": null,
   "id": "4ad121b8",
   "metadata": {},
   "outputs": [],
   "source": [
    "l3 = list(map(compose(double_square, double) , l))\n",
    "l3"
   ]
  },
  {
   "cell_type": "markdown",
   "id": "88082d9f",
   "metadata": {},
   "source": [
    "#### Test using the compose_list function of the exercice 7"
   ]
  },
  {
   "cell_type": "code",
   "execution_count": null,
   "id": "123a6a9c",
   "metadata": {},
   "outputs": [],
   "source": [
    "pipeline_function = compose_list(*[double_square, double])"
   ]
  },
  {
   "cell_type": "code",
   "execution_count": null,
   "id": "8472caaa",
   "metadata": {},
   "outputs": [],
   "source": [
    "l4 = list(map(pipeline_function, l))"
   ]
  },
  {
   "cell_type": "code",
   "execution_count": null,
   "id": "ba9f4dc5",
   "metadata": {},
   "outputs": [],
   "source": [
    "print(l, \"\\n\", l4)"
   ]
  },
  {
   "cell_type": "markdown",
   "id": "31030719",
   "metadata": {},
   "source": [
    "## 2.3 Map/Reduce as a composed function <a name=\"2.3\"></a>"
   ]
  },
  {
   "cell_type": "code",
   "execution_count": null,
   "id": "ab3c6e9a",
   "metadata": {},
   "outputs": [],
   "source": [
    "# Look at signature of reduce : \n",
    "reduce??"
   ]
  },
  {
   "cell_type": "code",
   "execution_count": null,
   "id": "15e67ade",
   "metadata": {},
   "outputs": [],
   "source": [
    "# Look at signature of map : \n",
    "map??"
   ]
  },
  {
   "cell_type": "markdown",
   "id": "db5f5c8c",
   "metadata": {},
   "source": [
    "- 💪 Code a function ```map_reduce```\n",
    " returning another function that represents $reduce \\circ map$. the reduce used in function will be $f_{reduce}$ and the one used in map, $f_{map}$."
   ]
  },
  {
   "cell_type": "code",
   "execution_count": null,
   "id": "692fcf15",
   "metadata": {},
   "outputs": [],
   "source": [
    "def map_reduce(f_map, f_reduce):\n",
    "    # TOFILL\n",
    "    pass"
   ]
  },
  {
   "cell_type": "code",
   "execution_count": null,
   "id": "39c35027",
   "metadata": {},
   "outputs": [],
   "source": [
    "# %load correction/course/compose_reduce_map.py"
   ]
  },
  {
   "cell_type": "markdown",
   "id": "85e2589a",
   "metadata": {},
   "source": [
    "Test : Compute the sum of the values of the list $l_2=2*l$ "
   ]
  },
  {
   "cell_type": "code",
   "execution_count": null,
   "id": "ed80fe9b",
   "metadata": {},
   "outputs": [],
   "source": [
    "f = map_reduce(f_map=double, f_reduce=sum_xy)\n",
    "sum_of_double = f(l)\n",
    "print(\"pure FProgramming : \", sum_of_double)\n",
    "print(\"simple :-)\", sum([x*2 for x in l]))"
   ]
  },
  {
   "cell_type": "markdown",
   "id": "7e63b640",
   "metadata": {},
   "source": [
    "You have now all the basics to play with functionnal programming !"
   ]
  },
  {
   "cell_type": "markdown",
   "id": "37dddf5b",
   "metadata": {},
   "source": [
    "# Conclusion <a name=\"conclusion\"></a>"
   ]
  },
  {
   "cell_type": "markdown",
   "id": "09f6479d",
   "metadata": {},
   "source": [
    "You should remember few principles, that can be usefull in python : \n",
    "- manipulate function as any object\n",
    "- \"lazy\" function coding using lambda functions\n",
    "- recursion principles\n",
    "- higher order function : function as argument of other function\n",
    "- map, reduce and compose philosophy : map and reduce can replace ```for``` loops in some occasion, ```compose``` can replace a series of computations.\n",
    "\n",
    "However it is also important to remember that python is not the best functional programming language, notably because the recursion is not well handled compared to pure FP language like Haskell or Ocaml. Its usage should be justified and have some advantages over the other possible implementation (clarity, debugging, performance).\n",
    "\n",
    "To go further, you can train yourself by solving the [Hacking mystery](./Hacking%20mystery.ipynb) and send us your resulting notebook for review."
   ]
  }
 ],
 "metadata": {
  "kernelspec": {
   "display_name": "Python 3 (ipykernel)",
   "language": "python",
   "name": "python3"
  },
  "language_info": {
   "codemirror_mode": {
    "name": "ipython",
    "version": 3
   },
   "file_extension": ".py",
   "mimetype": "text/x-python",
   "name": "python",
   "nbconvert_exporter": "python",
   "pygments_lexer": "ipython3",
   "version": "3.8.13"
  }
 },
 "nbformat": 4,
 "nbformat_minor": 5
}
