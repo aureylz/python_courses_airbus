{
 "cells": [
  {
   "cell_type": "markdown",
   "id": "7ca6d617",
   "metadata": {},
   "source": [
    "# Python functionnal programming course "
   ]
  },
  {
   "cell_type": "markdown",
   "id": "52e3c87c",
   "metadata": {},
   "source": [
    "# Organisation of course \n",
    "\n",
    "Different concepts of functional programming will be presented. On each section, you'll be invited to write some functions. Most difficult functions to code will be annotated with  💪. You're free to ask for help 💡 !\n",
    "\n",
    "## **Index**\n",
    "\n",
    "- [Intro](#intro)\n",
    "- [Basics](#basics) \n",
    "    - [Manipulate function as any object](#1.1)\n",
    "    - [Lambda functions](#1.2)\n",
    "    - [Recursion](#1.3)\n",
    "- [Higher order function](#2)\n",
    "    - [Sorting](#2.1)\n",
    "    - [Filter](#2.2)\n",
    "    - [Map](#2.3)\n",
    "    - [Reduce](#2.4)\n",
    "- [Conclusion](#conclusion)"
   ]
  },
  {
   "cell_type": "markdown",
   "id": "08a94d5d",
   "metadata": {},
   "source": [
    "# Intro <a name=\"intro\"></a>"
   ]
  },
  {
   "cell_type": "markdown",
   "id": "1358bdfb",
   "metadata": {},
   "source": [
    "(https://docs.python.org/3/howto/functional.html)\n",
    "\n",
    "> Programming languages support decomposing problems in several different ways:\n",
    "\n",
    "> Most programming languages are <b>procedural</b>: programs are lists of instructions that tell the computer what to do with the program’s input. C, Pascal, and even Unix shells are procedural languages.\n",
    "\n",
    ">  In <b>declarative</b> languages, you write a specification that describes the problem to be solved, and the language implementation figures out how to perform the computation efficiently. SQL is the declarative language you’re most likely to be familiar with; a SQL query describes the data set you want to retrieve, and the SQL engine decides whether to scan tables or use indexes, which subclauses should be performed first, etc.\n",
    "\n",
    ">  <b>Object-oriented</b> programs manipulate collections of objects. Objects have internal state and support methods that query or modify this internal state in some way. Smalltalk and Java are object-oriented languages. C++ and Python are languages that support object-oriented programming, but don’t force the use of object-oriented features.\n",
    "\n",
    "> <b>Functional programming</b> decomposes a problem into a set of functions. Ideally, functions only take inputs and produce outputs, and don’t have any internal state that affects the output produced for a given input. Well-known functional languages include the ML family (Standard ML, OCaml, and other variants) and Haskell."
   ]
  },
  {
   "cell_type": "markdown",
   "id": "33b96014",
   "metadata": {},
   "source": [
    "> <b>Python</b> is a multiparadigm programming language that allows to do procedural, object oriented or functional programming, possibly mixing all of them. "
   ]
  },
  {
   "cell_type": "markdown",
   "id": "4992cbeb",
   "metadata": {},
   "source": [
    "# 1. Basics <a name=\"basics\"></a>\n",
    "\n",
    "## 1.1 Manipulate function as any object <a name=\"1.1\"></a>"
   ]
  },
  {
   "cell_type": "markdown",
   "id": "86e646d9",
   "metadata": {},
   "source": [
    ">  In Python, functions behave like any other object, such as an `int` or a `list`. That means that you can use functions as arguments to other functions, store functions as dictionary values, or return a function from another function. This leads to many powerful ways to use functions."
   ]
  },
  {
   "cell_type": "code",
   "execution_count": null,
   "id": "cd2dbbe4",
   "metadata": {},
   "outputs": [],
   "source": [
    "# 3 trivial functions\n",
    "def foo():\n",
    "    return\n",
    "def two():\n",
    "    return 2\n",
    "def multiply_by_3(x):\n",
    "    return 3*x"
   ]
  },
  {
   "cell_type": "code",
   "execution_count": null,
   "id": "bc33e34e",
   "metadata": {},
   "outputs": [],
   "source": [
    "# You can assign a function to a variable\n",
    "a = foo\n",
    "b = two\n",
    "c = multiply_by_3\n",
    "print(a, b, c, \"\\n\", \n",
    "      a(), b(), c(1))"
   ]
  },
  {
   "cell_type": "markdown",
   "id": "c9b9f30e",
   "metadata": {},
   "source": [
    "<b> Example </b>: the functions are stored as the keys of a dictionary, and their returned value as the values of this dictionary."
   ]
  },
  {
   "cell_type": "code",
   "execution_count": null,
   "id": "c92b7011",
   "metadata": {},
   "outputs": [],
   "source": [
    "dictionary_function = {a: a(), b: b(), c: c(1)}"
   ]
  },
  {
   "cell_type": "code",
   "execution_count": null,
   "id": "30ace013",
   "metadata": {},
   "outputs": [],
   "source": [
    "print(dictionary_function)"
   ]
  },
  {
   "cell_type": "markdown",
   "id": "d93d731f",
   "metadata": {},
   "source": [
    "## 1.2 Lambda functions <a name=\"1.2\"></a>"
   ]
  },
  {
   "cell_type": "markdown",
   "id": "2d8cf36a",
   "metadata": {},
   "source": [
    "> In python, `lambda` function can be seen as anonymous function, that has no name. \n",
    "\n",
    "```python \n",
    "lambda arguments: expression\n",
    "```\n",
    ">  A lambda function is defined with : \n",
    ">- The keyword: ```lambda```\n",
    ">- bound variables: ```arguments```\n",
    ">- A body: ```expressions```\n",
    "\n",
    "> In the example above, the expression is executed and the result is returned.\n"
   ]
  },
  {
   "cell_type": "markdown",
   "id": "f995f540",
   "metadata": {},
   "source": [
    "<b> Example:</b> Lambda and standard function examples\n",
    "\n",
    "Multiply by 2 the argument x, and return the result"
   ]
  },
  {
   "cell_type": "code",
   "execution_count": null,
   "id": "002b4dc5",
   "metadata": {},
   "outputs": [],
   "source": [
    "# Lambda function\n",
    "y_0 = (lambda x: 2*x)\n",
    "print('the lambda function as stored', y_0)\n",
    "print('result for x=1 using the lambda function', y_0(1))\n",
    "\n",
    "# Standard function\n",
    "def multiply_by_2(x):\n",
    "    return 2*x\n",
    "\n",
    "print('the multiply_by_2 function as stored', multiply_by_2)\n",
    "print('result for x=1 using the multiply_by_2 function', multiply_by_2(1))\n"
   ]
  },
  {
   "cell_type": "markdown",
   "id": "987ccc0e",
   "metadata": {},
   "source": [
    "> Lambda functions can take any number of arguments."
   ]
  },
  {
   "cell_type": "markdown",
   "id": "725badb0",
   "metadata": {},
   "source": [
    "<b> Example:</b> Multiply argument a with argument b and return the result:"
   ]
  },
  {
   "cell_type": "code",
   "execution_count": null,
   "id": "ca2e37a3",
   "metadata": {},
   "outputs": [],
   "source": [
    "x = lambda a, b : a * b\n",
    "print(x(5, 6))"
   ]
  },
  {
   "cell_type": "markdown",
   "id": "295dabeb",
   "metadata": {},
   "source": [
    "> In practice, lambda function are used in python usually in the call of higher order functions that we'll introduce later."
   ]
  },
  {
   "cell_type": "markdown",
   "id": "bd85830a",
   "metadata": {},
   "source": [
    "## 1.3. Recursion <a name=\"1.3\"></a>\n",
    "\n",
    "> Pure functional programming language usually avoid the use of <b>for</b> loops (when the feature actually exists ). Any ```for``` loop based code can be rewritten as recursion and vice versa. \n",
    "A big difference between recursion and iteration is the way that they end. While a loop executes the block of code, checking each time to see if it is at the end of the sequence, there is no such sequential end for recursive code. \n",
    "\n",
    "> A recursive function like the one presented below consists of two parts: the recursive call and the base case. Every recursive function should have at least one base case.  "
   ]
  },
  {
   "cell_type": "markdown",
   "id": "23a82ca9",
   "metadata": {},
   "source": [
    "<b> Example:</b> The factorial function takes a positive number as argument and returns the factorial of this number. \n",
    "\n",
    "Mathematically, the factorial is defined by $0!=1$ and\n",
    "$\\forall n>0,  n! = 1*2*...*n$\n",
    "\n",
    "\n",
    "In the example below, we have reached the end of our necessary recursive calls when we get to the number 0."
   ]
  },
  {
   "cell_type": "code",
   "execution_count": null,
   "id": "c1dcd048",
   "metadata": {},
   "outputs": [],
   "source": [
    "def factorial(n):\n",
    "    \"\"\"This is a recursive function which calls itself to find the factorial of a given number\"\"\"\n",
    "    if n == 0:\n",
    "        return 1\n",
    "    else:\n",
    "        return n * factorial(n - 1)"
   ]
  },
  {
   "cell_type": "code",
   "execution_count": null,
   "id": "1f1779db",
   "metadata": {},
   "outputs": [],
   "source": [
    "factorial(0)"
   ]
  },
  {
   "cell_type": "markdown",
   "id": "c2648113",
   "metadata": {},
   "source": [
    "### Exercise 1: Compute a mathematical sum using recursion\n",
    "\n",
    "Write a Python program to calculate the sum of the positive integers defined by : $n+(n-2)+(n-4)+...(n-2k)+..+M$ where $M\\geq0$\n",
    "\n",
    "<b>Example: $f(6)=6+4+2+0=12$</b>"
   ]
  },
  {
   "cell_type": "code",
   "execution_count": null,
   "id": "47023268",
   "metadata": {},
   "outputs": [],
   "source": [
    "def compute_sum(n):\n",
    "    # TO FILL\n",
    "    return"
   ]
  },
  {
   "cell_type": "code",
   "execution_count": null,
   "id": "7da218b9",
   "metadata": {},
   "outputs": [],
   "source": [
    "# %load correction/course/compute_sum.py\n",
    "def compute_sum(n):\n",
    "    if n <= 1:\n",
    "        return n\n",
    "    return n+compute_sum(n-2)\n",
    "    "
   ]
  },
  {
   "cell_type": "code",
   "execution_count": null,
   "id": "55fefbf7",
   "metadata": {},
   "outputs": [],
   "source": [
    "# Testing\n",
    "compute_sum(6)\n",
    "for k in range(10):\n",
    "    print(k, compute_sum(k))"
   ]
  },
  {
   "cell_type": "markdown",
   "id": "b1329dbf",
   "metadata": {},
   "source": [
    "# 2. Higher order function <a name=\"2\"></a>\n",
    "\n",
    "> Higher order function is a function that have as some of its argument other functions. This is very common in functionnal programming where you can compose function for example.\n",
    "Python includes some basics ```HOF``` that will be used directly in the rest of this notebook : \n",
    "```python \n",
    "max(), min(), sorted(), map(), filter(), functools.reduce()\n",
    "```\n",
    "\n",
    "Don't hesitate to look at the documentation of those function. by running the following cell. In the following of the notebook we'll learn how these functions can be used."
   ]
  },
  {
   "cell_type": "code",
   "execution_count": null,
   "id": "bd662fc3",
   "metadata": {},
   "outputs": [],
   "source": [
    "max?"
   ]
  },
  {
   "cell_type": "markdown",
   "id": "458ff093",
   "metadata": {},
   "source": [
    "## 2.1. Sorting objects <a name=\"2.1\"></a>"
   ]
  },
  {
   "cell_type": "markdown",
   "id": "b45b2e4a",
   "metadata": {},
   "source": [
    "<b> Example:</b> Sort a dictionnary using a custom key and a lambda function.\n",
    "\n",
    "Here the built-in function ```sorted``` which is a <b>HOF</b> is used."
   ]
  },
  {
   "cell_type": "code",
   "execution_count": null,
   "id": "9ac0afe4",
   "metadata": {},
   "outputs": [],
   "source": [
    "employees = [\n",
    "    {'Name': 'Alan Turing', 'age': 25, 'salary': 10000},\n",
    "    {'Name': 'Sharon Lin', 'age': 30, 'salary': 8000},\n",
    "    {'Name': 'John Hopkins', 'age': 18, 'salary': 1000},\n",
    "    {'Name': 'Mikhail Tal', 'age': 40, 'salary': 15000},\n",
    "]\n",
    "\n",
    "# sort by name (Ascending order)\n",
    "employees_by_name = sorted(employees, key=lambda x: x['Name'])\n",
    "print(employees_by_name, end='\\n\\n')\n",
    "\n",
    "# sort by Age (Ascending order)\n",
    "employees_by_age = sorted(employees,key=lambda x: x['age'])\n",
    "print(employees_by_age, end='\\n\\n')\n",
    "\n",
    "# sort by salary (Descending order)\n",
    "employees_by_salary = sorted(employees,key=lambda x: x['salary'], reverse=True)\n",
    "print(employees_by_salary, end='\\n\\n')"
   ]
  },
  {
   "cell_type": "markdown",
   "id": "779d8455",
   "metadata": {},
   "source": [
    "### Exercise 2: Sort items by a custom criteria"
   ]
  },
  {
   "cell_type": "markdown",
   "id": "6c2cdab6",
   "metadata": {},
   "source": [
    "The problem which is presented here as a link with the the classical [knapsack problem](https://en.wikipedia.org/wiki/Knapsack_problem), where the goal is to fill your knapsack of given capacity with items that sums to the highest value. \n",
    "\n",
    "The goal of this exercice is to sort in descending order ```list_items``` according to the function $\\frac{value)}{weight)}$. Refer to the example with the ```employees``` dictionnary above to solve this problem. "
   ]
  },
  {
   "cell_type": "code",
   "execution_count": null,
   "id": "94278fe6",
   "metadata": {},
   "outputs": [],
   "source": [
    "import random\n",
    "list_items = [{'value': random.randint(0, 10000), \n",
    "               'weight' : random.randint(30, 50) , \n",
    "               'price' : random.randint(10, 25)} for i in range(20)] # Some random dictionary list     "
   ]
  },
  {
   "cell_type": "code",
   "execution_count": null,
   "id": "0aecdef2",
   "metadata": {},
   "outputs": [],
   "source": [
    "sorted_list_items = None # TOFILL "
   ]
  },
  {
   "cell_type": "code",
   "execution_count": null,
   "id": "d4ef4c0e",
   "metadata": {},
   "outputs": [],
   "source": [
    "# %load correction/course/sort_items.py"
   ]
  },
  {
   "cell_type": "code",
   "execution_count": null,
   "id": "0c8f9f10",
   "metadata": {},
   "outputs": [],
   "source": [
    "for item in sorted_list_items:\n",
    "    print(\"value per unit of weight : \", item['value']/item['weight'])"
   ]
  },
  {
   "cell_type": "markdown",
   "id": "2cee7419",
   "metadata": {},
   "source": [
    "## 2.2 Filter function <a name=\"2.2\"></a>\n",
    "> ```filter``` is a HOF taking as input an iterable of elements and a filtering function ```f```, returning an iterator of elements ```x``` such that ```f(x)==True```"
   ]
  },
  {
   "cell_type": "code",
   "execution_count": null,
   "id": "4dde6c4e",
   "metadata": {},
   "outputs": [],
   "source": [
    "filter?"
   ]
  },
  {
   "cell_type": "markdown",
   "id": "9fc1c464",
   "metadata": {},
   "source": [
    "<b>Example</b>"
   ]
  },
  {
   "cell_type": "markdown",
   "id": "15b81247",
   "metadata": {},
   "source": [
    "## 2.3 Map function <a name=\"2.3\"></a>\n",
    "\n",
    ">In theory, ```map``` is a HOF that has as input a list of some elements ```l``` and a function ```f``` to apply. \n",
    "In python, ```map``` is slightly different and take iterable a ```l``` and returns an <b>iterator</b>. In general, ```map``` idea is to parallelize the process of input to output."
   ]
  },
  {
   "cell_type": "markdown",
   "id": "961eabbd",
   "metadata": {},
   "source": [
    "<b> Example:</b> Multiply by 2 each element of a ```list``` by itself.  "
   ]
  },
  {
   "cell_type": "markdown",
   "id": "4d22c751",
   "metadata": {},
   "source": [
    "The map method allows you to apply a specific operation or a function to each element in a sequence. You can easily multiply all the numbers in the list by 2. Instead of writing a for loop, map method can be used to collect the required results."
   ]
  },
  {
   "cell_type": "markdown",
   "id": "efed79b4",
   "metadata": {},
   "source": [
    "![alt text](images/map1.png)\n"
   ]
  },
  {
   "cell_type": "markdown",
   "id": "7b3801a5",
   "metadata": {},
   "source": [
    "![alt text](images/map2.png \"Title\")"
   ]
  },
  {
   "cell_type": "code",
   "execution_count": null,
   "id": "a0f60704",
   "metadata": {},
   "outputs": [],
   "source": [
    "l = [1, 2, 3, 4] \n",
    "# map takes a function and apply to each element on the list \n",
    "multiplied_list = list(map(multiply_by_2, l)) \n",
    "multiplied_list"
   ]
  },
  {
   "cell_type": "markdown",
   "id": "060c96c5",
   "metadata": {},
   "source": [
    "### Exercise 3: Coding a simplified map function\n",
    "Lets consider we have a list of integer ```l```, we want to compute a new list containing the square value contained in ```l```."
   ]
  },
  {
   "cell_type": "code",
   "execution_count": null,
   "id": "41a9e242",
   "metadata": {},
   "outputs": [],
   "source": [
    "import random\n",
    "l = [random.randint(0, 20) for i in range(40)] # Some random list of integer\n",
    "print(l)"
   ]
  },
  {
   "cell_type": "markdown",
   "id": "e4ebd57e",
   "metadata": {},
   "source": [
    "Here is a <b>procedural version</b>, where we fill a new list containing the square value of the original item, using a for loop."
   ]
  },
  {
   "cell_type": "code",
   "execution_count": null,
   "id": "48080e20",
   "metadata": {},
   "outputs": [],
   "source": [
    "# Procedural way :\n",
    "l2 = []\n",
    "for elem in l:\n",
    "    l2.append(elem^2)\n",
    "print(l2)\n",
    "assert(all(x==y^2 for x,y in zip(l2, l)))"
   ]
  },
  {
   "cell_type": "markdown",
   "id": "6288a7b8",
   "metadata": {},
   "source": [
    "💪 We ask you to write down a ```my_map``` function that takes as input a list $l$ and a function $f$, that returns a new list where each element is equal to $f(x)$ where $x$ is the element of $l$. 💡 Use recursion !"
   ]
  },
  {
   "cell_type": "code",
   "execution_count": null,
   "id": "0de5f118",
   "metadata": {},
   "outputs": [],
   "source": [
    "from typing import List, Iterable\n",
    "# write a map function working with list\n",
    "def my_map(list_: List, function) -> List:\n",
    "    # TO FILL \n",
    "    pass"
   ]
  },
  {
   "cell_type": "code",
   "execution_count": null,
   "id": "1d86358f",
   "metadata": {},
   "outputs": [],
   "source": [
    "# %load correction/course/my_map.py"
   ]
  },
  {
   "cell_type": "code",
   "execution_count": null,
   "id": "a85114ec",
   "metadata": {},
   "outputs": [],
   "source": [
    "# Testing with the square function : \n",
    "def square(x):\n",
    "    return x**2\n",
    "\n",
    "l2_list_map = my_map(l, square)\n",
    "assert(all(x==square(y) for x,y in zip(l2_list_map, l)))\n",
    "l2_python_map = list(map(square, l))\n",
    "assert(all(x==square(y) for x,y in zip(l2_python_map, l)))"
   ]
  },
  {
   "cell_type": "markdown",
   "id": "2bc3836b",
   "metadata": {},
   "source": [
    "### Exercice 4: Compute factorial numbers using map\n",
    "💪 With python, we can take liberties over the functionnal programming paradigms, by doing unsafe modification of objects inside function calls. \n",
    "\n",
    "Let's consider we have an empty list ```factorials```.\n",
    "We want to fill the ```factorials``` list with values of factorial numbers, so that ```factorials[0]=1, ..factorials[n]=n!```. Define the right function ```f``` and list ```li```\n",
    " to pass to the ```my_map``` (or if you prefer, the built-in ```map```) function in order to build the ```factorials``` list."
   ]
  },
  {
   "cell_type": "code",
   "execution_count": null,
   "id": "848c852f",
   "metadata": {},
   "outputs": [],
   "source": [
    "# TO FILL\n",
    "factorials = []\n",
    "def f(x):\n",
    "    # TO FILL\n",
    "    ...\n",
    "li = ?? # TO FILL\n",
    "#list(map(f, li)\n",
    "my_map(li, f)\n",
    "print(factorials)"
   ]
  },
  {
   "cell_type": "code",
   "execution_count": null,
   "id": "53875463",
   "metadata": {},
   "outputs": [],
   "source": [
    "# %load correction/course/factorial_map.py"
   ]
  },
  {
   "cell_type": "markdown",
   "id": "4dd84392",
   "metadata": {},
   "source": [
    "## 2.4 Reduce <a name=\"2.4\"></a>\n",
    "\n",
    ">```functools.reduce(function, iterable[, initializer]```\n",
    "\n",
    ">In theory ```reduce``` executes a reducer function for array element.\n",
    "Apply function of two arguments cumulatively to the items of iterable, from left to right, so as to reduce the iterable to a single value.  It takes the first two elements of a sequence performs the operation and calculates the result then takes the third element and performs the operation with the result of the first two and so on.\n",
    "\n",
    "For example, reduce(lambda x, y: x+y, [1, 2, 3, 4]) calculates ((((1+2)+3)+4)). The left argument, x, is the accumulated value and the right argument, y, is the updated value from the iterable.\n"
   ]
  },
  {
   "cell_type": "markdown",
   "id": "3a5e535c",
   "metadata": {},
   "source": [
    "![alt text](images/reduce1.png)"
   ]
  },
  {
   "cell_type": "markdown",
   "id": "2d2f404e",
   "metadata": {},
   "source": [
    "![alt text](images/reduce2.png)"
   ]
  },
  {
   "cell_type": "markdown",
   "id": "5557fe63",
   "metadata": {},
   "source": [
    "![alt text](images/reduce3.png)"
   ]
  },
  {
   "cell_type": "markdown",
   "id": "17522d2d",
   "metadata": {},
   "source": [
    "![alt text](images/reduce4.png)"
   ]
  },
  {
   "cell_type": "markdown",
   "id": "2cfc87dd",
   "metadata": {},
   "source": [
    "<b>Example</b>\n",
    "Let's test the reduce function (implemented in the ```functools``` where the reduction function is the addition. Therefore, we can compute the sum of the list for example. "
   ]
  },
  {
   "cell_type": "code",
   "execution_count": null,
   "id": "431d13bf",
   "metadata": {},
   "outputs": [],
   "source": [
    "from functools import reduce\n",
    "result = reduce(lambda x, y: x+y, [1, 2, 3, 4]) "
   ]
  },
  {
   "cell_type": "markdown",
   "id": "695743b5",
   "metadata": {},
   "source": [
    "### Exercice 4 💪"
   ]
  },
  {
   "cell_type": "markdown",
   "id": "61a47a89",
   "metadata": {},
   "source": []
  },
  {
   "cell_type": "code",
   "execution_count": null,
   "id": "375443c7",
   "metadata": {},
   "outputs": [],
   "source": [
    "from typing import List, Iterable\n",
    "# write a reduce function working with a list, recursion.\n",
    "# 💪\n",
    "def my_reduce_list(list_: List, function, initializer):\n",
    "    pass"
   ]
  },
  {
   "cell_type": "code",
   "execution_count": null,
   "id": "7a36bd63",
   "metadata": {},
   "outputs": [],
   "source": [
    "#%load correction/course/my_reduce.py"
   ]
  },
  {
   "cell_type": "code",
   "execution_count": null,
   "id": "0570726d",
   "metadata": {},
   "outputs": [],
   "source": [
    "import functools\n",
    "def sum_xy(x, y):\n",
    "    return x+y\n",
    "sum_list = my_reduce_list(l, sum_xy, None)\n",
    "sum_list"
   ]
  },
  {
   "cell_type": "code",
   "execution_count": null,
   "id": "22d69f9d",
   "metadata": {},
   "outputs": [],
   "source": [
    "import functools\n",
    "def sum_xy(x, y):\n",
    "    return x+y\n",
    "sum_list = my_reduce_list(l, sum_xy, None)\n",
    "sum_iterator = my_reduce_iterable(l, sum_xy, None)\n",
    "sum_functools = functools.reduce(sum_xy, l)\n",
    "print(sum_list, \"using my_reduce_list\")\n",
    "print(sum_iterator, \"using my_reduce_iterable\")\n",
    "print(sum_functools, \"using the reduce from functools\")\n",
    "print(sum(l), \" using the sum built-in\")"
   ]
  },
  {
   "cell_type": "markdown",
   "id": "382bf37f",
   "metadata": {},
   "source": [
    "### Exercice 5\n",
    "💪 Concatenate characters into a string.\n",
    "\n",
    "Using any reduce function previously used, your goal is to create the string \"cybersecurityairbus\" from the following list of characters."
   ]
  },
  {
   "cell_type": "code",
   "execution_count": null,
   "id": "93af0f93",
   "metadata": {},
   "outputs": [],
   "source": [
    "list_of_characters = [\"c\", \"y\", \"b\", \"e\", \"r\", \n",
    "                      \"s\", \"e\", \"c\", \"u\", \"r\", \"i\", \"t\", \"y\", \n",
    "                      \"a\", \"i\", \"r\", \"b\", \"u\", \"s\"]"
   ]
  },
  {
   "cell_type": "code",
   "execution_count": null,
   "id": "62197b05",
   "metadata": {},
   "outputs": [],
   "source": [
    "string = None \n",
    "print(string)"
   ]
  },
  {
   "cell_type": "code",
   "execution_count": null,
   "id": "8032b843",
   "metadata": {},
   "outputs": [],
   "source": [
    "# %load correction/course/concatenate_string.py"
   ]
  },
  {
   "cell_type": "markdown",
   "id": "dc4841fc",
   "metadata": {},
   "source": [
    "You have now all the basics to play with functionnal programming !"
   ]
  },
  {
   "cell_type": "markdown",
   "id": "dcaf4664",
   "metadata": {},
   "source": [
    "# Conclusion <a name=\"conclusion\"></a>"
   ]
  },
  {
   "cell_type": "markdown",
   "id": "59fe84af",
   "metadata": {},
   "source": [
    "You should remember few principles, that can be usefull in python : \n",
    "- manipulate function as any object\n",
    "- \"lazy\" function coding using lambda functions\n",
    "- recursion principles\n",
    "- higher order function : function as argument of other function\n",
    "- map, reduce and compose philosophy : map and reduce can replace ```for``` loops in some occasion, ```compose``` can replace a series of computations.\n",
    "\n",
    "However it is also important to remember that python is not the best functional programming language, notably because the recursion is not well handled compared to pure FP language like Haskell or Ocaml. Its usage should be justified and have some advantages over the other possible implementation (clarity, debugging, performance).\n",
    "\n",
    "To go further, you can train yourself by solving the [Hacking mystery](./Hacking%20mystery.ipynb) and send us your resulting notebook for review."
   ]
  }
 ],
 "metadata": {
  "kernelspec": {
   "display_name": "Python 3 (ipykernel)",
   "language": "python",
   "name": "python3"
  },
  "language_info": {
   "codemirror_mode": {
    "name": "ipython",
    "version": 3
   },
   "file_extension": ".py",
   "mimetype": "text/x-python",
   "name": "python",
   "nbconvert_exporter": "python",
   "pygments_lexer": "ipython3",
   "version": "3.8.13"
  }
 },
 "nbformat": 4,
 "nbformat_minor": 5
}
