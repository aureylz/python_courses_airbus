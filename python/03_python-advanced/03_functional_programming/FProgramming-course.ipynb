{
 "cells": [
  {
   "cell_type": "markdown",
   "metadata": {},
   "source": [
    "# Python functionnal programming course "
   ]
  },
  {
   "cell_type": "markdown",
   "metadata": {},
   "source": [
    "# Organisation of course \n",
    "\n",
    "Different concepts of functional programming will be presented. On each section, you'll be invited to write some functions. Most difficult functions to code will be annotated with  💪. You're free to ask for help 💡 !\n",
    "\n",
    "## **Index**\n",
    "\n",
    "- [Intro](#intro)\n",
    "- [Basics](#basics) \n",
    "    - [Manipulate function as any object](#1.1)\n",
    "    - [Lambda functions](#1.2)\n",
    "    - [Recursion](#1.3)\n",
    "- [Higher order function](#2)\n",
    "    - [Map/Reduce paradigm](#2.1)\n",
    "    - [Composing functions](#2.2)\n",
    "    - [Map/Reduce as a composed function](#2.3)\n",
    "- [Conclusion](#conclusion)"
   ]
  },
  {
   "cell_type": "markdown",
   "metadata": {},
   "source": [
    "# Intro <a name=\"intro\"></a>"
   ]
  },
  {
   "cell_type": "markdown",
   "metadata": {},
   "source": [
    "(https://docs.python.org/3/howto/functional.html)\n",
    "\n",
    "> Programming languages support decomposing problems in several different ways:\n",
    "\n",
    "> Most programming languages are <b>procedural</b>: programs are lists of instructions that tell the computer what to do with the program’s input. C, Pascal, and even Unix shells are procedural languages.\n",
    "\n",
    ">  In <b>declarative</b> languages, you write a specification that describes the problem to be solved, and the language implementation figures out how to perform the computation efficiently. SQL is the declarative language you’re most likely to be familiar with; a SQL query describes the data set you want to retrieve, and the SQL engine decides whether to scan tables or use indexes, which subclauses should be performed first, etc.\n",
    "\n",
    ">  <b>Object-oriented</b> programs manipulate collections of objects. Objects have internal state and support methods that query or modify this internal state in some way. Smalltalk and Java are object-oriented languages. C++ and Python are languages that support object-oriented programming, but don’t force the use of object-oriented features.\n",
    "\n",
    "> <b>Functional programming</b> decomposes a problem into a set of functions. Ideally, functions only take inputs and produce outputs, and don’t have any internal state that affects the output produced for a given input. Well-known functional languages include the ML family (Standard ML, OCaml, and other variants) and Haskell."
   ]
  },
  {
   "cell_type": "markdown",
   "metadata": {},
   "source": [
    "> <b>Python</b> is a multiparadigm programming language that allows to do procedural, object oriented or functional programming, possibly mixing all of them. "
   ]
  },
  {
   "cell_type": "markdown",
   "metadata": {},
   "source": [
    "# 1. Basics <a name=\"basics\"></a>\n",
    "\n",
    "## 1.1 Manipulate function as any object <a name=\"1.1\"></a>"
   ]
  },
  {
   "cell_type": "markdown",
   "metadata": {},
   "source": [
    ">  In Python, functions behave like any other object, such as an int or a list. That means that you can use functions as arguments to other functions, store functions as dictionary values, or return a function from another function. This leads to many powerful ways to use functions."
   ]
  },
  {
   "cell_type": "code",
   "execution_count": 36,
   "metadata": {},
   "outputs": [],
   "source": [
    "# 3 trivial functions\n",
    "def foo():\n",
    "    return\n",
    "def two():\n",
    "    return 2\n",
    "def multiply_by_three(x):\n",
    "    return 3*x"
   ]
  },
  {
   "cell_type": "code",
   "execution_count": 37,
   "metadata": {},
   "outputs": [
    {
     "name": "stdout",
     "output_type": "stream",
     "text": [
      "<function foo at 0x7faddb344790> <function two at 0x7faddb344550> <function multiply_by_three at 0x7faddb344040> \n",
      " None 2 3\n"
     ]
    }
   ],
   "source": [
    "# You can assign a function to a variable\n",
    "a = foo\n",
    "b = two\n",
    "c = multiply_by_three\n",
    "print(a, b, c, \"\\n\", \n",
    "      a(), b(), c(1))"
   ]
  },
  {
   "cell_type": "markdown",
   "metadata": {},
   "source": [
    "<b> Example </b>: the functions are stored as the keys of a dictionary, and their returned value as the values of this dictionary."
   ]
  },
  {
   "cell_type": "code",
   "execution_count": 3,
   "metadata": {},
   "outputs": [],
   "source": [
    "dictionary_function = {a: a(), b: b(), c: c()}"
   ]
  },
  {
   "cell_type": "code",
   "execution_count": 4,
   "metadata": {},
   "outputs": [
    {
     "name": "stdout",
     "output_type": "stream",
     "text": [
      "{<function foo at 0x7faddb276d30>: None, <function one at 0x7faddb290160>: 1, <function two at 0x7faddb2901f0>: 2}\n"
     ]
    }
   ],
   "source": [
    "print(dictionary_function)"
   ]
  },
  {
   "cell_type": "markdown",
   "metadata": {},
   "source": [
    "## 1.2 Lambda functions <a name=\"1.2\"></a>"
   ]
  },
  {
   "cell_type": "markdown",
   "metadata": {},
   "source": [
    "> In python, lambda function can be seen as anonymous function, that has no names. \n",
    "\n",
    "```python \n",
    "lambda arguments: expression\n",
    "```\n",
    "\n",
    "> In the example above, the expression is executed and the result is returned.\n"
   ]
  },
  {
   "cell_type": "markdown",
   "metadata": {},
   "source": [
    "<b> Example:</b> Lambda and standard function examples\n",
    "\n",
    "Multiply by 2 the argument x, and return the result"
   ]
  },
  {
   "cell_type": "code",
   "execution_count": 42,
   "metadata": {},
   "outputs": [
    {
     "name": "stdout",
     "output_type": "stream",
     "text": [
      "the lambda function as stored <function <lambda> at 0x7faddb344430>\n",
      "result for x=1 using the lambda function 2\n",
      "the multiply_by_2 function as stored <function multiply_by_2 at 0x7faddb367430>\n",
      "result for x=1 using the multiply_by_2 function 2\n"
     ]
    }
   ],
   "source": [
    "# Lambda function\n",
    "y_0 = (lambda x: 2*x)\n",
    "print('the lambda function as stored', y_0)\n",
    "print('result for x=1 using the lambda function', y_0(1))\n",
    "\n",
    "# Standard function\n",
    "def multiply_by_2(x):\n",
    "    return 2*x\n",
    "\n",
    "print('the multiply_by_2 function as stored', multiply_by_2)\n",
    "print('result for x=1 using the multiply_by_2 function', multiply_by_2(1))\n"
   ]
  },
  {
   "cell_type": "markdown",
   "metadata": {},
   "source": [
    "> Lambda functions can take any number of arguments."
   ]
  },
  {
   "cell_type": "markdown",
   "metadata": {},
   "source": [
    "<b> Example:</b> Multiply argument a with argument b and return the result:"
   ]
  },
  {
   "cell_type": "code",
   "execution_count": 41,
   "metadata": {},
   "outputs": [
    {
     "name": "stdout",
     "output_type": "stream",
     "text": [
      "30\n"
     ]
    }
   ],
   "source": [
    "x = lambda a, b : a * b\n",
    "print(x(5, 6))"
   ]
  },
  {
   "cell_type": "markdown",
   "metadata": {},
   "source": [
    "> In practice, lambda function are used in python usually in the call of higher order functions that we'll introduce later."
   ]
  },
  {
   "cell_type": "markdown",
   "metadata": {},
   "source": [
    "## 1.3. Recursion <a name=\"1.3\"></a>\n",
    "\n",
    "> Pure functional programming language usually avoid the use of <b>for</b> loops (when the feature actually exists ). Any ```for``` loop based code can be rewritten as recursion and vice versa. \n",
    "A big difference between recursion and iteration is the way that they end. While a loop executes the block of code, checking each time to see if it is at the end of the sequence, there is no such sequential end for recursive code. \n",
    "\n",
    "> A recursive function like the one presented below consists of two parts: the recursive call and the base case. Every recursive function should have at least one base case.  "
   ]
  },
  {
   "cell_type": "markdown",
   "metadata": {},
   "source": [
    "<b> Example:</b> The factorial function takes a positive number as argument and returns the factorial of this number. \n",
    "In the example below, we have reached the end of our necessary recursive calls when we get to the number 0."
   ]
  },
  {
   "cell_type": "code",
   "execution_count": 59,
   "metadata": {},
   "outputs": [],
   "source": [
    "def factorial(n):\n",
    "    \"\"\"This is a recurcive function which calls itself to find the factorial of a given number\"\"\"\n",
    "    if n == 0:\n",
    "        return 1\n",
    "    else:\n",
    "        return n * factorial(n - 1)"
   ]
  },
  {
   "cell_type": "code",
   "execution_count": 61,
   "metadata": {},
   "outputs": [
    {
     "data": {
      "text/plain": [
       "1"
      ]
     },
     "execution_count": 61,
     "metadata": {},
     "output_type": "execute_result"
    }
   ],
   "source": [
    "factorial(0)"
   ]
  },
  {
   "cell_type": "markdown",
   "metadata": {},
   "source": [
    "### Exercice 1 : Replace for loop by recursion.\n",
    "Write a recurvise version of a very basic function that is printing the element of a list in order. For help 💡 we provide a procedural version."
   ]
  },
  {
   "cell_type": "code",
   "execution_count": null,
   "metadata": {},
   "outputs": [],
   "source": [
    "from typing import List, Any"
   ]
  },
  {
   "cell_type": "code",
   "execution_count": null,
   "metadata": {},
   "outputs": [],
   "source": [
    "# Procedural way\n",
    "def print_list(list_of_something: List[Any]):\n",
    "    for item in list_of_something:\n",
    "        print(item)"
   ]
  },
  {
   "cell_type": "code",
   "execution_count": null,
   "metadata": {},
   "outputs": [],
   "source": [
    "print_list([1,2,3,4])"
   ]
  },
  {
   "cell_type": "code",
   "execution_count": null,
   "metadata": {},
   "outputs": [],
   "source": [
    "# Recurcive way \n",
    "def print_list_recursive(list_of_something: List[Any]):\n",
    "    # TOFILL\n",
    "    pass"
   ]
  },
  {
   "cell_type": "code",
   "execution_count": null,
   "metadata": {},
   "outputs": [],
   "source": [
    "#%load correction/course/print_list_recursive.py"
   ]
  },
  {
   "cell_type": "code",
   "execution_count": null,
   "metadata": {},
   "outputs": [],
   "source": [
    "print_list_recursive([1,2,3,4])"
   ]
  },
  {
   "cell_type": "markdown",
   "metadata": {},
   "source": [
    "# 2. Higher order function <a name=\"2\"></a>\n",
    "\n",
    "> Higher order function is a function that have as some of its argument other functions. This is very common in functionnal programming where you can compose function for example.\n",
    "Python includes some basics ```HOF``` that will be used directly in the rest of this notebook : \n",
    "```python \n",
    "max(), min(), sorted(), map(), filter(), functools.reduce()\n",
    "```\n",
    "\n",
    "Don't hesitate to look at the documentation of those function. by running the following cell."
   ]
  },
  {
   "cell_type": "code",
   "execution_count": null,
   "metadata": {},
   "outputs": [],
   "source": [
    "max?"
   ]
  },
  {
   "cell_type": "markdown",
   "metadata": {},
   "source": [
    "<b> Example:</b> Sort a dictionnary using a custom key and a lambda function.\n",
    "\n",
    "Here the built-in function ```sorted``` which is a <b>HOF</b> is used."
   ]
  },
  {
   "cell_type": "code",
   "execution_count": 54,
   "metadata": {},
   "outputs": [
    {
     "name": "stdout",
     "output_type": "stream",
     "text": [
      "[{'Name': 'Alan Turing', 'age': 25, 'salary': 10000}, {'Name': 'John Hopkins', 'age': 18, 'salary': 1000}, {'Name': 'Mikhail Tal', 'age': 40, 'salary': 15000}, {'Name': 'Sharon Lin', 'age': 30, 'salary': 8000}]\n",
      "\n",
      "[{'Name': 'John Hopkins', 'age': 18, 'salary': 1000}, {'Name': 'Alan Turing', 'age': 25, 'salary': 10000}, {'Name': 'Sharon Lin', 'age': 30, 'salary': 8000}, {'Name': 'Mikhail Tal', 'age': 40, 'salary': 15000}]\n",
      "\n",
      "[{'Name': 'Mikhail Tal', 'age': 40, 'salary': 15000}, {'Name': 'Alan Turing', 'age': 25, 'salary': 10000}, {'Name': 'Sharon Lin', 'age': 30, 'salary': 8000}, {'Name': 'John Hopkins', 'age': 18, 'salary': 1000}]\n",
      "\n"
     ]
    }
   ],
   "source": [
    "employees = [\n",
    "    {'Name': 'Alan Turing', 'age': 25, 'salary': 10000},\n",
    "    {'Name': 'Sharon Lin', 'age': 30, 'salary': 8000},\n",
    "    {'Name': 'John Hopkins', 'age': 18, 'salary': 1000},\n",
    "    {'Name': 'Mikhail Tal', 'age': 40, 'salary': 15000},\n",
    "]\n",
    "\n",
    "# sort by name (Ascending order)\n",
    "employees_by_name = sorted(employees, key=lambda x: x['Name'])\n",
    "print(employees_by_name, end='\\n\\n')\n",
    "\n",
    "# sort by Age (Ascending order)\n",
    "employees_by_age = sorted(employees,key=lambda x: x['age'])\n",
    "print(employees_by_age, end='\\n\\n')\n",
    "\n",
    "# sort by salary (Descending order)\n",
    "employees_by_salary = sorted(employees,key=lambda x: x['salary'], reverse=True)\n",
    "print(employees_by_salary, end='\\n\\n')"
   ]
  },
  {
   "cell_type": "markdown",
   "metadata": {},
   "source": [
    "### Exercise 2 : sort a dictionary of integers according to some criteria which is a function of the dictionary keys"
   ]
  },
  {
   "cell_type": "code",
   "execution_count": null,
   "metadata": {},
   "outputs": [],
   "source": [
    "import random\n",
    "list_items = [{'value': random.randint(0, 10000), \n",
    "               'weight' : random.randint(30, 50) , \n",
    "               'price' : random.randint(10, 25)} for i in range(20)] # Some random dictionary list     "
   ]
  },
  {
   "cell_type": "markdown",
   "metadata": {},
   "source": [
    "The problem which is presented here as a link with the the classical [knapsack problem](https://en.wikipedia.org/wiki/Knapsack_problem), where the goal is to fill your knapsack of given capacity with items that sums to the highest value. \n",
    "\n",
    "The goal of this exercice is to sort ```list_items``` according to the function $\\frac{value}{weight}$. Refer to the example with the ```employees``` dictionnary above to solve this problem. "
   ]
  },
  {
   "cell_type": "code",
   "execution_count": null,
   "metadata": {},
   "outputs": [],
   "source": [
    "sorted_list_items = None # TOFILL "
   ]
  },
  {
   "cell_type": "code",
   "execution_count": 56,
   "metadata": {},
   "outputs": [],
   "source": [
    "# %load correction/course/sort_items.py"
   ]
  },
  {
   "cell_type": "code",
   "execution_count": null,
   "metadata": {},
   "outputs": [],
   "source": [
    "for item in sorted_list_items:\n",
    "    print(\"value per unit of weight : \", item['value']/item['weight'])"
   ]
  },
  {
   "cell_type": "markdown",
   "metadata": {},
   "source": [
    "## 2.1 Map/Reduce paradigm <a name=\"2.1\"></a>\n"
   ]
  },
  {
   "cell_type": "markdown",
   "metadata": {},
   "source": [
    "### 2.1.1 Map function. <a name=\"2.1.1\"></a>\n",
    "\n",
    ">In theory, ```map``` is a HOF that has as input a list of some elements ```l``` and a function ```f``` to apply. \n",
    "In python, ```map``` is slightly different and take iterable a ```l``` and returns an <b>iterator</b>. In general, ```map``` idea is to parallelize the process of input to output but python is not natively doing it"
   ]
  },
  {
   "cell_type": "markdown",
   "metadata": {},
   "source": [
    "### Exercice 3\n",
    "Lets consider we have a list of integer ```l```, we want to compute a new list containing the double of the value contained in ```l```."
   ]
  },
  {
   "cell_type": "code",
   "execution_count": null,
   "metadata": {},
   "outputs": [],
   "source": [
    "import random\n",
    "l = [random.randint(0, 20) for i in range(40)] # Some random list of integer\n",
    "print(l)"
   ]
  },
  {
   "cell_type": "markdown",
   "metadata": {},
   "source": [
    "Here is a procedural version, where we apply a linear function on the list in a ```for``` loop."
   ]
  },
  {
   "cell_type": "code",
   "execution_count": null,
   "metadata": {},
   "outputs": [],
   "source": [
    "# Procedural way :\n",
    "l2 = []\n",
    "for elem in l:\n",
    "    l2.append(elem*2)\n",
    "print(l2)\n",
    "assert(all(x==y*2 for x,y in zip(l2, l)))"
   ]
  },
  {
   "cell_type": "markdown",
   "metadata": {},
   "source": [
    "We ask you to write down a ```my_map``` function that takes as input a list $l$ and a function $f$, that returns a new list where each element is equal to $f(x)$ where $x$ is the element of $l$. \n",
    "\n",
    "💪<b>[OPTIONAL]</b> For brave, you can also do an iterable version ```my_map_iterable```\n",
    "."
   ]
  },
  {
   "cell_type": "code",
   "execution_count": null,
   "metadata": {},
   "outputs": [],
   "source": [
    "from typing import List, Iterable\n",
    "# write a map function working with list, with an additionnal len_list argument to improve the computation time by recursion.\n",
    "def my_map(list_: List, len_list: int, function) -> List:\n",
    "    # TO FILL \n",
    "    pass\n",
    "\n",
    "\n",
    "# write a map function working on iterable, and returning an iterator. \n",
    "# 💪\n",
    "def my_map_iterable(iterable: Iterable, function) -> Iterable:\n",
    "    # TO FILL\n",
    "    pass"
   ]
  },
  {
   "cell_type": "code",
   "execution_count": null,
   "metadata": {},
   "outputs": [],
   "source": [
    "# %load correction/course/my_map.py"
   ]
  },
  {
   "cell_type": "code",
   "execution_count": null,
   "metadata": {},
   "outputs": [],
   "source": [
    "# Testing with the double function : \n",
    "def double(x):\n",
    "    return 2*x\n",
    "\n",
    "l2_list_map = my_map(l, len(l), double)\n",
    "assert(all(x==double(y) for x,y in zip(l2_list_map, l)))\n",
    "l2_iter_map = list(my_map_iterable(l, double))\n",
    "assert(all(x==double(y) for x,y in zip(l2_iter_map, l)))\n",
    "l2_python_map = list(map(double, l))\n",
    "assert(all(x==double(y) for x,y in zip(l2_python_map, l)))"
   ]
  },
  {
   "cell_type": "markdown",
   "metadata": {},
   "source": [
    "### 2.1.2 Reduce <a name=\"2.1.2\"></a>\n",
    "\n",
    ">```functools.reduce(function, iterable[, initializer]```\n",
    "\n",
    ">In theory ```reduce``` executes a reducer function for array element.\n",
    "Apply function of two arguments cumulatively to the items of iterable, from left to right, so as to reduce the iterable to a single value. For example, reduce(lambda x, y: x+y, [1, 2, 3, 4, 5]) calculates ((((1+2)+3)+4)+5). The left argument, x, is the accumulated value and the right argument, y, is the update value from the iterable.\n"
   ]
  },
  {
   "cell_type": "markdown",
   "metadata": {},
   "source": [
    "### Exercice 4 💪"
   ]
  },
  {
   "cell_type": "markdown",
   "metadata": {},
   "source": [
    "Let's test the reduce function where the reduction function is the addition. Therefore, we can compute the sum of the list for example. "
   ]
  },
  {
   "cell_type": "code",
   "execution_count": null,
   "metadata": {},
   "outputs": [],
   "source": [
    "from typing import List, Iterable\n",
    "# write a reduce function working with list by recursion.\n",
    "# 💪\n",
    "def my_reduce_list(list_: List, function, initializer):\n",
    "    pass"
   ]
  },
  {
   "cell_type": "code",
   "execution_count": null,
   "metadata": {},
   "outputs": [],
   "source": [
    "#%load correction/course/my_reduce.py"
   ]
  },
  {
   "cell_type": "code",
   "execution_count": null,
   "metadata": {},
   "outputs": [],
   "source": [
    "import functools\n",
    "def sum_xy(x, y):\n",
    "    return x+y\n",
    "sum_list = my_reduce_list(l, sum_xy, None)\n",
    "sum_list"
   ]
  },
  {
   "cell_type": "code",
   "execution_count": null,
   "metadata": {},
   "outputs": [],
   "source": [
    "import functools\n",
    "def sum_xy(x, y):\n",
    "    return x+y\n",
    "sum_list = my_reduce_list(l, sum_xy, None)\n",
    "sum_iterator = my_reduce_iterable(l, sum_xy, None)\n",
    "sum_functools = functools.reduce(sum_xy, l)\n",
    "print(sum_list, \"using my_reduce_list\")\n",
    "print(sum_iterator, \"using my_reduce_iterable\")\n",
    "print(sum_functools, \"using the reduce from functools\")\n",
    "print(sum(l), \" using the sum built-in\")"
   ]
  },
  {
   "cell_type": "markdown",
   "metadata": {},
   "source": [
    "### Exercice 5\n",
    "💪 Concatenate characters into a string.\n",
    "\n",
    "Using any reduce function previously used, your goal is to create the string \"cybersecurityairbus\" from the following list of characters."
   ]
  },
  {
   "cell_type": "code",
   "execution_count": null,
   "metadata": {},
   "outputs": [],
   "source": [
    "list_of_characters = [\"c\", \"y\", \"b\", \"e\", \"r\", \n",
    "                      \"s\", \"e\", \"c\", \"u\", \"r\", \"i\", \"t\", \"y\", \n",
    "                      \"a\", \"i\", \"r\", \"b\", \"u\", \"s\"]"
   ]
  },
  {
   "cell_type": "code",
   "execution_count": null,
   "metadata": {},
   "outputs": [],
   "source": [
    "string = None \n",
    "print(string)"
   ]
  },
  {
   "cell_type": "code",
   "execution_count": null,
   "metadata": {},
   "outputs": [],
   "source": [
    "# %load correction/course/concatenate_string.py"
   ]
  },
  {
   "cell_type": "markdown",
   "metadata": {},
   "source": [
    "## 2.2 Composing functions  <a name=\"2.2\"></a>"
   ]
  },
  {
   "cell_type": "markdown",
   "metadata": {},
   "source": [
    "Let's consider two function $f:X->Y$ and $g:Z->X$, then $f \\circ g: Z->Y$ is the composed function.\n",
    "If you have a list of operator to apply on input data. It can be useful to : apply the ```map``` with a compose function : \n",
    "indeed $map(f)\\circ map(g) = map(f \\circ g)$. This simple trick can speed up computation time."
   ]
  },
  {
   "cell_type": "markdown",
   "metadata": {},
   "source": [
    "### Exercice 6 \n",
    "Write the compose function \n",
    "\n",
    "```compose``` should take two function and returns a new <b>function</b> that is the composed one."
   ]
  },
  {
   "cell_type": "code",
   "execution_count": null,
   "metadata": {},
   "outputs": [],
   "source": [
    "def compose(f, g):\n",
    "    # TO FILL\n",
    "    pass"
   ]
  },
  {
   "cell_type": "code",
   "execution_count": null,
   "metadata": {},
   "outputs": [],
   "source": [
    "# %load correction/course/compose.py\n",
    "def compose(f, g):\n",
    "    return lambda x: f(g(x))"
   ]
  },
  {
   "cell_type": "markdown",
   "metadata": {},
   "source": [
    "Test the compose function by building the composed functions (2.x) with (y^2) which gives 2.(x)^2"
   ]
  },
  {
   "cell_type": "code",
   "execution_count": null,
   "metadata": {},
   "outputs": [],
   "source": [
    "double_square = compose(f=lambda x: 2*x, g=lambda y: y**2) "
   ]
  },
  {
   "cell_type": "code",
   "execution_count": null,
   "metadata": {},
   "outputs": [],
   "source": [
    "l = [1,2,3,4]\n",
    "l3 = list(map(double_square, l))\n",
    "l3"
   ]
  },
  {
   "cell_type": "markdown",
   "metadata": {},
   "source": [
    "### Exercice 7\n",
    "\n",
    "Compose function of a list of function \n",
    "\n",
    "We can generalize the previous compose function with a list of function as argument.\n",
    "\n",
    "Hint : you can reuse the compose function and ```reduce``` higher order function."
   ]
  },
  {
   "cell_type": "code",
   "execution_count": null,
   "metadata": {},
   "outputs": [],
   "source": [
    "from functools import reduce\n",
    "def compose_list(*func):\n",
    "    # TOFILL\n",
    "    pas\n"
   ]
  },
  {
   "cell_type": "code",
   "execution_count": null,
   "metadata": {},
   "outputs": [],
   "source": [
    "# %load correction/course/compose_list.py"
   ]
  },
  {
   "cell_type": "markdown",
   "metadata": {},
   "source": [
    "#### Test using the compose function of the exercice 6"
   ]
  },
  {
   "cell_type": "code",
   "execution_count": null,
   "metadata": {},
   "outputs": [],
   "source": [
    "l3 = list(map(compose(double_square, double) , l))\n",
    "l3"
   ]
  },
  {
   "cell_type": "markdown",
   "metadata": {},
   "source": [
    "#### Test using the compose_list function of the exercice 7"
   ]
  },
  {
   "cell_type": "code",
   "execution_count": null,
   "metadata": {},
   "outputs": [],
   "source": [
    "pipeline_function = compose_list(*[double_square, double])"
   ]
  },
  {
   "cell_type": "code",
   "execution_count": null,
   "metadata": {},
   "outputs": [],
   "source": [
    "l4 = list(map(pipeline_function, l))"
   ]
  },
  {
   "cell_type": "code",
   "execution_count": null,
   "metadata": {},
   "outputs": [],
   "source": [
    "print(l, \"\\n\", l4)"
   ]
  },
  {
   "cell_type": "markdown",
   "metadata": {},
   "source": [
    "## 2.3 Map/Reduce as a composed function <a name=\"2.3\"></a>"
   ]
  },
  {
   "cell_type": "code",
   "execution_count": null,
   "metadata": {},
   "outputs": [],
   "source": [
    "# Look at signature of reduce : \n",
    "reduce??"
   ]
  },
  {
   "cell_type": "code",
   "execution_count": null,
   "metadata": {},
   "outputs": [],
   "source": [
    "# Look at signature of map : \n",
    "map??"
   ]
  },
  {
   "cell_type": "markdown",
   "metadata": {},
   "source": [
    "- 💪 Code a function ```map_reduce```\n",
    " returning another function that represents $reduce \\circ map$. the reduce used in function will be $f_{reduce}$ and the one used in map, $f_{map}$."
   ]
  },
  {
   "cell_type": "code",
   "execution_count": null,
   "metadata": {},
   "outputs": [],
   "source": [
    "def map_reduce(f_map, f_reduce):\n",
    "    # TOFILL\n",
    "    pass"
   ]
  },
  {
   "cell_type": "code",
   "execution_count": null,
   "metadata": {},
   "outputs": [],
   "source": [
    "# %load correction/course/compose_reduce_map.py"
   ]
  },
  {
   "cell_type": "markdown",
   "metadata": {},
   "source": [
    "Test : Compute the sum of the values of the list $l_2=2*l$ "
   ]
  },
  {
   "cell_type": "code",
   "execution_count": null,
   "metadata": {},
   "outputs": [],
   "source": [
    "f = map_reduce(f_map=double, f_reduce=sum_xy)\n",
    "sum_of_double = f(l)\n",
    "print(\"pure FProgramming : \", sum_of_double)\n",
    "print(\"simple :-)\", sum([x*2 for x in l]))"
   ]
  },
  {
   "cell_type": "markdown",
   "metadata": {},
   "source": [
    "You have now all the basics to play with functionnal programming !"
   ]
  },
  {
   "cell_type": "markdown",
   "metadata": {},
   "source": [
    "# Conclusion <a name=\"conclusion\"></a>"
   ]
  },
  {
   "cell_type": "markdown",
   "metadata": {},
   "source": [
    "You should remember few principles, that can be usefull in python : \n",
    "- manipulate function as any object\n",
    "- \"lazy\" function coding using lambda functions\n",
    "- recursion principles\n",
    "- higher order function : function as argument of other function\n",
    "- map, reduce and compose philosophy : map and reduce can replace ```for``` loops in some occasion, ```compose``` can replace a series of computations.\n",
    "\n",
    "However it is also important to remember that python is not the best functional programming language, notably because the recursion is not well handled compared to pure FP language like Haskell or Ocaml. Its usage should be justified and have some advantages over the other possible implementation (clarity, debugging, performance).\n",
    "\n",
    "To go further, you can train yourself by solving the [Hacking mystery](./Hacking%20mystery.ipynb) and send us your resulting notebook for review."
   ]
  }
 ],
 "metadata": {
  "kernelspec": {
   "display_name": "Python 3",
   "language": "python",
   "name": "python3"
  },
  "language_info": {
   "codemirror_mode": {
    "name": "ipython",
    "version": 3
   },
   "file_extension": ".py",
   "mimetype": "text/x-python",
   "name": "python",
   "nbconvert_exporter": "python",
   "pygments_lexer": "ipython3",
   "version": "3.8.5"
  }
 },
 "nbformat": 4,
 "nbformat_minor": 5
}
