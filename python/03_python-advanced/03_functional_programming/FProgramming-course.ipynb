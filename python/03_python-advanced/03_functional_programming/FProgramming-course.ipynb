{
 "cells": [
  {
   "cell_type": "markdown",
   "id": "60367b7b",
   "metadata": {},
   "source": [
    "# Python functionnal programming course "
   ]
  },
  {
   "cell_type": "markdown",
   "id": "e084154e",
   "metadata": {},
   "source": [
    "# Organisation of course \n",
    "\n",
    "Different concepts of functional programming will be presented. On each section, you'll be invited to write some functions. Most difficult functions to code will be annotated with  💪. You're free to ask for help 💡 !\n",
    "\n",
    "## **Index**\n",
    "\n",
    "- [Intro](#intro)\n",
    "- [Basics](#basics) \n",
    "    - [Manipulate function as any object](#1.1)\n",
    "    - [Lambda functions](#1.2)\n",
    "    - [Recursion](#1.3)\n",
    "- [Higher order function](#2)\n",
    "    - [Sorted](#2.1)\n",
    "    - [Filter](#2.2)\n",
    "    - [Map](#2.3)\n",
    "    - [Reduce](#2.4)\n",
    "- [Conclusion](#conclusion)"
   ]
  },
  {
   "cell_type": "markdown",
   "id": "68a79cc5",
   "metadata": {},
   "source": [
    "# Intro <a name=\"intro\"></a>"
   ]
  },
  {
   "cell_type": "markdown",
   "id": "b8c3472e",
   "metadata": {},
   "source": [
    "(https://docs.python.org/3/howto/functional.html)\n",
    "\n",
    "> Programming languages support decomposing problems in several different ways:\n",
    "\n",
    "> Most programming languages are <b>procedural</b>: programs are lists of instructions that tell the computer what to do with the program’s input. C, Pascal, and even Unix shells are procedural languages.\n",
    "\n",
    ">  In <b>declarative</b> languages, you write a specification that describes the problem to be solved, and the language implementation figures out how to perform the computation efficiently. SQL is the declarative language you’re most likely to be familiar with; a SQL query describes the data set you want to retrieve, and the SQL engine decides whether to scan tables or use indexes, which subclauses should be performed first, etc.\n",
    "\n",
    ">  <b>Object-oriented</b> programs manipulate collections of objects. Objects have internal state and support methods that query or modify this internal state in some way. Smalltalk and Java are object-oriented languages. C++ and Python are languages that support object-oriented programming, but don’t force the use of object-oriented features.\n",
    "\n",
    "> <b>Functional programming</b> decomposes a problem into a set of functions. Ideally, functions only take inputs and produce outputs, and don’t have any internal state that affects the output produced for a given input. Well-known functional languages include the ML family (Standard ML, OCaml, and other variants) and Haskell."
   ]
  },
  {
   "cell_type": "markdown",
   "id": "d7b96041",
   "metadata": {},
   "source": [
    "> <b>Python</b> is a multiparadigm programming language that allows to do procedural, object oriented or functional programming, possibly mixing all of them. "
   ]
  },
  {
   "cell_type": "markdown",
   "id": "d07054c5",
   "metadata": {},
   "source": [
    "# 1. Basics <a name=\"basics\"></a>\n",
    "\n",
    "## 1.1 Manipulate function as any object <a name=\"1.1\"></a>"
   ]
  },
  {
   "cell_type": "markdown",
   "id": "21f3b605",
   "metadata": {},
   "source": [
    ">  In Python, functions behave like any other object, such as an `int` or a `list`. That means that you can use functions as arguments to other functions, store functions as dictionary values, or return a function from another function. This leads to many powerful ways to use functions."
   ]
  },
  {
   "cell_type": "code",
   "execution_count": null,
   "id": "c032a511",
   "metadata": {},
   "outputs": [],
   "source": [
    "# 3 trivial functions\n",
    "def foo():\n",
    "    return\n",
    "def two():\n",
    "    return 2\n",
    "def multiply_by_3(x):\n",
    "    return 3*x"
   ]
  },
  {
   "cell_type": "code",
   "execution_count": null,
   "id": "8a93f424",
   "metadata": {},
   "outputs": [],
   "source": [
    "# You can assign a function to a variable\n",
    "a = foo\n",
    "b = two\n",
    "c = multiply_by_3\n",
    "print(a, b, c, \"\\n\", \n",
    "      a(), b(), c(1))"
   ]
  },
  {
   "cell_type": "markdown",
   "id": "9ef3fd16",
   "metadata": {},
   "source": [
    "<b> Example </b>: the functions are stored as the keys of a dictionary, and their returned value as the values of this dictionary."
   ]
  },
  {
   "cell_type": "code",
   "execution_count": null,
   "id": "f5f9431d",
   "metadata": {},
   "outputs": [],
   "source": [
    "dictionary_function = {a: a(), b: b(), c: c(1)}"
   ]
  },
  {
   "cell_type": "code",
   "execution_count": null,
   "id": "d3da59a1",
   "metadata": {},
   "outputs": [],
   "source": [
    "print(dictionary_function)"
   ]
  },
  {
   "cell_type": "markdown",
   "id": "e5b447f5",
   "metadata": {},
   "source": [
    "## 1.2 Lambda functions <a name=\"1.2\"></a>"
   ]
  },
  {
   "cell_type": "markdown",
   "id": "ba90dffe",
   "metadata": {},
   "source": [
    "> In python, `lambda` function can be seen as anonymous function, that has no name. \n",
    "\n",
    "```python \n",
    "lambda arguments: expression\n",
    "```\n",
    ">  A lambda function is defined with : \n",
    ">- The keyword: ```lambda```\n",
    ">- bound variables: ```arguments```\n",
    ">- A body: ```expressions```\n",
    "\n",
    "> In the example above, the expression is executed and the result is returned.\n"
   ]
  },
  {
   "cell_type": "markdown",
   "id": "aa40dac8",
   "metadata": {},
   "source": [
    "<b> Example:</b> Lambda and standard function examples\n",
    "\n",
    "Multiply by 2 the argument x, and return the result"
   ]
  },
  {
   "cell_type": "code",
   "execution_count": null,
   "id": "db34cb4f",
   "metadata": {},
   "outputs": [],
   "source": [
    "# Lambda function\n",
    "y_0 = (lambda x: 2*x)\n",
    "print('the lambda function as stored', y_0)\n",
    "print('result for x=1 using the lambda function', y_0(1))\n",
    "\n",
    "# Standard function\n",
    "def multiply_by_2(x):\n",
    "    return 2*x\n",
    "\n",
    "print('the multiply_by_2 function as stored', multiply_by_2)\n",
    "print('result for x=1 using the multiply_by_2 function', multiply_by_2(1))\n"
   ]
  },
  {
   "cell_type": "markdown",
   "id": "9cd9d068",
   "metadata": {},
   "source": [
    "> Lambda functions can take any number of arguments."
   ]
  },
  {
   "cell_type": "markdown",
   "id": "78bfdded",
   "metadata": {},
   "source": [
    "<b> Example:</b> Multiply argument a with argument b and return the result:"
   ]
  },
  {
   "cell_type": "code",
   "execution_count": null,
   "id": "354f0d68",
   "metadata": {},
   "outputs": [],
   "source": [
    "x = lambda a, b : a * b\n",
    "print(x(5, 6))"
   ]
  },
  {
   "cell_type": "markdown",
   "id": "144a93af",
   "metadata": {},
   "source": [
    "> In practice, lambda function are used in python usually in the call of higher order functions that we'll introduce later."
   ]
  },
  {
   "cell_type": "markdown",
   "id": "559f1aa9",
   "metadata": {},
   "source": [
    "## 1.3. Recursion <a name=\"1.3\"></a>\n",
    "\n",
    "> Pure functional programming language usually avoid the use of <b>for</b> loops (when the feature actually exists ). Any ```for``` loop based code can be rewritten as recursion and vice versa. \n",
    "A big difference between recursion and iteration is the way that they end. While a loop executes the block of code, checking each time to see if it is at the end of the sequence, there is no such sequential end for recursive code. \n",
    "\n",
    "> A recursive function like the one presented below consists of two parts: the recursive call and the base case. Every recursive function should have at least one base case.  "
   ]
  },
  {
   "cell_type": "markdown",
   "id": "9adab082",
   "metadata": {},
   "source": [
    "<b> Example:</b> The factorial function takes a positive number as argument and returns the factorial of this number. \n",
    "\n",
    "Mathematically, the factorial is defined by $0!=1$ and\n",
    "$\\forall n>0,  n! = 1*2*...*n$\n",
    "\n",
    "\n",
    "In the example below, we have reached the end of our necessary recursive calls when we get to the number 0."
   ]
  },
  {
   "cell_type": "code",
   "execution_count": null,
   "id": "7aaa79d5",
   "metadata": {},
   "outputs": [],
   "source": [
    "def factorial(n):\n",
    "    \"\"\"This is a recursive function which calls itself to find the factorial of a given number\"\"\"\n",
    "    if n == 0:\n",
    "        return 1\n",
    "    else:\n",
    "        return n * factorial(n - 1)"
   ]
  },
  {
   "cell_type": "code",
   "execution_count": null,
   "id": "e25b3a52",
   "metadata": {},
   "outputs": [],
   "source": [
    "factorial(0)"
   ]
  },
  {
   "cell_type": "markdown",
   "id": "86425f7b",
   "metadata": {},
   "source": [
    "### Exercise 1: Compute a mathematical sum using recursion\n",
    "\n",
    "Write a Python program to calculate the sum of the positive integers defined by : $n+(n-2)+(n-4)+...(n-2k)+..+M$ where $M\\geq0$\n",
    "\n",
    "<b>Example: $f(6)=6+4+2+0=12$, $f(7)=7+5+3+1=16$</b>"
   ]
  },
  {
   "cell_type": "code",
   "execution_count": null,
   "id": "99ccff5c",
   "metadata": {},
   "outputs": [],
   "source": [
    "def compute_sum(n):\n",
    "    # TO FILL\n",
    "    return"
   ]
  },
  {
   "cell_type": "code",
   "execution_count": null,
   "id": "9e1be80f",
   "metadata": {},
   "outputs": [],
   "source": [
    "# %load correction/course/compute_sum.py    "
   ]
  },
  {
   "cell_type": "code",
   "execution_count": null,
   "id": "08a8bb53",
   "metadata": {},
   "outputs": [],
   "source": [
    "# Testing\n",
    "compute_sum(6)\n",
    "for k in range(10):\n",
    "    print(k, compute_sum(k))"
   ]
  },
  {
   "cell_type": "markdown",
   "id": "45829a59",
   "metadata": {},
   "source": [
    "# 2. Higher order function <a name=\"2\"></a>\n",
    "\n",
    "> Higher order function <b>HOF</b> is a function that have as some of its argument other functions. This is very common in functionnal programming where you can compose function for example.\n",
    "Python includes some basics ```HOF``` that will be used directly in the rest of this notebook : \n",
    "```python \n",
    "max(), min(), sorted(), map(), filter(), functools.reduce()\n",
    "```\n",
    "\n",
    "Don't hesitate to look at the documentation of those function. by running the following cell. In the following of the notebook we'll learn how these functions can be used."
   ]
  },
  {
   "cell_type": "code",
   "execution_count": null,
   "id": "ad306955",
   "metadata": {},
   "outputs": [],
   "source": [
    "max?"
   ]
  },
  {
   "cell_type": "markdown",
   "id": "82cb532e",
   "metadata": {},
   "source": [
    "## 2.1. Sorted <a name=\"2.1\"></a>"
   ]
  },
  {
   "cell_type": "markdown",
   "id": "fca065d8",
   "metadata": {},
   "source": [
    "The built-in function ```sorted``` which is a <b>HOF</b> is used.\n",
    "The ```sorted```  function returns a sorted list of the specified iterable object."
   ]
  },
  {
   "cell_type": "code",
   "execution_count": null,
   "id": "f4d953e5",
   "metadata": {},
   "outputs": [],
   "source": [
    "sorted?"
   ]
  },
  {
   "cell_type": "markdown",
   "id": "e0263a92",
   "metadata": {},
   "source": [
    "<b> Example:</b> Sort a dictionnary using a custom key and a lambda function."
   ]
  },
  {
   "cell_type": "code",
   "execution_count": null,
   "id": "653b2108",
   "metadata": {},
   "outputs": [],
   "source": [
    "employees = [\n",
    "    {'Name': 'Alan Turing', 'age': 25, 'salary': 10000},\n",
    "    {'Name': 'Sharon Lin', 'age': 30, 'salary': 8000},\n",
    "    {'Name': 'John Hopkins', 'age': 18, 'salary': 1000},\n",
    "    {'Name': 'Mikhail Tal', 'age': 40, 'salary': 15000},\n",
    "]\n",
    "\n",
    "# sort by name (Ascending order)\n",
    "employees_by_name = sorted(employees, key=lambda x: x['Name'])\n",
    "print(employees_by_name, end='\\n\\n')\n",
    "\n",
    "# sort by Age (Ascending order)\n",
    "employees_by_age = sorted(employees,key=lambda x: x['age'])\n",
    "print(employees_by_age, end='\\n\\n')\n",
    "\n",
    "# sort by salary (Descending order)\n",
    "employees_by_salary = sorted(employees,key=lambda x: x['salary'], reverse=True)\n",
    "print(employees_by_salary, end='\\n\\n')"
   ]
  },
  {
   "cell_type": "markdown",
   "id": "262f9ff1",
   "metadata": {},
   "source": [
    "### Exercise 2: Sort items by a custom criteria"
   ]
  },
  {
   "cell_type": "markdown",
   "id": "4a9c5be9",
   "metadata": {},
   "source": [
    "The problem which is presented here as a link with the the classical [knapsack problem](https://en.wikipedia.org/wiki/Knapsack_problem), where the goal is to fill your knapsack of given capacity with items that sums to the highest value. \n",
    "\n",
    "The goal of this exercice is to sort in descending order ```list_items``` according to the function $\\frac{value)}{weight)}$. Refer to the example with the ```employees``` dictionnary above to solve this problem. "
   ]
  },
  {
   "cell_type": "code",
   "execution_count": null,
   "id": "b8781c97",
   "metadata": {},
   "outputs": [],
   "source": [
    "import random\n",
    "list_items = [{'value': random.randint(0, 10000), \n",
    "               'weight' : random.randint(30, 50) , \n",
    "               'price' : random.randint(10, 25)} for i in range(20)] # Some random dictionary list     "
   ]
  },
  {
   "cell_type": "code",
   "execution_count": null,
   "id": "a383b68c",
   "metadata": {},
   "outputs": [],
   "source": [
    "sorted_list_items = None # TOFILL "
   ]
  },
  {
   "cell_type": "code",
   "execution_count": null,
   "id": "f5a30064",
   "metadata": {},
   "outputs": [],
   "source": [
    "# %load correction/course/sort_items.py"
   ]
  },
  {
   "cell_type": "code",
   "execution_count": null,
   "id": "3263d0b5",
   "metadata": {},
   "outputs": [],
   "source": [
    "for item in sorted_list_items:\n",
    "    print(\"value per unit of weight : \", item['value']/item['weight'])"
   ]
  },
  {
   "cell_type": "markdown",
   "id": "869b705a",
   "metadata": {},
   "source": [
    "## 2.2 Filter  <a name=\"2.2\"></a>\n",
    "> ```filter``` is a  <b>HOF</b> taking as input an iterable of elements and a filtering function ```f```, returning an iterator of elements ```x``` such that ```f(x)==True```"
   ]
  },
  {
   "cell_type": "code",
   "execution_count": null,
   "id": "08518d68",
   "metadata": {},
   "outputs": [],
   "source": [
    "filter?"
   ]
  },
  {
   "cell_type": "markdown",
   "id": "d01676d4",
   "metadata": {},
   "source": [
    "![alt text](images/filter1.png)"
   ]
  },
  {
   "cell_type": "markdown",
   "id": "093da8a3",
   "metadata": {},
   "source": [
    "![alt text](images/filter2.png)"
   ]
  },
  {
   "cell_type": "markdown",
   "id": "8f29cf58",
   "metadata": {},
   "source": [
    "<b> Example:</b> Delete all the stritly negative elements of a list."
   ]
  },
  {
   "cell_type": "code",
   "execution_count": null,
   "id": "706174ab",
   "metadata": {},
   "outputs": [],
   "source": [
    "list_positive = filter(lambda x: x>0, [-1,2,-3,4])\n",
    "list_positive = list(list_positive)\n",
    "list_positive"
   ]
  },
  {
   "cell_type": "markdown",
   "id": "ee53dc03",
   "metadata": {},
   "source": [
    "### Exercise 3: filter a list of string"
   ]
  },
  {
   "cell_type": "markdown",
   "id": "ca28b9b1",
   "metadata": {},
   "source": [
    "The goal of this exercise is to keep only the vowels on this list of letters ['t', 'e', 'm', 'c', 'i', 'd', 'z', 'p', 'o']"
   ]
  },
  {
   "cell_type": "code",
   "execution_count": null,
   "id": "7b4618c3",
   "metadata": {},
   "outputs": [],
   "source": [
    "# %load correction/course/check_vowels.py"
   ]
  },
  {
   "cell_type": "markdown",
   "id": "a7c72964",
   "metadata": {},
   "source": [
    "## 2.3 Map <a name=\"2.3\"></a>\n",
    "\n",
    ">In theory, ```map``` is a HOF that has as input a list of some elements ```l``` and a function ```f``` to apply. \n",
    "In python, ```map``` is slightly different and take iterable a ```l``` and returns an <b>iterator</b>. In general, ```map``` idea is to parallelize the process of input to output."
   ]
  },
  {
   "cell_type": "code",
   "execution_count": null,
   "id": "65e0f064",
   "metadata": {},
   "outputs": [],
   "source": [
    "map?"
   ]
  },
  {
   "cell_type": "markdown",
   "id": "4169772a",
   "metadata": {},
   "source": [
    "The map method allows you to apply a specific operation or a function to each element in a sequence. You can easily multiply all the numbers in the list by 2. Instead of writing a for loop, map method can be used to collect the required results."
   ]
  },
  {
   "cell_type": "markdown",
   "id": "edc85f11",
   "metadata": {},
   "source": [
    "![alt text](images/map1.png)\n"
   ]
  },
  {
   "cell_type": "markdown",
   "id": "d47a901a",
   "metadata": {},
   "source": [
    "![alt text](images/map2.png \"Title\")"
   ]
  },
  {
   "cell_type": "markdown",
   "id": "ea890fd3",
   "metadata": {},
   "source": [
    "<b> Example:</b> Multiply by 2 each element of a ```list``` by itself.  "
   ]
  },
  {
   "cell_type": "code",
   "execution_count": null,
   "id": "20fe22b3",
   "metadata": {},
   "outputs": [],
   "source": [
    "l = [1, 2, 3, 4] \n",
    "# map takes a function and apply to each element on the list \n",
    "multiplied_list = list(map(multiply_by_2, l)) \n",
    "multiplied_list"
   ]
  },
  {
   "cell_type": "markdown",
   "id": "6612f436",
   "metadata": {},
   "source": [
    "### Exercise 4: Add lists\n",
    "Write a function to sum element by element three given lists.  (list1, list2 and list3 in the next cell)\n"
   ]
  },
  {
   "cell_type": "code",
   "execution_count": null,
   "id": "238d6a98",
   "metadata": {},
   "outputs": [],
   "source": [
    "list1 = [1,2,3]\n",
    "list2 = [2,6,7]\n",
    "list3 = [8,2,1]"
   ]
  },
  {
   "cell_type": "code",
   "execution_count": null,
   "id": "6e56606b",
   "metadata": {},
   "outputs": [],
   "source": [
    "# %load correction/course/add_list.py"
   ]
  },
  {
   "cell_type": "code",
   "execution_count": null,
   "id": "88614b37",
   "metadata": {},
   "outputs": [],
   "source": [
    "print(list(list_added))"
   ]
  },
  {
   "cell_type": "markdown",
   "id": "60d3706d",
   "metadata": {},
   "source": [
    "### Exercise 5: Coding a simplified map function\n"
   ]
  },
  {
   "cell_type": "markdown",
   "id": "1c100c76",
   "metadata": {},
   "source": [
    "💪 The goal of this exercise is to write down a ```my_map``` function that takes as input a list $l$ and a function $f$, that returns a new list where each element is equal to $f(x)$ where $x$ is the element of $l$. 💡 Use recursion !"
   ]
  },
  {
   "cell_type": "code",
   "execution_count": null,
   "id": "89c0695b",
   "metadata": {},
   "outputs": [],
   "source": [
    "from typing import List, Iterable\n",
    "# write a map function working with list\n",
    "def my_map(list_: List, function) -> List:\n",
    "    # TO FILL \n",
    "    pass"
   ]
  },
  {
   "cell_type": "code",
   "execution_count": null,
   "id": "43fcd4e4",
   "metadata": {},
   "outputs": [],
   "source": [
    "#%load correction/course/my_map.py"
   ]
  },
  {
   "cell_type": "markdown",
   "id": "c78f3c9f",
   "metadata": {},
   "source": [
    "### Testing the squaring a list using a procedural version, my_map function and map function"
   ]
  },
  {
   "cell_type": "markdown",
   "id": "d4797b3f",
   "metadata": {},
   "source": [
    "Lets consider we have a list of integer ```l```, we want to compute a new list containing the square value contained in ```l```."
   ]
  },
  {
   "cell_type": "code",
   "execution_count": null,
   "id": "3b6248b7",
   "metadata": {},
   "outputs": [],
   "source": [
    "import random\n",
    "l = [random.randint(0, 20) for i in range(40)] # Some random list of integer\n",
    "print(l)"
   ]
  },
  {
   "cell_type": "markdown",
   "id": "3e373abf",
   "metadata": {},
   "source": [
    "Testing a <b>Procedural version</b>, where we fill a new list containing the square value of the original item, using a for loop."
   ]
  },
  {
   "cell_type": "code",
   "execution_count": null,
   "id": "0cc16c07",
   "metadata": {},
   "outputs": [],
   "source": [
    "# Procedural way :\n",
    "l2 = []\n",
    "for elem in l:\n",
    "    l2.append(elem^2)\n",
    "\n",
    "\n",
    "for i in range(len(l)):\n",
    "    assert(l2[i]==l[i]^2)"
   ]
  },
  {
   "cell_type": "markdown",
   "id": "cbd6ae39",
   "metadata": {},
   "source": [
    "Testing <b>my_map</b> and <b>map</b> version"
   ]
  },
  {
   "cell_type": "code",
   "execution_count": null,
   "id": "d7d0f102",
   "metadata": {},
   "outputs": [],
   "source": [
    "def square(x):\n",
    "    return x**2\n",
    "\n",
    "l2_list_map = my_map(l, square)\n",
    "\n",
    "assert(all(x==square(y) for x,y in zip(l2_list_map, l)))\n",
    "\n",
    "l2_python_map = list(map(square, l))\n",
    "\n",
    "assert(all(x==square(y) for x,y in zip(l2_python_map, l)))"
   ]
  },
  {
   "cell_type": "markdown",
   "id": "fbf7ad72",
   "metadata": {},
   "source": [
    "## 2.4 Reduce <a name=\"2.4\"></a>\n",
    "\n",
    ">``` reduce(function, iterable[, initializer])```\n",
    "\n",
    ">In theory ```reduce``` executes a reducer function for array element.\n",
    "Apply function of two arguments cumulatively to the items of iterable, from left to right, so as to reduce the iterable to a single value.  It takes the first two elements of a sequence performs the operation and calculates the result then takes the third element and performs the operation with the result of the first two and so on.\n"
   ]
  },
  {
   "cell_type": "code",
   "execution_count": null,
   "id": "aa7f46fe",
   "metadata": {},
   "outputs": [],
   "source": [
    "from functools import reduce\n",
    "?reduce"
   ]
  },
  {
   "cell_type": "markdown",
   "id": "27cf2fc1",
   "metadata": {},
   "source": [
    "![alt text](images/reduce1.png)"
   ]
  },
  {
   "cell_type": "markdown",
   "id": "f0948e1b",
   "metadata": {},
   "source": [
    "![alt text](images/reduce2.png)"
   ]
  },
  {
   "cell_type": "markdown",
   "id": "1387193f",
   "metadata": {},
   "source": [
    "![alt text](images/reduce3.png)"
   ]
  },
  {
   "cell_type": "markdown",
   "id": "987b65f8",
   "metadata": {},
   "source": [
    "![alt text](images/reduce4.png)"
   ]
  },
  {
   "cell_type": "markdown",
   "id": "48cbc05a",
   "metadata": {},
   "source": [
    "<b>Example</b>\n",
    "Let's test the reduce function (implemented in the ```functools```) where the reduction function is the addition on the list [1, 2, 3, 4]. \n",
    "\n",
    "Therefore, we can compute the sum of the list [1, 2, 3, 4]. \n",
    "\n",
    "\n",
    "reduce(lambda x, y: x+y, [1, 2, 3, 4]) calculates ((((1+2)+3)+4)). The left argument, x, is the accumulated value and the right argument, y, is the updated value from the iterable."
   ]
  },
  {
   "cell_type": "code",
   "execution_count": null,
   "id": "fecf2f51",
   "metadata": {},
   "outputs": [],
   "source": [
    "result = reduce(lambda x, y: x+y, [1, 2, 3, 4]) \n",
    "print(result)"
   ]
  },
  {
   "cell_type": "markdown",
   "id": "68675770",
   "metadata": {},
   "source": [
    "NB: you can initialize the addition to any number like shown in the next cell: "
   ]
  },
  {
   "cell_type": "code",
   "execution_count": null,
   "id": "0316d910",
   "metadata": {},
   "outputs": [],
   "source": [
    "result = reduce(lambda x, y: x+y, [1, 2, 3, 4], 10) \n",
    "print(result)\n",
    "result = reduce(lambda x, y: x+y, [1, 2, 3, 4], 100) \n",
    "print(result)"
   ]
  },
  {
   "cell_type": "markdown",
   "id": "d4b4cf01",
   "metadata": {},
   "source": [
    "### Exercice 6 : Multiply elements of a list\n",
    "Write a piece of code that compute the multiplication of all elements of a list. "
   ]
  },
  {
   "cell_type": "code",
   "execution_count": null,
   "id": "12f95ce6",
   "metadata": {},
   "outputs": [],
   "source": [
    "# %load correction/course/multiplied_list.py"
   ]
  },
  {
   "cell_type": "code",
   "execution_count": null,
   "id": "f6d746b3",
   "metadata": {},
   "outputs": [],
   "source": [
    "multiplied_list"
   ]
  },
  {
   "cell_type": "markdown",
   "id": "4b4cbb4b",
   "metadata": {},
   "source": [
    "### Exercice 7: Coding your own reduce function"
   ]
  },
  {
   "cell_type": "markdown",
   "id": "60fb25d1",
   "metadata": {},
   "source": [
    "💪 The goal of this exercice is to write down a ```my_reduce``` function that takes as input a list of element, a reduce function ```f``` and an initial value for the reduction mechanism."
   ]
  },
  {
   "cell_type": "code",
   "execution_count": null,
   "id": "f27e3cd8",
   "metadata": {},
   "outputs": [],
   "source": [
    "from typing import List, Iterable\n",
    "# write a reduce function working with a list\n",
    "def my_reduce_list(list_: List, function, initializer):\n",
    "    pass"
   ]
  },
  {
   "cell_type": "code",
   "execution_count": null,
   "id": "24bce8a2",
   "metadata": {},
   "outputs": [],
   "source": [
    "# %load correction/course/my_reduce.py"
   ]
  },
  {
   "cell_type": "code",
   "execution_count": null,
   "id": "226b1b74",
   "metadata": {},
   "outputs": [],
   "source": [
    "def sum_xy(x, y):\n",
    "    return x+y\n",
    "sum_list = my_reduce_list(l, sum_xy, None)\n",
    "sum_list"
   ]
  },
  {
   "cell_type": "code",
   "execution_count": null,
   "id": "0fc33fca",
   "metadata": {},
   "outputs": [],
   "source": [
    "def sum_xy(x, y):\n",
    "    return x+y\n",
    "sum_list = my_reduce_list(l, sum_xy, None)\n",
    "sum_functools = reduce(sum_xy, l)\n",
    "print(sum_list, \"using my_reduce_list\")\n",
    "print(sum_functools, \"using the reduce from functools\")\n",
    "print(sum(l), \"using the sum built-in\")"
   ]
  },
  {
   "cell_type": "markdown",
   "id": "55c14e2a",
   "metadata": {},
   "source": [
    "### Exercise 8: Concatenate characters into a string.\n",
    "\n",
    "💪 Using any reduce function previously used, the goal is to create the string \"cybersecurityairbus\" from the following list of characters."
   ]
  },
  {
   "cell_type": "code",
   "execution_count": null,
   "id": "70d84ef5",
   "metadata": {},
   "outputs": [],
   "source": [
    "list_of_characters = [\"c\", \"y\", \"b\", \"e\", \"r\", \n",
    "                      \"s\", \"e\", \"c\", \"u\", \"r\", \"i\", \"t\", \"y\", \n",
    "                      \"a\", \"i\", \"r\", \"b\", \"u\", \"s\"]"
   ]
  },
  {
   "cell_type": "code",
   "execution_count": null,
   "id": "7e63ea2e",
   "metadata": {},
   "outputs": [],
   "source": [
    "string = None \n",
    "print(string)"
   ]
  },
  {
   "cell_type": "code",
   "execution_count": null,
   "id": "0ef53ffe",
   "metadata": {},
   "outputs": [],
   "source": [
    "# %load correction/course/concatenate_string.py"
   ]
  },
  {
   "cell_type": "markdown",
   "id": "3f678f81",
   "metadata": {},
   "source": [
    "You have now all the basics to play with functionnal programming !"
   ]
  },
  {
   "cell_type": "markdown",
   "id": "700a8c53",
   "metadata": {},
   "source": [
    "# Conclusion <a name=\"conclusion\"></a>"
   ]
  },
  {
   "cell_type": "markdown",
   "id": "20bc1a4a",
   "metadata": {},
   "source": [
    "You should remember few principles, that can be usefull in python : \n",
    "- manipulate function as any object\n",
    "- \"lazy\" function coding using lambda functions\n",
    "- recursion principles\n",
    "- higher order function : function as argument of other function\n",
    "- map, reduce philosophy : apply function on iterables in a concise manner with for loops, possibility to be parallized.\n",
    "\n",
    "However it is also important to remember that python is not the best functional programming language, notably because the recursion is not well handled compared to pure FP language like Haskell or Ocaml. Its usage should be justified and have some advantages over the other possible implementation (clarity, debugging, performance).\n",
    "\n",
    "To go further, you can train yourself by solving the [Hacking mystery](./Hacking%20mystery.ipynb) and send us your resulting notebook for review."
   ]
  }
 ],
 "metadata": {
  "kernelspec": {
   "display_name": "Python 3 (ipykernel)",
   "language": "python",
   "name": "python3"
  },
  "language_info": {
   "codemirror_mode": {
    "name": "ipython",
    "version": 3
   },
   "file_extension": ".py",
   "mimetype": "text/x-python",
   "name": "python",
   "nbconvert_exporter": "python",
   "pygments_lexer": "ipython3",
   "version": "3.8.13"
  }
 },
 "nbformat": 4,
 "nbformat_minor": 5
}
